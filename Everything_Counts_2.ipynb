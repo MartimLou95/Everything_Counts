{
 "cells": [
  {
   "cell_type": "markdown",
   "id": "44e7901f-8d15-4f48-ad3b-2decb0a9301c",
   "metadata": {},
   "source": [
    "# Is GDP per capita the best predictor of citizen happiness?\n",
    "\n",
    "## Introduction - The World Happiness Report from 2015 to 2019\n",
    "\n",
    "Happiness is not the only goal in life, but for many people, it is the most important one ([Benjamin et al. 2012](https://www.annualreviews.org/content/journals/10.1146/annurev-psych-022423-030818#right-ref-B7)). For example, in a recent survey, thousands of people across nine nations were asked whether they would prefer a happy life, a meaningful life, or a psychologically rich life, filled with novelty and variety ([Oishi et al. 2020](https://www.annualreviews.org/content/journals/10.1146/annurev-psych-022423-030818#right-ref-B73)). In every nation, from India and Angola to the United States and Norway, the majority of people chose a *happy life*. This common quest for a happy life can potentially be guided by scientific studies examining the determinants of happiness - The World Happiness Report is one of them.\n",
    "\n",
    "This dataset explores global happiness metrics for the years 2015 to 2019 according to The World Happiness Report, providing insights into factors influencing happiness across countries. \n",
    "\n",
    "As we'll see soon, key indicators in this report include GDP per Capita, Family Support, Life Expectancy, Freedom (to make life choices), Generosity, and Trust in Government. \n",
    "\n",
    "## Context\n",
    "\n",
    "The World Happiness Report is a landmark survey of the state of global happiness. \n",
    "\n",
    "The report continues to gain global recognition as governments, organizations and civil society increasingly use happiness indicators to inform their policy-making decisions. \n",
    "\n",
    "The happiness scores and rankings use data from the Gallup World Poll. \n",
    "\n",
    "The scores are based on answers to the main life evaluation question asked in the poll. \n",
    "\n",
    "This question, known as the Cantril ladder, asks respondents to think of a ladder with the best possible life for them being a 10 and the worst possible life being a 0 and to rate their own current lives on that scale. \n",
    "\n",
    "The scores are from nationally representative samples and use the Gallup weights to make the estimates representative. The columns following the happiness score estimate the extent to which each of six factors – economic production, social support, life expectancy, freedom, absence of corruption, and generosity – contribute to making life evaluations higher in each country.\n",
    "\n",
    "For the purpose of this analysis, I aim to investigate the relationships between these metrics and overall happiness scores, testing this GDP hypothesis and uncovering some correlations and trends. \n",
    "\n",
    "---\n",
    "\n",
    "The first step I want to start with is to load and consolidate the 5 datasets corresponding to the period between 2015 and 2019 into a single dataframe. \n",
    "\n",
    "This ensures that we can work with a unified structure across years, making analysis and comparisons consistent and efficient.\n",
    "\n",
    "Consolidating the data also allows us to standardise column names and handle variations in the dataset formats, enabling streamlined statistical and visual analysis in the next steps."
   ]
  },
  {
   "cell_type": "code",
   "execution_count": 105,
   "id": "5e4b7d77-e011-4bb3-8c69-15630d02245c",
   "metadata": {},
   "outputs": [
    {
     "name": "stdout",
     "output_type": "stream",
     "text": [
      "<class 'pandas.core.frame.DataFrame'>\n",
      "RangeIndex: 782 entries, 0 to 781\n",
      "Data columns (total 19 columns):\n",
      " #   Column                     Non-Null Count  Dtype  \n",
      "---  ------                     --------------  -----  \n",
      " 0   Country                    470 non-null    object \n",
      " 1   Region                     315 non-null    object \n",
      " 2   Happiness Rank             782 non-null    int64  \n",
      " 3   Happiness Score            782 non-null    float64\n",
      " 4   Standard Error             158 non-null    float64\n",
      " 5   GDP per capita             782 non-null    float64\n",
      " 6   Family                     782 non-null    float64\n",
      " 7   Life Expectancy            782 non-null    float64\n",
      " 8   Freedom                    782 non-null    float64\n",
      " 9   Trust in Government        781 non-null    float64\n",
      " 10  Generosity                 782 non-null    float64\n",
      " 11  Dystopia Residual          315 non-null    float64\n",
      " 12  Year                       782 non-null    int64  \n",
      " 13  Lower Confidence Interval  157 non-null    float64\n",
      " 14  Upper Confidence Interval  157 non-null    float64\n",
      " 15  Whisker.high               155 non-null    float64\n",
      " 16  Whisker.low                155 non-null    float64\n",
      " 17  Dystopia.Residual          155 non-null    float64\n",
      " 18  Country or region          312 non-null    object \n",
      "dtypes: float64(14), int64(2), object(3)\n",
      "memory usage: 116.2+ KB\n"
     ]
    },
    {
     "data": {
      "text/html": [
       "<div>\n",
       "<style scoped>\n",
       "    .dataframe tbody tr th:only-of-type {\n",
       "        vertical-align: middle;\n",
       "    }\n",
       "\n",
       "    .dataframe tbody tr th {\n",
       "        vertical-align: top;\n",
       "    }\n",
       "\n",
       "    .dataframe thead th {\n",
       "        text-align: right;\n",
       "    }\n",
       "</style>\n",
       "<table border=\"1\" class=\"dataframe\">\n",
       "  <thead>\n",
       "    <tr style=\"text-align: right;\">\n",
       "      <th></th>\n",
       "      <th>Country</th>\n",
       "      <th>Region</th>\n",
       "      <th>Happiness Rank</th>\n",
       "      <th>Happiness Score</th>\n",
       "      <th>Standard Error</th>\n",
       "      <th>GDP per capita</th>\n",
       "      <th>Family</th>\n",
       "      <th>Life Expectancy</th>\n",
       "      <th>Freedom</th>\n",
       "      <th>Trust in Government</th>\n",
       "      <th>Generosity</th>\n",
       "      <th>Dystopia Residual</th>\n",
       "      <th>Year</th>\n",
       "      <th>Lower Confidence Interval</th>\n",
       "      <th>Upper Confidence Interval</th>\n",
       "      <th>Whisker.high</th>\n",
       "      <th>Whisker.low</th>\n",
       "      <th>Dystopia.Residual</th>\n",
       "      <th>Country or region</th>\n",
       "    </tr>\n",
       "  </thead>\n",
       "  <tbody>\n",
       "    <tr>\n",
       "      <th>0</th>\n",
       "      <td>Switzerland</td>\n",
       "      <td>Western Europe</td>\n",
       "      <td>1</td>\n",
       "      <td>7.587</td>\n",
       "      <td>0.03411</td>\n",
       "      <td>1.39651</td>\n",
       "      <td>1.34951</td>\n",
       "      <td>0.94143</td>\n",
       "      <td>0.66557</td>\n",
       "      <td>0.41978</td>\n",
       "      <td>0.29678</td>\n",
       "      <td>2.51738</td>\n",
       "      <td>2015</td>\n",
       "      <td>NaN</td>\n",
       "      <td>NaN</td>\n",
       "      <td>NaN</td>\n",
       "      <td>NaN</td>\n",
       "      <td>NaN</td>\n",
       "      <td>NaN</td>\n",
       "    </tr>\n",
       "    <tr>\n",
       "      <th>1</th>\n",
       "      <td>Iceland</td>\n",
       "      <td>Western Europe</td>\n",
       "      <td>2</td>\n",
       "      <td>7.561</td>\n",
       "      <td>0.04884</td>\n",
       "      <td>1.30232</td>\n",
       "      <td>1.40223</td>\n",
       "      <td>0.94784</td>\n",
       "      <td>0.62877</td>\n",
       "      <td>0.14145</td>\n",
       "      <td>0.43630</td>\n",
       "      <td>2.70201</td>\n",
       "      <td>2015</td>\n",
       "      <td>NaN</td>\n",
       "      <td>NaN</td>\n",
       "      <td>NaN</td>\n",
       "      <td>NaN</td>\n",
       "      <td>NaN</td>\n",
       "      <td>NaN</td>\n",
       "    </tr>\n",
       "    <tr>\n",
       "      <th>2</th>\n",
       "      <td>Denmark</td>\n",
       "      <td>Western Europe</td>\n",
       "      <td>3</td>\n",
       "      <td>7.527</td>\n",
       "      <td>0.03328</td>\n",
       "      <td>1.32548</td>\n",
       "      <td>1.36058</td>\n",
       "      <td>0.87464</td>\n",
       "      <td>0.64938</td>\n",
       "      <td>0.48357</td>\n",
       "      <td>0.34139</td>\n",
       "      <td>2.49204</td>\n",
       "      <td>2015</td>\n",
       "      <td>NaN</td>\n",
       "      <td>NaN</td>\n",
       "      <td>NaN</td>\n",
       "      <td>NaN</td>\n",
       "      <td>NaN</td>\n",
       "      <td>NaN</td>\n",
       "    </tr>\n",
       "    <tr>\n",
       "      <th>3</th>\n",
       "      <td>Norway</td>\n",
       "      <td>Western Europe</td>\n",
       "      <td>4</td>\n",
       "      <td>7.522</td>\n",
       "      <td>0.03880</td>\n",
       "      <td>1.45900</td>\n",
       "      <td>1.33095</td>\n",
       "      <td>0.88521</td>\n",
       "      <td>0.66973</td>\n",
       "      <td>0.36503</td>\n",
       "      <td>0.34699</td>\n",
       "      <td>2.46531</td>\n",
       "      <td>2015</td>\n",
       "      <td>NaN</td>\n",
       "      <td>NaN</td>\n",
       "      <td>NaN</td>\n",
       "      <td>NaN</td>\n",
       "      <td>NaN</td>\n",
       "      <td>NaN</td>\n",
       "    </tr>\n",
       "    <tr>\n",
       "      <th>4</th>\n",
       "      <td>Canada</td>\n",
       "      <td>North America</td>\n",
       "      <td>5</td>\n",
       "      <td>7.427</td>\n",
       "      <td>0.03553</td>\n",
       "      <td>1.32629</td>\n",
       "      <td>1.32261</td>\n",
       "      <td>0.90563</td>\n",
       "      <td>0.63297</td>\n",
       "      <td>0.32957</td>\n",
       "      <td>0.45811</td>\n",
       "      <td>2.45176</td>\n",
       "      <td>2015</td>\n",
       "      <td>NaN</td>\n",
       "      <td>NaN</td>\n",
       "      <td>NaN</td>\n",
       "      <td>NaN</td>\n",
       "      <td>NaN</td>\n",
       "      <td>NaN</td>\n",
       "    </tr>\n",
       "    <tr>\n",
       "      <th>5</th>\n",
       "      <td>Finland</td>\n",
       "      <td>Western Europe</td>\n",
       "      <td>6</td>\n",
       "      <td>7.406</td>\n",
       "      <td>0.03140</td>\n",
       "      <td>1.29025</td>\n",
       "      <td>1.31826</td>\n",
       "      <td>0.88911</td>\n",
       "      <td>0.64169</td>\n",
       "      <td>0.41372</td>\n",
       "      <td>0.23351</td>\n",
       "      <td>2.61955</td>\n",
       "      <td>2015</td>\n",
       "      <td>NaN</td>\n",
       "      <td>NaN</td>\n",
       "      <td>NaN</td>\n",
       "      <td>NaN</td>\n",
       "      <td>NaN</td>\n",
       "      <td>NaN</td>\n",
       "    </tr>\n",
       "    <tr>\n",
       "      <th>6</th>\n",
       "      <td>Netherlands</td>\n",
       "      <td>Western Europe</td>\n",
       "      <td>7</td>\n",
       "      <td>7.378</td>\n",
       "      <td>0.02799</td>\n",
       "      <td>1.32944</td>\n",
       "      <td>1.28017</td>\n",
       "      <td>0.89284</td>\n",
       "      <td>0.61576</td>\n",
       "      <td>0.31814</td>\n",
       "      <td>0.47610</td>\n",
       "      <td>2.46570</td>\n",
       "      <td>2015</td>\n",
       "      <td>NaN</td>\n",
       "      <td>NaN</td>\n",
       "      <td>NaN</td>\n",
       "      <td>NaN</td>\n",
       "      <td>NaN</td>\n",
       "      <td>NaN</td>\n",
       "    </tr>\n",
       "    <tr>\n",
       "      <th>7</th>\n",
       "      <td>Sweden</td>\n",
       "      <td>Western Europe</td>\n",
       "      <td>8</td>\n",
       "      <td>7.364</td>\n",
       "      <td>0.03157</td>\n",
       "      <td>1.33171</td>\n",
       "      <td>1.28907</td>\n",
       "      <td>0.91087</td>\n",
       "      <td>0.65980</td>\n",
       "      <td>0.43844</td>\n",
       "      <td>0.36262</td>\n",
       "      <td>2.37119</td>\n",
       "      <td>2015</td>\n",
       "      <td>NaN</td>\n",
       "      <td>NaN</td>\n",
       "      <td>NaN</td>\n",
       "      <td>NaN</td>\n",
       "      <td>NaN</td>\n",
       "      <td>NaN</td>\n",
       "    </tr>\n",
       "    <tr>\n",
       "      <th>8</th>\n",
       "      <td>New Zealand</td>\n",
       "      <td>Australia and New Zealand</td>\n",
       "      <td>9</td>\n",
       "      <td>7.286</td>\n",
       "      <td>0.03371</td>\n",
       "      <td>1.25018</td>\n",
       "      <td>1.31967</td>\n",
       "      <td>0.90837</td>\n",
       "      <td>0.63938</td>\n",
       "      <td>0.42922</td>\n",
       "      <td>0.47501</td>\n",
       "      <td>2.26425</td>\n",
       "      <td>2015</td>\n",
       "      <td>NaN</td>\n",
       "      <td>NaN</td>\n",
       "      <td>NaN</td>\n",
       "      <td>NaN</td>\n",
       "      <td>NaN</td>\n",
       "      <td>NaN</td>\n",
       "    </tr>\n",
       "    <tr>\n",
       "      <th>9</th>\n",
       "      <td>Australia</td>\n",
       "      <td>Australia and New Zealand</td>\n",
       "      <td>10</td>\n",
       "      <td>7.284</td>\n",
       "      <td>0.04083</td>\n",
       "      <td>1.33358</td>\n",
       "      <td>1.30923</td>\n",
       "      <td>0.93156</td>\n",
       "      <td>0.65124</td>\n",
       "      <td>0.35637</td>\n",
       "      <td>0.43562</td>\n",
       "      <td>2.26646</td>\n",
       "      <td>2015</td>\n",
       "      <td>NaN</td>\n",
       "      <td>NaN</td>\n",
       "      <td>NaN</td>\n",
       "      <td>NaN</td>\n",
       "      <td>NaN</td>\n",
       "      <td>NaN</td>\n",
       "    </tr>\n",
       "  </tbody>\n",
       "</table>\n",
       "</div>"
      ],
      "text/plain": [
       "       Country                     Region  Happiness Rank  Happiness Score  \\\n",
       "0  Switzerland             Western Europe               1            7.587   \n",
       "1      Iceland             Western Europe               2            7.561   \n",
       "2      Denmark             Western Europe               3            7.527   \n",
       "3       Norway             Western Europe               4            7.522   \n",
       "4       Canada              North America               5            7.427   \n",
       "5      Finland             Western Europe               6            7.406   \n",
       "6  Netherlands             Western Europe               7            7.378   \n",
       "7       Sweden             Western Europe               8            7.364   \n",
       "8  New Zealand  Australia and New Zealand               9            7.286   \n",
       "9    Australia  Australia and New Zealand              10            7.284   \n",
       "\n",
       "   Standard Error  GDP per capita   Family  Life Expectancy  Freedom  \\\n",
       "0         0.03411         1.39651  1.34951          0.94143  0.66557   \n",
       "1         0.04884         1.30232  1.40223          0.94784  0.62877   \n",
       "2         0.03328         1.32548  1.36058          0.87464  0.64938   \n",
       "3         0.03880         1.45900  1.33095          0.88521  0.66973   \n",
       "4         0.03553         1.32629  1.32261          0.90563  0.63297   \n",
       "5         0.03140         1.29025  1.31826          0.88911  0.64169   \n",
       "6         0.02799         1.32944  1.28017          0.89284  0.61576   \n",
       "7         0.03157         1.33171  1.28907          0.91087  0.65980   \n",
       "8         0.03371         1.25018  1.31967          0.90837  0.63938   \n",
       "9         0.04083         1.33358  1.30923          0.93156  0.65124   \n",
       "\n",
       "   Trust in Government  Generosity  Dystopia Residual  Year  \\\n",
       "0              0.41978     0.29678            2.51738  2015   \n",
       "1              0.14145     0.43630            2.70201  2015   \n",
       "2              0.48357     0.34139            2.49204  2015   \n",
       "3              0.36503     0.34699            2.46531  2015   \n",
       "4              0.32957     0.45811            2.45176  2015   \n",
       "5              0.41372     0.23351            2.61955  2015   \n",
       "6              0.31814     0.47610            2.46570  2015   \n",
       "7              0.43844     0.36262            2.37119  2015   \n",
       "8              0.42922     0.47501            2.26425  2015   \n",
       "9              0.35637     0.43562            2.26646  2015   \n",
       "\n",
       "   Lower Confidence Interval  Upper Confidence Interval  Whisker.high  \\\n",
       "0                        NaN                        NaN           NaN   \n",
       "1                        NaN                        NaN           NaN   \n",
       "2                        NaN                        NaN           NaN   \n",
       "3                        NaN                        NaN           NaN   \n",
       "4                        NaN                        NaN           NaN   \n",
       "5                        NaN                        NaN           NaN   \n",
       "6                        NaN                        NaN           NaN   \n",
       "7                        NaN                        NaN           NaN   \n",
       "8                        NaN                        NaN           NaN   \n",
       "9                        NaN                        NaN           NaN   \n",
       "\n",
       "   Whisker.low  Dystopia.Residual Country or region  \n",
       "0          NaN                NaN               NaN  \n",
       "1          NaN                NaN               NaN  \n",
       "2          NaN                NaN               NaN  \n",
       "3          NaN                NaN               NaN  \n",
       "4          NaN                NaN               NaN  \n",
       "5          NaN                NaN               NaN  \n",
       "6          NaN                NaN               NaN  \n",
       "7          NaN                NaN               NaN  \n",
       "8          NaN                NaN               NaN  \n",
       "9          NaN                NaN               NaN  "
      ]
     },
     "execution_count": 105,
     "metadata": {},
     "output_type": "execute_result"
    }
   ],
   "source": [
    "# Step 1: Load and Consolidate Data\n",
    "\n",
    "import pandas as pd\n",
    "import matplotlib.pyplot as plt\n",
    "import seaborn as sns\n",
    "import statsmodels.stats.weightstats as st\n",
    "import pingouin as pg\n",
    "import math\n",
    "import plotly.express as px\n",
    "\n",
    "# Define file paths and corresponding years\n",
    "file_paths = {\n",
    "    2015: \"/home/jovyan/Everything Counts Assignments/2015.csv\",\n",
    "    2016: \"/home/jovyan/Everything Counts Assignments/2016.csv\",\n",
    "    2017: \"/home/jovyan/Everything Counts Assignments/2017.csv\",\n",
    "    2018: \"/home/jovyan/Everything Counts Assignments/2018.csv\",\n",
    "    2019: \"/home/jovyan/Everything Counts Assignments/2019.csv\"\n",
    "}\n",
    "\n",
    "# Load datasets into a dictionary\n",
    "dataframes = {}\n",
    "\n",
    "for year, path in file_paths.items():\n",
    "    df = pd.read_csv(path)\n",
    "    dataframes[year] = df\n",
    "\n",
    "# Standardise column names\n",
    "rename_mappings = {\n",
    "    2015: {\n",
    "        \"Economy (GDP per Capita)\": \"GDP per capita\",\n",
    "        \"Health (Life Expectancy)\": \"Life Expectancy\",\n",
    "        \"Trust (Government Corruption)\": \"Trust in Government\",\n",
    "    },\n",
    "    2016: {\n",
    "        \"Economy (GDP per Capita)\": \"GDP per capita\",\n",
    "        \"Health (Life Expectancy)\": \"Life Expectancy\",\n",
    "        \"Trust (Government Corruption)\": \"Trust in Government\",\n",
    "    },\n",
    "    2017: {\n",
    "        \"Happiness.Rank\": \"Happiness Rank\",\n",
    "        \"Happiness.Score\": \"Happiness Score\",\n",
    "        \"Economy..GDP.per.Capita.\": \"GDP per capita\",\n",
    "        \"Health..Life.Expectancy.\": \"Life Expectancy\",\n",
    "        \"Trust..Government.Corruption.\": \"Trust in Government\",\n",
    "    },\n",
    "    2018: {\n",
    "        \"Overall rank\": \"Happiness Rank\",\n",
    "        \"Score\": \"Happiness Score\",\n",
    "        \"Healthy life expectancy\": \"Life Expectancy\",\n",
    "        \"Perceptions of corruption\": \"Trust in Government\",\n",
    "        \"Social support\": \"Family\",\n",
    "        \"Freedom to make life choices\": \"Freedom\"\n",
    "    },\n",
    "    2019: {\n",
    "        \"Overall rank\": \"Happiness Rank\",\n",
    "        \"Score\": \"Happiness Score\",\n",
    "        \"Healthy life expectancy\": \"Life Expectancy\",\n",
    "        \"Perceptions of corruption\": \"Trust in Government\",\n",
    "        \"Social support\": \"Family\",\n",
    "        \"Freedom to make life choices\": \"Freedom\"\n",
    "    }\n",
    "}\n",
    "\n",
    "for year, df in dataframes.items():\n",
    "    df.rename(columns=rename_mappings[year], inplace=True)\n",
    "\n",
    "# Add a 'Year' column\n",
    "for year, df in dataframes.items():\n",
    "    df['Year'] = year\n",
    "\n",
    "# Combine datasets\n",
    "combined_df = pd.concat(dataframes.values(), ignore_index=True)\n",
    "\n",
    "# Display the consolidated dataframe's structure\n",
    "combined_df.info()\n",
    "\n",
    "# Preview the first 10 rows to get a Top 10 Happiness Ranking for 2015\n",
    "combined_df.head(10)"
   ]
  },
  {
   "cell_type": "markdown",
   "id": "e282f65a-81c3-470c-90ba-6065b763d5c8",
   "metadata": {},
   "source": [
    "All datasets have now been standardised to include consistent column names, and a `Year` column has been added for temporal context. \n",
    "\n",
    "The merged structure ensures that we have more data to analyse and can even compare metrics across years.\n",
    "\n",
    "A quick look at the first few rows shows that most key metrics like 'GDP per capita', 'Life Expectancy', and 'Freedom' are well-represented without any significant missing values.\n",
    "\n",
    "However, to make sure we don't have values of 0 in the dataset affecting future statistics, I'll change any 0 values to NaN before beginning data analysis.\n",
    "\n",
    "We can also see that there are many columns with irrelevant information such as 'Standard Error' and 'Whisker.high'.\n",
    "\n",
    "So, before we summarise distributions and trends for key metrics, let's change any 0 values to NaN and drop irrelevant columns."
   ]
  },
  {
   "cell_type": "code",
   "execution_count": 106,
   "id": "28faa58f-5e66-4c23-bd36-97fd26c7f42d",
   "metadata": {},
   "outputs": [
    {
     "data": {
      "text/html": [
       "<div>\n",
       "<style scoped>\n",
       "    .dataframe tbody tr th:only-of-type {\n",
       "        vertical-align: middle;\n",
       "    }\n",
       "\n",
       "    .dataframe tbody tr th {\n",
       "        vertical-align: top;\n",
       "    }\n",
       "\n",
       "    .dataframe thead th {\n",
       "        text-align: right;\n",
       "    }\n",
       "</style>\n",
       "<table border=\"1\" class=\"dataframe\">\n",
       "  <thead>\n",
       "    <tr style=\"text-align: right;\">\n",
       "      <th></th>\n",
       "      <th>Country</th>\n",
       "      <th>Region</th>\n",
       "      <th>Happiness Rank</th>\n",
       "      <th>Happiness Score</th>\n",
       "      <th>GDP per capita</th>\n",
       "      <th>Family</th>\n",
       "      <th>Life Expectancy</th>\n",
       "      <th>Freedom</th>\n",
       "      <th>Trust in Government</th>\n",
       "      <th>Generosity</th>\n",
       "      <th>Year</th>\n",
       "    </tr>\n",
       "  </thead>\n",
       "  <tbody>\n",
       "    <tr>\n",
       "      <th>0</th>\n",
       "      <td>Switzerland</td>\n",
       "      <td>Western Europe</td>\n",
       "      <td>1</td>\n",
       "      <td>7.587</td>\n",
       "      <td>1.39651</td>\n",
       "      <td>1.34951</td>\n",
       "      <td>0.94143</td>\n",
       "      <td>0.66557</td>\n",
       "      <td>0.41978</td>\n",
       "      <td>0.29678</td>\n",
       "      <td>2015</td>\n",
       "    </tr>\n",
       "    <tr>\n",
       "      <th>1</th>\n",
       "      <td>Iceland</td>\n",
       "      <td>Western Europe</td>\n",
       "      <td>2</td>\n",
       "      <td>7.561</td>\n",
       "      <td>1.30232</td>\n",
       "      <td>1.40223</td>\n",
       "      <td>0.94784</td>\n",
       "      <td>0.62877</td>\n",
       "      <td>0.14145</td>\n",
       "      <td>0.4363</td>\n",
       "      <td>2015</td>\n",
       "    </tr>\n",
       "    <tr>\n",
       "      <th>2</th>\n",
       "      <td>Denmark</td>\n",
       "      <td>Western Europe</td>\n",
       "      <td>3</td>\n",
       "      <td>7.527</td>\n",
       "      <td>1.32548</td>\n",
       "      <td>1.36058</td>\n",
       "      <td>0.87464</td>\n",
       "      <td>0.64938</td>\n",
       "      <td>0.48357</td>\n",
       "      <td>0.34139</td>\n",
       "      <td>2015</td>\n",
       "    </tr>\n",
       "    <tr>\n",
       "      <th>3</th>\n",
       "      <td>Norway</td>\n",
       "      <td>Western Europe</td>\n",
       "      <td>4</td>\n",
       "      <td>7.522</td>\n",
       "      <td>1.459</td>\n",
       "      <td>1.33095</td>\n",
       "      <td>0.88521</td>\n",
       "      <td>0.66973</td>\n",
       "      <td>0.36503</td>\n",
       "      <td>0.34699</td>\n",
       "      <td>2015</td>\n",
       "    </tr>\n",
       "    <tr>\n",
       "      <th>4</th>\n",
       "      <td>Canada</td>\n",
       "      <td>North America</td>\n",
       "      <td>5</td>\n",
       "      <td>7.427</td>\n",
       "      <td>1.32629</td>\n",
       "      <td>1.32261</td>\n",
       "      <td>0.90563</td>\n",
       "      <td>0.63297</td>\n",
       "      <td>0.32957</td>\n",
       "      <td>0.45811</td>\n",
       "      <td>2015</td>\n",
       "    </tr>\n",
       "    <tr>\n",
       "      <th>5</th>\n",
       "      <td>Finland</td>\n",
       "      <td>Western Europe</td>\n",
       "      <td>6</td>\n",
       "      <td>7.406</td>\n",
       "      <td>1.29025</td>\n",
       "      <td>1.31826</td>\n",
       "      <td>0.88911</td>\n",
       "      <td>0.64169</td>\n",
       "      <td>0.41372</td>\n",
       "      <td>0.23351</td>\n",
       "      <td>2015</td>\n",
       "    </tr>\n",
       "    <tr>\n",
       "      <th>6</th>\n",
       "      <td>Netherlands</td>\n",
       "      <td>Western Europe</td>\n",
       "      <td>7</td>\n",
       "      <td>7.378</td>\n",
       "      <td>1.32944</td>\n",
       "      <td>1.28017</td>\n",
       "      <td>0.89284</td>\n",
       "      <td>0.61576</td>\n",
       "      <td>0.31814</td>\n",
       "      <td>0.4761</td>\n",
       "      <td>2015</td>\n",
       "    </tr>\n",
       "    <tr>\n",
       "      <th>7</th>\n",
       "      <td>Sweden</td>\n",
       "      <td>Western Europe</td>\n",
       "      <td>8</td>\n",
       "      <td>7.364</td>\n",
       "      <td>1.33171</td>\n",
       "      <td>1.28907</td>\n",
       "      <td>0.91087</td>\n",
       "      <td>0.6598</td>\n",
       "      <td>0.43844</td>\n",
       "      <td>0.36262</td>\n",
       "      <td>2015</td>\n",
       "    </tr>\n",
       "    <tr>\n",
       "      <th>8</th>\n",
       "      <td>New Zealand</td>\n",
       "      <td>Australia and New Zealand</td>\n",
       "      <td>9</td>\n",
       "      <td>7.286</td>\n",
       "      <td>1.25018</td>\n",
       "      <td>1.31967</td>\n",
       "      <td>0.90837</td>\n",
       "      <td>0.63938</td>\n",
       "      <td>0.42922</td>\n",
       "      <td>0.47501</td>\n",
       "      <td>2015</td>\n",
       "    </tr>\n",
       "    <tr>\n",
       "      <th>9</th>\n",
       "      <td>Australia</td>\n",
       "      <td>Australia and New Zealand</td>\n",
       "      <td>10</td>\n",
       "      <td>7.284</td>\n",
       "      <td>1.33358</td>\n",
       "      <td>1.30923</td>\n",
       "      <td>0.93156</td>\n",
       "      <td>0.65124</td>\n",
       "      <td>0.35637</td>\n",
       "      <td>0.43562</td>\n",
       "      <td>2015</td>\n",
       "    </tr>\n",
       "  </tbody>\n",
       "</table>\n",
       "</div>"
      ],
      "text/plain": [
       "       Country                     Region  Happiness Rank  Happiness Score  \\\n",
       "0  Switzerland             Western Europe               1            7.587   \n",
       "1      Iceland             Western Europe               2            7.561   \n",
       "2      Denmark             Western Europe               3            7.527   \n",
       "3       Norway             Western Europe               4            7.522   \n",
       "4       Canada              North America               5            7.427   \n",
       "5      Finland             Western Europe               6            7.406   \n",
       "6  Netherlands             Western Europe               7            7.378   \n",
       "7       Sweden             Western Europe               8            7.364   \n",
       "8  New Zealand  Australia and New Zealand               9            7.286   \n",
       "9    Australia  Australia and New Zealand              10            7.284   \n",
       "\n",
       "  GDP per capita   Family Life Expectancy  Freedom Trust in Government  \\\n",
       "0        1.39651  1.34951         0.94143  0.66557             0.41978   \n",
       "1        1.30232  1.40223         0.94784  0.62877             0.14145   \n",
       "2        1.32548  1.36058         0.87464  0.64938             0.48357   \n",
       "3          1.459  1.33095         0.88521  0.66973             0.36503   \n",
       "4        1.32629  1.32261         0.90563  0.63297             0.32957   \n",
       "5        1.29025  1.31826         0.88911  0.64169             0.41372   \n",
       "6        1.32944  1.28017         0.89284  0.61576             0.31814   \n",
       "7        1.33171  1.28907         0.91087   0.6598             0.43844   \n",
       "8        1.25018  1.31967         0.90837  0.63938             0.42922   \n",
       "9        1.33358  1.30923         0.93156  0.65124             0.35637   \n",
       "\n",
       "  Generosity  Year  \n",
       "0    0.29678  2015  \n",
       "1     0.4363  2015  \n",
       "2    0.34139  2015  \n",
       "3    0.34699  2015  \n",
       "4    0.45811  2015  \n",
       "5    0.23351  2015  \n",
       "6     0.4761  2015  \n",
       "7    0.36262  2015  \n",
       "8    0.47501  2015  \n",
       "9    0.43562  2015  "
      ]
     },
     "execution_count": 106,
     "metadata": {},
     "output_type": "execute_result"
    }
   ],
   "source": [
    "# Replace values of 0 with NaN in all of the seven key metrics\n",
    "key_metrics = [\n",
    "    \"Happiness Score\", \n",
    "    \"GDP per capita\",\n",
    "    \"Family\",\n",
    "    \"Life Expectancy\",\n",
    "    \"Freedom\", \n",
    "    \"Trust in Government\", \n",
    "    \"Generosity\"\n",
    "]\n",
    "\n",
    "combined_df[key_metrics] = combined_df[key_metrics].replace(0, None)\n",
    "\n",
    "# Select non-key columns by their index number\n",
    "columns_to_drop = [4, 11, 13, 14, 15, 16, 17, 18]\n",
    "\n",
    "# Drop and update the dataframe\n",
    "cleaned_df = combined_df.drop(combined_df.columns[columns_to_drop], axis=1)\n",
    "\n",
    "# Display the resulting dataframe\n",
    "cleaned_df.head(10)"
   ]
  },
  {
   "cell_type": "markdown",
   "id": "d18c577b-d68d-4be4-bb3c-93721cdac761",
   "metadata": {},
   "source": [
    "This consolidated view lays the foundation to track statistical insight, find trends over time and test hypotheses related to the Happiness Score and its contributing factors.\n",
    "\n",
    "First, just for fun, let's have a look at Global Happiness by Region using an interactive scatter plot:"
   ]
  },
  {
   "cell_type": "code",
   "execution_count": 107,
   "id": "ee0d5e14-0140-46db-b9d1-073fa4a38479",
   "metadata": {},
   "outputs": [
    {
     "data": {
      "application/vnd.plotly.v1+json": {
       "config": {
        "plotlyServerURL": "https://plot.ly"
       },
       "data": [
        {
         "hovertemplate": "<b>%{hovertext}</b><br><br>Region=Western Europe<br>Happiness Rank=%{x}<br>Happiness Score=%{marker.size}<extra></extra>",
         "hovertext": [
          "Switzerland",
          "Iceland",
          "Denmark",
          "Norway",
          "Finland",
          "Netherlands",
          "Sweden",
          "Austria",
          "Luxembourg",
          "Ireland",
          "Belgium",
          "United Kingdom",
          "Germany",
          "France",
          "Spain",
          "Malta",
          "Italy",
          "North Cyprus",
          "Cyprus",
          "Portugal",
          "Greece",
          "Denmark",
          "Switzerland",
          "Iceland",
          "Norway",
          "Finland",
          "Netherlands",
          "Sweden",
          "Austria",
          "Germany",
          "Belgium",
          "Ireland",
          "Luxembourg",
          "United Kingdom",
          "Malta",
          "France",
          "Spain",
          "Italy",
          "North Cyprus",
          "Cyprus",
          "Portugal",
          "Greece"
         ],
         "legendgroup": "Western Europe",
         "marker": {
          "color": "#636efa",
          "size": [
           7.587,
           7.561,
           7.527,
           7.522,
           7.406,
           7.378,
           7.364,
           7.2,
           6.946,
           6.94,
           6.937,
           6.867,
           6.75,
           6.575,
           6.329,
           6.302,
           5.948,
           5.695,
           5.689,
           5.102,
           4.857,
           7.526,
           7.509,
           7.501,
           7.498,
           7.413,
           7.339,
           7.291,
           7.119,
           6.994,
           6.929,
           6.907,
           6.871,
           6.725,
           6.488,
           6.478,
           6.361,
           5.977,
           5.771,
           5.546,
           5.123,
           5.033
          ],
          "sizemode": "area",
          "sizeref": 0.0194225,
          "symbol": "circle"
         },
         "mode": "markers",
         "name": "Western Europe",
         "orientation": "v",
         "showlegend": true,
         "type": "scatter",
         "x": [
          1,
          2,
          3,
          4,
          6,
          7,
          8,
          13,
          17,
          18,
          19,
          21,
          26,
          29,
          36,
          37,
          50,
          66,
          67,
          88,
          102,
          1,
          2,
          3,
          4,
          5,
          7,
          10,
          12,
          16,
          18,
          19,
          20,
          23,
          30,
          32,
          37,
          50,
          62,
          69,
          94,
          99
         ],
         "xaxis": "x",
         "y": [
          7.587,
          7.561,
          7.527,
          7.522,
          7.406,
          7.378,
          7.364,
          7.2,
          6.946,
          6.94,
          6.937,
          6.867,
          6.75,
          6.575,
          6.329,
          6.302,
          5.948,
          5.695,
          5.689,
          5.102,
          4.857,
          7.526,
          7.509,
          7.501,
          7.498,
          7.413,
          7.339,
          7.291,
          7.119,
          6.994,
          6.929,
          6.907,
          6.871,
          6.725,
          6.488,
          6.478,
          6.361,
          5.977,
          5.771,
          5.546,
          5.123,
          5.033
         ],
         "yaxis": "y"
        },
        {
         "hovertemplate": "<b>%{hovertext}</b><br><br>Region=North America<br>Happiness Rank=%{x}<br>Happiness Score=%{marker.size}<extra></extra>",
         "hovertext": [
          "Canada",
          "United States",
          "Canada",
          "United States"
         ],
         "legendgroup": "North America",
         "marker": {
          "color": "#EF553B",
          "size": [
           7.427,
           7.119,
           7.404,
           7.104
          ],
          "sizemode": "area",
          "sizeref": 0.0194225,
          "symbol": "circle"
         },
         "mode": "markers",
         "name": "North America",
         "orientation": "v",
         "showlegend": true,
         "type": "scatter",
         "x": [
          5,
          15,
          6,
          13
         ],
         "xaxis": "x",
         "y": [
          7.427,
          7.119,
          7.404,
          7.104
         ],
         "yaxis": "y"
        },
        {
         "hovertemplate": "<b>%{hovertext}</b><br><br>Region=Australia and New Zealand<br>Happiness Rank=%{x}<br>Happiness Score=%{marker.size}<extra></extra>",
         "hovertext": [
          "New Zealand",
          "Australia",
          "New Zealand",
          "Australia"
         ],
         "legendgroup": "Australia and New Zealand",
         "marker": {
          "color": "#00cc96",
          "size": [
           7.286,
           7.284,
           7.334,
           7.313
          ],
          "sizemode": "area",
          "sizeref": 0.0194225,
          "symbol": "circle"
         },
         "mode": "markers",
         "name": "Australia and New Zealand",
         "orientation": "v",
         "showlegend": true,
         "type": "scatter",
         "x": [
          9,
          10,
          8,
          9
         ],
         "xaxis": "x",
         "y": [
          7.286,
          7.284,
          7.334,
          7.313
         ],
         "yaxis": "y"
        },
        {
         "hovertemplate": "<b>%{hovertext}</b><br><br>Region=Middle East and Northern Africa<br>Happiness Rank=%{x}<br>Happiness Score=%{marker.size}<extra></extra>",
         "hovertext": [
          "Israel",
          "United Arab Emirates",
          "Oman",
          "Qatar",
          "Saudi Arabia",
          "Kuwait",
          "Bahrain",
          "Libya",
          "Algeria",
          "Turkey",
          "Jordan",
          "Morocco",
          "Lebanon",
          "Tunisia",
          "Palestinian Territories",
          "Iran",
          "Iraq",
          "Egypt",
          "Yemen",
          "Syria",
          "Israel",
          "United Arab Emirates",
          "Saudi Arabia",
          "Qatar",
          "Algeria",
          "Kuwait",
          "Bahrain",
          "Libya",
          "Turkey",
          "Jordan",
          "Morocco",
          "Lebanon",
          "Tunisia",
          "Iran",
          "Palestinian Territories",
          "Iraq",
          "Egypt",
          "Yemen",
          "Syria"
         ],
         "legendgroup": "Middle East and Northern Africa",
         "marker": {
          "color": "#ab63fa",
          "size": [
           7.278,
           6.901,
           6.853,
           6.611,
           6.411,
           6.295,
           5.96,
           5.754,
           5.605,
           5.332,
           5.192,
           5.013,
           4.839,
           4.739,
           4.715,
           4.686,
           4.677,
           4.194,
           4.077,
           3.006,
           7.267,
           6.573,
           6.379,
           6.375,
           6.355,
           6.239,
           6.218,
           5.615,
           5.389,
           5.303,
           5.151,
           5.129,
           5.045,
           4.813,
           4.754,
           4.575,
           4.362,
           3.724,
           3.069
          ],
          "sizemode": "area",
          "sizeref": 0.0194225,
          "symbol": "circle"
         },
         "mode": "markers",
         "name": "Middle East and Northern Africa",
         "orientation": "v",
         "showlegend": true,
         "type": "scatter",
         "x": [
          11,
          20,
          22,
          28,
          35,
          39,
          49,
          63,
          68,
          76,
          82,
          92,
          103,
          107,
          108,
          110,
          112,
          135,
          136,
          156,
          11,
          28,
          34,
          36,
          38,
          41,
          42,
          67,
          78,
          80,
          90,
          93,
          98,
          105,
          108,
          112,
          120,
          147,
          156
         ],
         "xaxis": "x",
         "y": [
          7.278,
          6.901,
          6.853,
          6.611,
          6.411,
          6.295,
          5.96,
          5.754,
          5.605,
          5.332,
          5.192,
          5.013,
          4.839,
          4.739,
          4.715,
          4.686,
          4.677,
          4.194,
          4.077,
          3.006,
          7.267,
          6.573,
          6.379,
          6.375,
          6.355,
          6.239,
          6.218,
          5.615,
          5.389,
          5.303,
          5.151,
          5.129,
          5.045,
          4.813,
          4.754,
          4.575,
          4.362,
          3.724,
          3.069
         ],
         "yaxis": "y"
        },
        {
         "hovertemplate": "<b>%{hovertext}</b><br><br>Region=Latin America and Caribbean<br>Happiness Rank=%{x}<br>Happiness Score=%{marker.size}<extra></extra>",
         "hovertext": [
          "Costa Rica",
          "Mexico",
          "Brazil",
          "Venezuela",
          "Panama",
          "Chile",
          "Argentina",
          "Uruguay",
          "Colombia",
          "Suriname",
          "Trinidad and Tobago",
          "El Salvador",
          "Guatemala",
          "Ecuador",
          "Bolivia",
          "Paraguay",
          "Nicaragua",
          "Peru",
          "Jamaica",
          "Dominican Republic",
          "Honduras",
          "Haiti",
          "Costa Rica",
          "Puerto Rico",
          "Brazil",
          "Mexico",
          "Chile",
          "Panama",
          "Argentina",
          "Uruguay",
          "Colombia",
          "Guatemala",
          "Suriname",
          "Trinidad and Tobago",
          "Venezuela",
          "El Salvador",
          "Nicaragua",
          "Ecuador",
          "Belize",
          "Bolivia",
          "Peru",
          "Paraguay",
          "Jamaica",
          "Dominican Republic",
          "Honduras",
          "Haiti"
         ],
         "legendgroup": "Latin America and Caribbean",
         "marker": {
          "color": "#FFA15A",
          "size": [
           7.226,
           7.187,
           6.983,
           6.81,
           6.786,
           6.67,
           6.574,
           6.485,
           6.477,
           6.269,
           6.168,
           6.13,
           6.123,
           5.975,
           5.89,
           5.878,
           5.828,
           5.824,
           5.709,
           4.885,
           4.788,
           4.518,
           7.087,
           7.039,
           6.952,
           6.778,
           6.705,
           6.701,
           6.65,
           6.545,
           6.481,
           6.324,
           6.269,
           6.168,
           6.084,
           6.068,
           5.992,
           5.976,
           5.956,
           5.822,
           5.743,
           5.538,
           5.51,
           5.155,
           4.871,
           4.028
          ],
          "sizemode": "area",
          "sizeref": 0.0194225,
          "symbol": "circle"
         },
         "mode": "markers",
         "name": "Latin America and Caribbean",
         "orientation": "v",
         "showlegend": true,
         "type": "scatter",
         "x": [
          12,
          14,
          16,
          23,
          25,
          27,
          30,
          32,
          33,
          40,
          41,
          42,
          43,
          48,
          51,
          53,
          57,
          58,
          65,
          98,
          105,
          119,
          14,
          15,
          17,
          21,
          24,
          25,
          26,
          29,
          31,
          39,
          40,
          43,
          44,
          46,
          48,
          51,
          52,
          59,
          64,
          70,
          73,
          89,
          104,
          136
         ],
         "xaxis": "x",
         "y": [
          7.226,
          7.187,
          6.983,
          6.81,
          6.786,
          6.67,
          6.574,
          6.485,
          6.477,
          6.269,
          6.168,
          6.13,
          6.123,
          5.975,
          5.89,
          5.878,
          5.828,
          5.824,
          5.709,
          4.885,
          4.788,
          4.518,
          7.087,
          7.039,
          6.952,
          6.778,
          6.705,
          6.701,
          6.65,
          6.545,
          6.481,
          6.324,
          6.269,
          6.168,
          6.084,
          6.068,
          5.992,
          5.976,
          5.956,
          5.822,
          5.743,
          5.538,
          5.51,
          5.155,
          4.871,
          4.028
         ],
         "yaxis": "y"
        },
        {
         "hovertemplate": "<b>%{hovertext}</b><br><br>Region=Southeastern Asia<br>Happiness Rank=%{x}<br>Happiness Score=%{marker.size}<extra></extra>",
         "hovertext": [
          "Singapore",
          "Thailand",
          "Malaysia",
          "Indonesia",
          "Vietnam",
          "Philippines",
          "Laos",
          "Myanmar",
          "Cambodia",
          "Singapore",
          "Thailand",
          "Malaysia",
          "Indonesia",
          "Philippines",
          "Vietnam",
          "Laos",
          "Myanmar",
          "Cambodia"
         ],
         "legendgroup": "Southeastern Asia",
         "marker": {
          "color": "#19d3f3",
          "size": [
           6.798,
           6.455,
           5.77,
           5.399,
           5.36,
           5.073,
           4.876,
           4.307,
           3.819,
           6.739,
           6.474,
           6.005,
           5.314,
           5.279,
           5.061,
           4.876,
           4.395,
           3.907
          ],
          "sizemode": "area",
          "sizeref": 0.0194225,
          "symbol": "circle"
         },
         "mode": "markers",
         "name": "Southeastern Asia",
         "orientation": "v",
         "showlegend": true,
         "type": "scatter",
         "x": [
          24,
          34,
          61,
          74,
          75,
          90,
          99,
          129,
          145,
          22,
          33,
          47,
          79,
          82,
          96,
          102,
          119,
          140
         ],
         "xaxis": "x",
         "y": [
          6.798,
          6.455,
          5.77,
          5.399,
          5.36,
          5.073,
          4.876,
          4.307,
          3.819,
          6.739,
          6.474,
          6.005,
          5.314,
          5.279,
          5.061,
          4.876,
          4.395,
          3.907
         ],
         "yaxis": "y"
        },
        {
         "hovertemplate": "<b>%{hovertext}</b><br><br>Region=Central and Eastern Europe<br>Happiness Rank=%{x}<br>Happiness Score=%{marker.size}<extra></extra>",
         "hovertext": [
          "Czech Republic",
          "Uzbekistan",
          "Slovakia",
          "Moldova",
          "Kazakhstan",
          "Slovenia",
          "Lithuania",
          "Belarus",
          "Poland",
          "Croatia",
          "Russia",
          "Kosovo",
          "Turkmenistan",
          "Estonia",
          "Kyrgyzstan",
          "Azerbaijan",
          "Montenegro",
          "Romania",
          "Serbia",
          "Latvia",
          "Macedonia",
          "Albania",
          "Bosnia and Herzegovina",
          "Hungary",
          "Tajikistan",
          "Ukraine",
          "Armenia",
          "Georgia",
          "Bulgaria",
          "Czech Republic",
          "Slovakia",
          "Uzbekistan",
          "Kazakhstan",
          "Moldova",
          "Russia",
          "Poland",
          "Lithuania",
          "Belarus",
          "Slovenia",
          "Turkmenistan",
          "Latvia",
          "Romania",
          "Estonia",
          "Croatia",
          "Kosovo",
          "Azerbaijan",
          "Kyrgyzstan",
          "Serbia",
          "Bosnia and Herzegovina",
          "Montenegro",
          "Hungary",
          "Macedonia",
          "Tajikistan",
          "Albania",
          "Armenia",
          "Ukraine",
          "Georgia",
          "Bulgaria"
         ],
         "legendgroup": "Central and Eastern Europe",
         "marker": {
          "color": "#FF6692",
          "size": [
           6.505,
           6.003,
           5.995,
           5.889,
           5.855,
           5.848,
           5.833,
           5.813,
           5.791,
           5.759,
           5.716,
           5.589,
           5.548,
           5.429,
           5.286,
           5.212,
           5.192,
           5.124,
           5.123,
           5.098,
           5.007,
           4.959,
           4.949,
           4.8,
           4.786,
           4.681,
           4.35,
           4.297,
           4.218,
           6.596,
           6.078,
           5.987,
           5.919,
           5.897,
           5.856,
           5.835,
           5.813,
           5.802,
           5.768,
           5.658,
           5.56,
           5.528,
           5.517,
           5.488,
           5.401,
           5.291,
           5.185,
           5.177,
           5.163,
           5.161,
           5.145,
           5.121,
           4.996,
           4.655,
           4.36,
           4.324,
           4.252,
           4.217
          ],
          "sizemode": "area",
          "sizeref": 0.0194225,
          "symbol": "circle"
         },
         "mode": "markers",
         "name": "Central and Eastern Europe",
         "orientation": "v",
         "showlegend": true,
         "type": "scatter",
         "x": [
          31,
          44,
          45,
          52,
          54,
          55,
          56,
          59,
          60,
          62,
          64,
          69,
          70,
          73,
          77,
          80,
          82,
          86,
          87,
          89,
          93,
          95,
          96,
          104,
          106,
          111,
          127,
          130,
          134,
          27,
          45,
          49,
          54,
          55,
          56,
          57,
          60,
          61,
          63,
          65,
          68,
          71,
          72,
          74,
          77,
          81,
          85,
          86,
          87,
          88,
          91,
          95,
          100,
          109,
          121,
          123,
          126,
          129
         ],
         "xaxis": "x",
         "y": [
          6.505,
          6.003,
          5.995,
          5.889,
          5.855,
          5.848,
          5.833,
          5.813,
          5.791,
          5.759,
          5.716,
          5.589,
          5.548,
          5.429,
          5.286,
          5.212,
          5.192,
          5.124,
          5.123,
          5.098,
          5.007,
          4.959,
          4.949,
          4.8,
          4.786,
          4.681,
          4.35,
          4.297,
          4.218,
          6.596,
          6.078,
          5.987,
          5.919,
          5.897,
          5.856,
          5.835,
          5.813,
          5.802,
          5.768,
          5.658,
          5.56,
          5.528,
          5.517,
          5.488,
          5.401,
          5.291,
          5.185,
          5.177,
          5.163,
          5.161,
          5.145,
          5.121,
          4.996,
          4.655,
          4.36,
          4.324,
          4.252,
          4.217
         ],
         "yaxis": "y"
        },
        {
         "hovertemplate": "<b>%{hovertext}</b><br><br>Region=Eastern Asia<br>Happiness Rank=%{x}<br>Happiness Score=%{marker.size}<extra></extra>",
         "hovertext": [
          "Taiwan",
          "Japan",
          "South Korea",
          "Hong Kong",
          "China",
          "Mongolia",
          "Taiwan",
          "Japan",
          "South Korea",
          "Hong Kong",
          "China",
          "Mongolia"
         ],
         "legendgroup": "Eastern Asia",
         "marker": {
          "color": "#B6E880",
          "size": [
           6.298,
           5.987,
           5.984,
           5.474,
           5.14,
           4.874,
           6.379,
           5.921,
           5.835,
           5.458,
           5.245,
           4.907
          ],
          "sizemode": "area",
          "sizeref": 0.0194225,
          "symbol": "circle"
         },
         "mode": "markers",
         "name": "Eastern Asia",
         "orientation": "v",
         "showlegend": true,
         "type": "scatter",
         "x": [
          38,
          46,
          47,
          72,
          84,
          100,
          34,
          53,
          57,
          75,
          83,
          101
         ],
         "xaxis": "x",
         "y": [
          6.298,
          5.987,
          5.984,
          5.474,
          5.14,
          4.874,
          6.379,
          5.921,
          5.835,
          5.458,
          5.245,
          4.907
         ],
         "yaxis": "y"
        },
        {
         "hovertemplate": "<b>%{hovertext}</b><br><br>Region=Sub-Saharan Africa<br>Happiness Rank=%{x}<br>Happiness Score=%{marker.size}<extra></extra>",
         "hovertext": [
          "Mauritius",
          "Nigeria",
          "Zambia",
          "Somaliland region",
          "Mozambique",
          "Lesotho",
          "Swaziland",
          "South Africa",
          "Ghana",
          "Zimbabwe",
          "Liberia",
          "Sudan",
          "Congo (Kinshasa)",
          "Ethiopia",
          "Sierra Leone",
          "Mauritania",
          "Kenya",
          "Djibouti",
          "Botswana",
          "Malawi",
          "Cameroon",
          "Angola",
          "Mali",
          "Congo (Brazzaville)",
          "Comoros",
          "Uganda",
          "Senegal",
          "Gabon",
          "Niger",
          "Tanzania",
          "Madagascar",
          "Central African Republic",
          "Chad",
          "Guinea",
          "Ivory Coast",
          "Burkina Faso",
          "Rwanda",
          "Benin",
          "Burundi",
          "Togo",
          "Mauritius",
          "Somalia",
          "Somaliland Region",
          "Nigeria",
          "Zambia",
          "Sierra Leone",
          "Namibia",
          "Cameroon",
          "Ethiopia",
          "South Africa",
          "Kenya",
          "Ghana",
          "Congo (Kinshasa)",
          "Congo (Brazzaville)",
          "Senegal",
          "Mauritania",
          "Zimbabwe",
          "Malawi",
          "Sudan",
          "Gabon",
          "Mali",
          "Botswana",
          "Comoros",
          "Ivory Coast",
          "Angola",
          "Niger",
          "South Sudan",
          "Chad",
          "Burkina Faso",
          "Uganda",
          "Madagascar",
          "Tanzania",
          "Liberia",
          "Guinea",
          "Rwanda",
          "Benin",
          "Togo",
          "Burundi"
         ],
         "legendgroup": "Sub-Saharan Africa",
         "marker": {
          "color": "#FF97FF",
          "size": [
           5.477,
           5.268,
           5.129,
           5.057,
           4.971,
           4.898,
           4.867,
           4.642,
           4.633,
           4.61,
           4.571,
           4.55,
           4.517,
           4.512,
           4.507,
           4.436,
           4.419,
           4.369,
           4.332,
           4.292,
           4.252,
           4.033,
           3.995,
           3.989,
           3.956,
           3.931,
           3.904,
           3.896,
           3.845,
           3.781,
           3.681,
           3.678,
           3.667,
           3.656,
           3.655,
           3.587,
           3.465,
           3.34,
           2.905,
           2.839,
           5.648,
           5.44,
           5.057,
           4.875,
           4.795,
           4.635,
           4.574,
           4.513,
           4.508,
           4.459,
           4.356,
           4.276,
           4.272,
           4.236,
           4.219,
           4.201,
           4.193,
           4.156,
           4.139,
           4.121,
           4.073,
           3.974,
           3.956,
           3.916,
           3.866,
           3.856,
           3.832,
           3.763,
           3.739,
           3.739,
           3.695,
           3.666,
           3.622,
           3.607,
           3.515,
           3.484,
           3.303,
           2.905
          ],
          "sizemode": "area",
          "sizeref": 0.0194225,
          "symbol": "circle"
         },
         "mode": "markers",
         "name": "Sub-Saharan Africa",
         "orientation": "v",
         "showlegend": true,
         "type": "scatter",
         "x": [
          71,
          78,
          85,
          91,
          94,
          97,
          101,
          113,
          114,
          115,
          116,
          118,
          120,
          122,
          123,
          124,
          125,
          126,
          128,
          131,
          133,
          137,
          138,
          139,
          140,
          141,
          142,
          143,
          144,
          146,
          147,
          148,
          149,
          150,
          151,
          152,
          154,
          155,
          157,
          158,
          66,
          76,
          97,
          103,
          106,
          111,
          113,
          114,
          115,
          116,
          122,
          124,
          125,
          127,
          128,
          130,
          131,
          132,
          133,
          134,
          135,
          137,
          138,
          139,
          141,
          142,
          143,
          144,
          145,
          145,
          148,
          149,
          150,
          151,
          152,
          153,
          155,
          157
         ],
         "xaxis": "x",
         "y": [
          5.477,
          5.268,
          5.129,
          5.057,
          4.971,
          4.898,
          4.867,
          4.642,
          4.633,
          4.61,
          4.571,
          4.55,
          4.517,
          4.512,
          4.507,
          4.436,
          4.419,
          4.369,
          4.332,
          4.292,
          4.252,
          4.033,
          3.995,
          3.989,
          3.956,
          3.931,
          3.904,
          3.896,
          3.845,
          3.781,
          3.681,
          3.678,
          3.667,
          3.656,
          3.655,
          3.587,
          3.465,
          3.34,
          2.905,
          2.839,
          5.648,
          5.44,
          5.057,
          4.875,
          4.795,
          4.635,
          4.574,
          4.513,
          4.508,
          4.459,
          4.356,
          4.276,
          4.272,
          4.236,
          4.219,
          4.201,
          4.193,
          4.156,
          4.139,
          4.121,
          4.073,
          3.974,
          3.956,
          3.916,
          3.866,
          3.856,
          3.832,
          3.763,
          3.739,
          3.739,
          3.695,
          3.666,
          3.622,
          3.607,
          3.515,
          3.484,
          3.303,
          2.905
         ],
         "yaxis": "y"
        },
        {
         "hovertemplate": "<b>%{hovertext}</b><br><br>Region=Southern Asia<br>Happiness Rank=%{x}<br>Happiness Score=%{marker.size}<extra></extra>",
         "hovertext": [
          "Bhutan",
          "Pakistan",
          "Bangladesh",
          "India",
          "Nepal",
          "Sri Lanka",
          "Afghanistan",
          "Bhutan",
          "Pakistan",
          "Nepal",
          "Bangladesh",
          "Sri Lanka",
          "India",
          "Afghanistan"
         ],
         "legendgroup": "Southern Asia",
         "marker": {
          "color": "#FECB52",
          "size": [
           5.253,
           5.194,
           4.694,
           4.565,
           4.514,
           4.271,
           3.575,
           5.196,
           5.132,
           4.793,
           4.643,
           4.415,
           4.404,
           3.36
          ],
          "sizemode": "area",
          "sizeref": 0.0194225,
          "symbol": "circle"
         },
         "mode": "markers",
         "name": "Southern Asia",
         "orientation": "v",
         "showlegend": true,
         "type": "scatter",
         "x": [
          79,
          81,
          109,
          117,
          121,
          132,
          153,
          84,
          92,
          107,
          110,
          117,
          118,
          154
         ],
         "xaxis": "x",
         "y": [
          5.253,
          5.194,
          4.694,
          4.565,
          4.514,
          4.271,
          3.575,
          5.196,
          5.132,
          4.793,
          4.643,
          4.415,
          4.404,
          3.36
         ],
         "yaxis": "y"
        }
       ],
       "layout": {
        "autosize": true,
        "legend": {
         "itemsizing": "constant",
         "title": {
          "text": "Region"
         },
         "tracegroupgap": 0
        },
        "template": {
         "data": {
          "bar": [
           {
            "error_x": {
             "color": "#2a3f5f"
            },
            "error_y": {
             "color": "#2a3f5f"
            },
            "marker": {
             "line": {
              "color": "#E5ECF6",
              "width": 0.5
             },
             "pattern": {
              "fillmode": "overlay",
              "size": 10,
              "solidity": 0.2
             }
            },
            "type": "bar"
           }
          ],
          "barpolar": [
           {
            "marker": {
             "line": {
              "color": "#E5ECF6",
              "width": 0.5
             },
             "pattern": {
              "fillmode": "overlay",
              "size": 10,
              "solidity": 0.2
             }
            },
            "type": "barpolar"
           }
          ],
          "carpet": [
           {
            "aaxis": {
             "endlinecolor": "#2a3f5f",
             "gridcolor": "white",
             "linecolor": "white",
             "minorgridcolor": "white",
             "startlinecolor": "#2a3f5f"
            },
            "baxis": {
             "endlinecolor": "#2a3f5f",
             "gridcolor": "white",
             "linecolor": "white",
             "minorgridcolor": "white",
             "startlinecolor": "#2a3f5f"
            },
            "type": "carpet"
           }
          ],
          "choropleth": [
           {
            "colorbar": {
             "outlinewidth": 0,
             "ticks": ""
            },
            "type": "choropleth"
           }
          ],
          "contour": [
           {
            "colorbar": {
             "outlinewidth": 0,
             "ticks": ""
            },
            "colorscale": [
             [
              0,
              "#0d0887"
             ],
             [
              0.1111111111111111,
              "#46039f"
             ],
             [
              0.2222222222222222,
              "#7201a8"
             ],
             [
              0.3333333333333333,
              "#9c179e"
             ],
             [
              0.4444444444444444,
              "#bd3786"
             ],
             [
              0.5555555555555556,
              "#d8576b"
             ],
             [
              0.6666666666666666,
              "#ed7953"
             ],
             [
              0.7777777777777778,
              "#fb9f3a"
             ],
             [
              0.8888888888888888,
              "#fdca26"
             ],
             [
              1,
              "#f0f921"
             ]
            ],
            "type": "contour"
           }
          ],
          "contourcarpet": [
           {
            "colorbar": {
             "outlinewidth": 0,
             "ticks": ""
            },
            "type": "contourcarpet"
           }
          ],
          "heatmap": [
           {
            "colorbar": {
             "outlinewidth": 0,
             "ticks": ""
            },
            "colorscale": [
             [
              0,
              "#0d0887"
             ],
             [
              0.1111111111111111,
              "#46039f"
             ],
             [
              0.2222222222222222,
              "#7201a8"
             ],
             [
              0.3333333333333333,
              "#9c179e"
             ],
             [
              0.4444444444444444,
              "#bd3786"
             ],
             [
              0.5555555555555556,
              "#d8576b"
             ],
             [
              0.6666666666666666,
              "#ed7953"
             ],
             [
              0.7777777777777778,
              "#fb9f3a"
             ],
             [
              0.8888888888888888,
              "#fdca26"
             ],
             [
              1,
              "#f0f921"
             ]
            ],
            "type": "heatmap"
           }
          ],
          "heatmapgl": [
           {
            "colorbar": {
             "outlinewidth": 0,
             "ticks": ""
            },
            "colorscale": [
             [
              0,
              "#0d0887"
             ],
             [
              0.1111111111111111,
              "#46039f"
             ],
             [
              0.2222222222222222,
              "#7201a8"
             ],
             [
              0.3333333333333333,
              "#9c179e"
             ],
             [
              0.4444444444444444,
              "#bd3786"
             ],
             [
              0.5555555555555556,
              "#d8576b"
             ],
             [
              0.6666666666666666,
              "#ed7953"
             ],
             [
              0.7777777777777778,
              "#fb9f3a"
             ],
             [
              0.8888888888888888,
              "#fdca26"
             ],
             [
              1,
              "#f0f921"
             ]
            ],
            "type": "heatmapgl"
           }
          ],
          "histogram": [
           {
            "marker": {
             "pattern": {
              "fillmode": "overlay",
              "size": 10,
              "solidity": 0.2
             }
            },
            "type": "histogram"
           }
          ],
          "histogram2d": [
           {
            "colorbar": {
             "outlinewidth": 0,
             "ticks": ""
            },
            "colorscale": [
             [
              0,
              "#0d0887"
             ],
             [
              0.1111111111111111,
              "#46039f"
             ],
             [
              0.2222222222222222,
              "#7201a8"
             ],
             [
              0.3333333333333333,
              "#9c179e"
             ],
             [
              0.4444444444444444,
              "#bd3786"
             ],
             [
              0.5555555555555556,
              "#d8576b"
             ],
             [
              0.6666666666666666,
              "#ed7953"
             ],
             [
              0.7777777777777778,
              "#fb9f3a"
             ],
             [
              0.8888888888888888,
              "#fdca26"
             ],
             [
              1,
              "#f0f921"
             ]
            ],
            "type": "histogram2d"
           }
          ],
          "histogram2dcontour": [
           {
            "colorbar": {
             "outlinewidth": 0,
             "ticks": ""
            },
            "colorscale": [
             [
              0,
              "#0d0887"
             ],
             [
              0.1111111111111111,
              "#46039f"
             ],
             [
              0.2222222222222222,
              "#7201a8"
             ],
             [
              0.3333333333333333,
              "#9c179e"
             ],
             [
              0.4444444444444444,
              "#bd3786"
             ],
             [
              0.5555555555555556,
              "#d8576b"
             ],
             [
              0.6666666666666666,
              "#ed7953"
             ],
             [
              0.7777777777777778,
              "#fb9f3a"
             ],
             [
              0.8888888888888888,
              "#fdca26"
             ],
             [
              1,
              "#f0f921"
             ]
            ],
            "type": "histogram2dcontour"
           }
          ],
          "mesh3d": [
           {
            "colorbar": {
             "outlinewidth": 0,
             "ticks": ""
            },
            "type": "mesh3d"
           }
          ],
          "parcoords": [
           {
            "line": {
             "colorbar": {
              "outlinewidth": 0,
              "ticks": ""
             }
            },
            "type": "parcoords"
           }
          ],
          "pie": [
           {
            "automargin": true,
            "type": "pie"
           }
          ],
          "scatter": [
           {
            "fillpattern": {
             "fillmode": "overlay",
             "size": 10,
             "solidity": 0.2
            },
            "type": "scatter"
           }
          ],
          "scatter3d": [
           {
            "line": {
             "colorbar": {
              "outlinewidth": 0,
              "ticks": ""
             }
            },
            "marker": {
             "colorbar": {
              "outlinewidth": 0,
              "ticks": ""
             }
            },
            "type": "scatter3d"
           }
          ],
          "scattercarpet": [
           {
            "marker": {
             "colorbar": {
              "outlinewidth": 0,
              "ticks": ""
             }
            },
            "type": "scattercarpet"
           }
          ],
          "scattergeo": [
           {
            "marker": {
             "colorbar": {
              "outlinewidth": 0,
              "ticks": ""
             }
            },
            "type": "scattergeo"
           }
          ],
          "scattergl": [
           {
            "marker": {
             "colorbar": {
              "outlinewidth": 0,
              "ticks": ""
             }
            },
            "type": "scattergl"
           }
          ],
          "scattermapbox": [
           {
            "marker": {
             "colorbar": {
              "outlinewidth": 0,
              "ticks": ""
             }
            },
            "type": "scattermapbox"
           }
          ],
          "scatterpolar": [
           {
            "marker": {
             "colorbar": {
              "outlinewidth": 0,
              "ticks": ""
             }
            },
            "type": "scatterpolar"
           }
          ],
          "scatterpolargl": [
           {
            "marker": {
             "colorbar": {
              "outlinewidth": 0,
              "ticks": ""
             }
            },
            "type": "scatterpolargl"
           }
          ],
          "scatterternary": [
           {
            "marker": {
             "colorbar": {
              "outlinewidth": 0,
              "ticks": ""
             }
            },
            "type": "scatterternary"
           }
          ],
          "surface": [
           {
            "colorbar": {
             "outlinewidth": 0,
             "ticks": ""
            },
            "colorscale": [
             [
              0,
              "#0d0887"
             ],
             [
              0.1111111111111111,
              "#46039f"
             ],
             [
              0.2222222222222222,
              "#7201a8"
             ],
             [
              0.3333333333333333,
              "#9c179e"
             ],
             [
              0.4444444444444444,
              "#bd3786"
             ],
             [
              0.5555555555555556,
              "#d8576b"
             ],
             [
              0.6666666666666666,
              "#ed7953"
             ],
             [
              0.7777777777777778,
              "#fb9f3a"
             ],
             [
              0.8888888888888888,
              "#fdca26"
             ],
             [
              1,
              "#f0f921"
             ]
            ],
            "type": "surface"
           }
          ],
          "table": [
           {
            "cells": {
             "fill": {
              "color": "#EBF0F8"
             },
             "line": {
              "color": "white"
             }
            },
            "header": {
             "fill": {
              "color": "#C8D4E3"
             },
             "line": {
              "color": "white"
             }
            },
            "type": "table"
           }
          ]
         },
         "layout": {
          "annotationdefaults": {
           "arrowcolor": "#2a3f5f",
           "arrowhead": 0,
           "arrowwidth": 1
          },
          "autotypenumbers": "strict",
          "coloraxis": {
           "colorbar": {
            "outlinewidth": 0,
            "ticks": ""
           }
          },
          "colorscale": {
           "diverging": [
            [
             0,
             "#8e0152"
            ],
            [
             0.1,
             "#c51b7d"
            ],
            [
             0.2,
             "#de77ae"
            ],
            [
             0.3,
             "#f1b6da"
            ],
            [
             0.4,
             "#fde0ef"
            ],
            [
             0.5,
             "#f7f7f7"
            ],
            [
             0.6,
             "#e6f5d0"
            ],
            [
             0.7,
             "#b8e186"
            ],
            [
             0.8,
             "#7fbc41"
            ],
            [
             0.9,
             "#4d9221"
            ],
            [
             1,
             "#276419"
            ]
           ],
           "sequential": [
            [
             0,
             "#0d0887"
            ],
            [
             0.1111111111111111,
             "#46039f"
            ],
            [
             0.2222222222222222,
             "#7201a8"
            ],
            [
             0.3333333333333333,
             "#9c179e"
            ],
            [
             0.4444444444444444,
             "#bd3786"
            ],
            [
             0.5555555555555556,
             "#d8576b"
            ],
            [
             0.6666666666666666,
             "#ed7953"
            ],
            [
             0.7777777777777778,
             "#fb9f3a"
            ],
            [
             0.8888888888888888,
             "#fdca26"
            ],
            [
             1,
             "#f0f921"
            ]
           ],
           "sequentialminus": [
            [
             0,
             "#0d0887"
            ],
            [
             0.1111111111111111,
             "#46039f"
            ],
            [
             0.2222222222222222,
             "#7201a8"
            ],
            [
             0.3333333333333333,
             "#9c179e"
            ],
            [
             0.4444444444444444,
             "#bd3786"
            ],
            [
             0.5555555555555556,
             "#d8576b"
            ],
            [
             0.6666666666666666,
             "#ed7953"
            ],
            [
             0.7777777777777778,
             "#fb9f3a"
            ],
            [
             0.8888888888888888,
             "#fdca26"
            ],
            [
             1,
             "#f0f921"
            ]
           ]
          },
          "colorway": [
           "#636efa",
           "#EF553B",
           "#00cc96",
           "#ab63fa",
           "#FFA15A",
           "#19d3f3",
           "#FF6692",
           "#B6E880",
           "#FF97FF",
           "#FECB52"
          ],
          "font": {
           "color": "#2a3f5f"
          },
          "geo": {
           "bgcolor": "white",
           "lakecolor": "white",
           "landcolor": "#E5ECF6",
           "showlakes": true,
           "showland": true,
           "subunitcolor": "white"
          },
          "hoverlabel": {
           "align": "left"
          },
          "hovermode": "closest",
          "mapbox": {
           "style": "light"
          },
          "paper_bgcolor": "white",
          "plot_bgcolor": "#E5ECF6",
          "polar": {
           "angularaxis": {
            "gridcolor": "white",
            "linecolor": "white",
            "ticks": ""
           },
           "bgcolor": "#E5ECF6",
           "radialaxis": {
            "gridcolor": "white",
            "linecolor": "white",
            "ticks": ""
           }
          },
          "scene": {
           "xaxis": {
            "backgroundcolor": "#E5ECF6",
            "gridcolor": "white",
            "gridwidth": 2,
            "linecolor": "white",
            "showbackground": true,
            "ticks": "",
            "zerolinecolor": "white"
           },
           "yaxis": {
            "backgroundcolor": "#E5ECF6",
            "gridcolor": "white",
            "gridwidth": 2,
            "linecolor": "white",
            "showbackground": true,
            "ticks": "",
            "zerolinecolor": "white"
           },
           "zaxis": {
            "backgroundcolor": "#E5ECF6",
            "gridcolor": "white",
            "gridwidth": 2,
            "linecolor": "white",
            "showbackground": true,
            "ticks": "",
            "zerolinecolor": "white"
           }
          },
          "shapedefaults": {
           "line": {
            "color": "#2a3f5f"
           }
          },
          "ternary": {
           "aaxis": {
            "gridcolor": "white",
            "linecolor": "white",
            "ticks": ""
           },
           "baxis": {
            "gridcolor": "white",
            "linecolor": "white",
            "ticks": ""
           },
           "bgcolor": "#E5ECF6",
           "caxis": {
            "gridcolor": "white",
            "linecolor": "white",
            "ticks": ""
           }
          },
          "title": {
           "x": 0.05
          },
          "xaxis": {
           "automargin": true,
           "gridcolor": "white",
           "linecolor": "white",
           "ticks": "",
           "title": {
            "standoff": 15
           },
           "zerolinecolor": "white",
           "zerolinewidth": 2
          },
          "yaxis": {
           "automargin": true,
           "gridcolor": "white",
           "linecolor": "white",
           "ticks": "",
           "title": {
            "standoff": 15
           },
           "zerolinecolor": "white",
           "zerolinewidth": 2
          }
         }
        },
        "title": {
         "text": "Global Happiness Overview by Region"
        },
        "xaxis": {
         "anchor": "y",
         "autorange": true,
         "domain": [
          0,
          1
         ],
         "range": [
          -13.94790851614726,
          170.72921584148457
         ],
         "title": {
          "text": "Happiness Rank"
         },
         "type": "linear"
        },
        "yaxis": {
         "anchor": "x",
         "autorange": true,
         "domain": [
          0,
          1
         ],
         "range": [
          2.194973230744796,
          8.4415725629603
         ],
         "title": {
          "text": "Happiness Score"
         },
         "type": "linear"
        }
       }
      },
      "image/png": "[encoded data removed]",
      "text/html": [
       "<div>                            <div id=\"2357c099-81a1-4bf1-b268-a2e6dc8efa41\" class=\"plotly-graph-div\" style=\"height:525px; width:100%;\"></div>            <script type=\"text/javascript\">                require([\"plotly\"], function(Plotly) {                    window.PLOTLYENV=window.PLOTLYENV || {};                                    if (document.getElementById(\"2357c099-81a1-4bf1-b268-a2e6dc8efa41\")) {                    Plotly.newPlot(                        \"2357c099-81a1-4bf1-b268-a2e6dc8efa41\",                        [{\"hovertemplate\":\"\\u003cb\\u003e%{hovertext}\\u003c\\u002fb\\u003e\\u003cbr\\u003e\\u003cbr\\u003eRegion=Western Europe\\u003cbr\\u003eHappiness Rank=%{x}\\u003cbr\\u003eHappiness Score=%{marker.size}\\u003cextra\\u003e\\u003c\\u002fextra\\u003e\",\"hovertext\":[\"Switzerland\",\"Iceland\",\"Denmark\",\"Norway\",\"Finland\",\"Netherlands\",\"Sweden\",\"Austria\",\"Luxembourg\",\"Ireland\",\"Belgium\",\"United Kingdom\",\"Germany\",\"France\",\"Spain\",\"Malta\",\"Italy\",\"North Cyprus\",\"Cyprus\",\"Portugal\",\"Greece\",\"Denmark\",\"Switzerland\",\"Iceland\",\"Norway\",\"Finland\",\"Netherlands\",\"Sweden\",\"Austria\",\"Germany\",\"Belgium\",\"Ireland\",\"Luxembourg\",\"United Kingdom\",\"Malta\",\"France\",\"Spain\",\"Italy\",\"North Cyprus\",\"Cyprus\",\"Portugal\",\"Greece\"],\"legendgroup\":\"Western Europe\",\"marker\":{\"color\":\"#636efa\",\"size\":[7.587,7.561,7.527,7.522,7.406,7.378,7.364,7.2,6.946,6.94,6.937,6.867,6.75,6.575,6.329,6.302,5.948,5.695,5.689,5.102,4.857,7.526,7.509,7.501,7.498,7.413,7.339,7.291,7.119,6.994,6.929,6.907,6.871,6.725,6.488,6.478,6.361,5.977,5.771,5.546,5.123,5.033],\"sizemode\":\"area\",\"sizeref\":0.0194225,\"symbol\":\"circle\"},\"mode\":\"markers\",\"name\":\"Western Europe\",\"orientation\":\"v\",\"showlegend\":true,\"x\":[1,2,3,4,6,7,8,13,17,18,19,21,26,29,36,37,50,66,67,88,102,1,2,3,4,5,7,10,12,16,18,19,20,23,30,32,37,50,62,69,94,99],\"xaxis\":\"x\",\"y\":[7.587,7.561,7.527,7.522,7.406,7.378,7.364,7.2,6.946,6.94,6.937,6.867,6.75,6.575,6.329,6.302,5.948,5.695,5.689,5.102,4.857,7.526,7.509,7.501,7.498,7.413,7.339,7.291,7.119,6.994,6.929,6.907,6.871,6.725,6.488,6.478,6.361,5.977,5.771,5.546,5.123,5.033],\"yaxis\":\"y\",\"type\":\"scatter\"},{\"hovertemplate\":\"\\u003cb\\u003e%{hovertext}\\u003c\\u002fb\\u003e\\u003cbr\\u003e\\u003cbr\\u003eRegion=North America\\u003cbr\\u003eHappiness Rank=%{x}\\u003cbr\\u003eHappiness Score=%{marker.size}\\u003cextra\\u003e\\u003c\\u002fextra\\u003e\",\"hovertext\":[\"Canada\",\"United States\",\"Canada\",\"United States\"],\"legendgroup\":\"North America\",\"marker\":{\"color\":\"#EF553B\",\"size\":[7.427,7.119,7.404,7.104],\"sizemode\":\"area\",\"sizeref\":0.0194225,\"symbol\":\"circle\"},\"mode\":\"markers\",\"name\":\"North America\",\"orientation\":\"v\",\"showlegend\":true,\"x\":[5,15,6,13],\"xaxis\":\"x\",\"y\":[7.427,7.119,7.404,7.104],\"yaxis\":\"y\",\"type\":\"scatter\"},{\"hovertemplate\":\"\\u003cb\\u003e%{hovertext}\\u003c\\u002fb\\u003e\\u003cbr\\u003e\\u003cbr\\u003eRegion=Australia and New Zealand\\u003cbr\\u003eHappiness Rank=%{x}\\u003cbr\\u003eHappiness Score=%{marker.size}\\u003cextra\\u003e\\u003c\\u002fextra\\u003e\",\"hovertext\":[\"New Zealand\",\"Australia\",\"New Zealand\",\"Australia\"],\"legendgroup\":\"Australia and New Zealand\",\"marker\":{\"color\":\"#00cc96\",\"size\":[7.286,7.284,7.334,7.313],\"sizemode\":\"area\",\"sizeref\":0.0194225,\"symbol\":\"circle\"},\"mode\":\"markers\",\"name\":\"Australia and New Zealand\",\"orientation\":\"v\",\"showlegend\":true,\"x\":[9,10,8,9],\"xaxis\":\"x\",\"y\":[7.286,7.284,7.334,7.313],\"yaxis\":\"y\",\"type\":\"scatter\"},{\"hovertemplate\":\"\\u003cb\\u003e%{hovertext}\\u003c\\u002fb\\u003e\\u003cbr\\u003e\\u003cbr\\u003eRegion=Middle East and Northern Africa\\u003cbr\\u003eHappiness Rank=%{x}\\u003cbr\\u003eHappiness Score=%{marker.size}\\u003cextra\\u003e\\u003c\\u002fextra\\u003e\",\"hovertext\":[\"Israel\",\"United Arab Emirates\",\"Oman\",\"Qatar\",\"Saudi Arabia\",\"Kuwait\",\"Bahrain\",\"Libya\",\"Algeria\",\"Turkey\",\"Jordan\",\"Morocco\",\"Lebanon\",\"Tunisia\",\"Palestinian Territories\",\"Iran\",\"Iraq\",\"Egypt\",\"Yemen\",\"Syria\",\"Israel\",\"United Arab Emirates\",\"Saudi Arabia\",\"Qatar\",\"Algeria\",\"Kuwait\",\"Bahrain\",\"Libya\",\"Turkey\",\"Jordan\",\"Morocco\",\"Lebanon\",\"Tunisia\",\"Iran\",\"Palestinian Territories\",\"Iraq\",\"Egypt\",\"Yemen\",\"Syria\"],\"legendgroup\":\"Middle East and Northern Africa\",\"marker\":{\"color\":\"#ab63fa\",\"size\":[7.278,6.901,6.853,6.611,6.411,6.295,5.96,5.754,5.605,5.332,5.192,5.013,4.839,4.739,4.715,4.686,4.677,4.194,4.077,3.006,7.267,6.573,6.379,6.375,6.355,6.239,6.218,5.615,5.389,5.303,5.151,5.129,5.045,4.813,4.754,4.575,4.362,3.724,3.069],\"sizemode\":\"area\",\"sizeref\":0.0194225,\"symbol\":\"circle\"},\"mode\":\"markers\",\"name\":\"Middle East and Northern Africa\",\"orientation\":\"v\",\"showlegend\":true,\"x\":[11,20,22,28,35,39,49,63,68,76,82,92,103,107,108,110,112,135,136,156,11,28,34,36,38,41,42,67,78,80,90,93,98,105,108,112,120,147,156],\"xaxis\":\"x\",\"y\":[7.278,6.901,6.853,6.611,6.411,6.295,5.96,5.754,5.605,5.332,5.192,5.013,4.839,4.739,4.715,4.686,4.677,4.194,4.077,3.006,7.267,6.573,6.379,6.375,6.355,6.239,6.218,5.615,5.389,5.303,5.151,5.129,5.045,4.813,4.754,4.575,4.362,3.724,3.069],\"yaxis\":\"y\",\"type\":\"scatter\"},{\"hovertemplate\":\"\\u003cb\\u003e%{hovertext}\\u003c\\u002fb\\u003e\\u003cbr\\u003e\\u003cbr\\u003eRegion=Latin America and Caribbean\\u003cbr\\u003eHappiness Rank=%{x}\\u003cbr\\u003eHappiness Score=%{marker.size}\\u003cextra\\u003e\\u003c\\u002fextra\\u003e\",\"hovertext\":[\"Costa Rica\",\"Mexico\",\"Brazil\",\"Venezuela\",\"Panama\",\"Chile\",\"Argentina\",\"Uruguay\",\"Colombia\",\"Suriname\",\"Trinidad and Tobago\",\"El Salvador\",\"Guatemala\",\"Ecuador\",\"Bolivia\",\"Paraguay\",\"Nicaragua\",\"Peru\",\"Jamaica\",\"Dominican Republic\",\"Honduras\",\"Haiti\",\"Costa Rica\",\"Puerto Rico\",\"Brazil\",\"Mexico\",\"Chile\",\"Panama\",\"Argentina\",\"Uruguay\",\"Colombia\",\"Guatemala\",\"Suriname\",\"Trinidad and Tobago\",\"Venezuela\",\"El Salvador\",\"Nicaragua\",\"Ecuador\",\"Belize\",\"Bolivia\",\"Peru\",\"Paraguay\",\"Jamaica\",\"Dominican Republic\",\"Honduras\",\"Haiti\"],\"legendgroup\":\"Latin America and Caribbean\",\"marker\":{\"color\":\"#FFA15A\",\"size\":[7.226,7.187,6.983,6.81,6.786,6.67,6.574,6.485,6.477,6.269,6.168,6.13,6.123,5.975,5.89,5.878,5.828,5.824,5.709,4.885,4.788,4.518,7.087,7.039,6.952,6.778,6.705,6.701,6.65,6.545,6.481,6.324,6.269,6.168,6.084,6.068,5.992,5.976,5.956,5.822,5.743,5.538,5.51,5.155,4.871,4.028],\"sizemode\":\"area\",\"sizeref\":0.0194225,\"symbol\":\"circle\"},\"mode\":\"markers\",\"name\":\"Latin America and Caribbean\",\"orientation\":\"v\",\"showlegend\":true,\"x\":[12,14,16,23,25,27,30,32,33,40,41,42,43,48,51,53,57,58,65,98,105,119,14,15,17,21,24,25,26,29,31,39,40,43,44,46,48,51,52,59,64,70,73,89,104,136],\"xaxis\":\"x\",\"y\":[7.226,7.187,6.983,6.81,6.786,6.67,6.574,6.485,6.477,6.269,6.168,6.13,6.123,5.975,5.89,5.878,5.828,5.824,5.709,4.885,4.788,4.518,7.087,7.039,6.952,6.778,6.705,6.701,6.65,6.545,6.481,6.324,6.269,6.168,6.084,6.068,5.992,5.976,5.956,5.822,5.743,5.538,5.51,5.155,4.871,4.028],\"yaxis\":\"y\",\"type\":\"scatter\"},{\"hovertemplate\":\"\\u003cb\\u003e%{hovertext}\\u003c\\u002fb\\u003e\\u003cbr\\u003e\\u003cbr\\u003eRegion=Southeastern Asia\\u003cbr\\u003eHappiness Rank=%{x}\\u003cbr\\u003eHappiness Score=%{marker.size}\\u003cextra\\u003e\\u003c\\u002fextra\\u003e\",\"hovertext\":[\"Singapore\",\"Thailand\",\"Malaysia\",\"Indonesia\",\"Vietnam\",\"Philippines\",\"Laos\",\"Myanmar\",\"Cambodia\",\"Singapore\",\"Thailand\",\"Malaysia\",\"Indonesia\",\"Philippines\",\"Vietnam\",\"Laos\",\"Myanmar\",\"Cambodia\"],\"legendgroup\":\"Southeastern Asia\",\"marker\":{\"color\":\"#19d3f3\",\"size\":[6.798,6.455,5.77,5.399,5.36,5.073,4.876,4.307,3.819,6.739,6.474,6.005,5.314,5.279,5.061,4.876,4.395,3.907],\"sizemode\":\"area\",\"sizeref\":0.0194225,\"symbol\":\"circle\"},\"mode\":\"markers\",\"name\":\"Southeastern Asia\",\"orientation\":\"v\",\"showlegend\":true,\"x\":[24,34,61,74,75,90,99,129,145,22,33,47,79,82,96,102,119,140],\"xaxis\":\"x\",\"y\":[6.798,6.455,5.77,5.399,5.36,5.073,4.876,4.307,3.819,6.739,6.474,6.005,5.314,5.279,5.061,4.876,4.395,3.907],\"yaxis\":\"y\",\"type\":\"scatter\"},{\"hovertemplate\":\"\\u003cb\\u003e%{hovertext}\\u003c\\u002fb\\u003e\\u003cbr\\u003e\\u003cbr\\u003eRegion=Central and Eastern Europe\\u003cbr\\u003eHappiness Rank=%{x}\\u003cbr\\u003eHappiness Score=%{marker.size}\\u003cextra\\u003e\\u003c\\u002fextra\\u003e\",\"hovertext\":[\"Czech Republic\",\"Uzbekistan\",\"Slovakia\",\"Moldova\",\"Kazakhstan\",\"Slovenia\",\"Lithuania\",\"Belarus\",\"Poland\",\"Croatia\",\"Russia\",\"Kosovo\",\"Turkmenistan\",\"Estonia\",\"Kyrgyzstan\",\"Azerbaijan\",\"Montenegro\",\"Romania\",\"Serbia\",\"Latvia\",\"Macedonia\",\"Albania\",\"Bosnia and Herzegovina\",\"Hungary\",\"Tajikistan\",\"Ukraine\",\"Armenia\",\"Georgia\",\"Bulgaria\",\"Czech Republic\",\"Slovakia\",\"Uzbekistan\",\"Kazakhstan\",\"Moldova\",\"Russia\",\"Poland\",\"Lithuania\",\"Belarus\",\"Slovenia\",\"Turkmenistan\",\"Latvia\",\"Romania\",\"Estonia\",\"Croatia\",\"Kosovo\",\"Azerbaijan\",\"Kyrgyzstan\",\"Serbia\",\"Bosnia and Herzegovina\",\"Montenegro\",\"Hungary\",\"Macedonia\",\"Tajikistan\",\"Albania\",\"Armenia\",\"Ukraine\",\"Georgia\",\"Bulgaria\"],\"legendgroup\":\"Central and Eastern Europe\",\"marker\":{\"color\":\"#FF6692\",\"size\":[6.505,6.003,5.995,5.889,5.855,5.848,5.833,5.813,5.791,5.759,5.716,5.589,5.548,5.429,5.286,5.212,5.192,5.124,5.123,5.098,5.007,4.959,4.949,4.8,4.786,4.681,4.35,4.297,4.218,6.596,6.078,5.987,5.919,5.897,5.856,5.835,5.813,5.802,5.768,5.658,5.56,5.528,5.517,5.488,5.401,5.291,5.185,5.177,5.163,5.161,5.145,5.121,4.996,4.655,4.36,4.324,4.252,4.217],\"sizemode\":\"area\",\"sizeref\":0.0194225,\"symbol\":\"circle\"},\"mode\":\"markers\",\"name\":\"Central and Eastern Europe\",\"orientation\":\"v\",\"showlegend\":true,\"x\":[31,44,45,52,54,55,56,59,60,62,64,69,70,73,77,80,82,86,87,89,93,95,96,104,106,111,127,130,134,27,45,49,54,55,56,57,60,61,63,65,68,71,72,74,77,81,85,86,87,88,91,95,100,109,121,123,126,129],\"xaxis\":\"x\",\"y\":[6.505,6.003,5.995,5.889,5.855,5.848,5.833,5.813,5.791,5.759,5.716,5.589,5.548,5.429,5.286,5.212,5.192,5.124,5.123,5.098,5.007,4.959,4.949,4.8,4.786,4.681,4.35,4.297,4.218,6.596,6.078,5.987,5.919,5.897,5.856,5.835,5.813,5.802,5.768,5.658,5.56,5.528,5.517,5.488,5.401,5.291,5.185,5.177,5.163,5.161,5.145,5.121,4.996,4.655,4.36,4.324,4.252,4.217],\"yaxis\":\"y\",\"type\":\"scatter\"},{\"hovertemplate\":\"\\u003cb\\u003e%{hovertext}\\u003c\\u002fb\\u003e\\u003cbr\\u003e\\u003cbr\\u003eRegion=Eastern Asia\\u003cbr\\u003eHappiness Rank=%{x}\\u003cbr\\u003eHappiness Score=%{marker.size}\\u003cextra\\u003e\\u003c\\u002fextra\\u003e\",\"hovertext\":[\"Taiwan\",\"Japan\",\"South Korea\",\"Hong Kong\",\"China\",\"Mongolia\",\"Taiwan\",\"Japan\",\"South Korea\",\"Hong Kong\",\"China\",\"Mongolia\"],\"legendgroup\":\"Eastern Asia\",\"marker\":{\"color\":\"#B6E880\",\"size\":[6.298,5.987,5.984,5.474,5.14,4.874,6.379,5.921,5.835,5.458,5.245,4.907],\"sizemode\":\"area\",\"sizeref\":0.0194225,\"symbol\":\"circle\"},\"mode\":\"markers\",\"name\":\"Eastern Asia\",\"orientation\":\"v\",\"showlegend\":true,\"x\":[38,46,47,72,84,100,34,53,57,75,83,101],\"xaxis\":\"x\",\"y\":[6.298,5.987,5.984,5.474,5.14,4.874,6.379,5.921,5.835,5.458,5.245,4.907],\"yaxis\":\"y\",\"type\":\"scatter\"},{\"hovertemplate\":\"\\u003cb\\u003e%{hovertext}\\u003c\\u002fb\\u003e\\u003cbr\\u003e\\u003cbr\\u003eRegion=Sub-Saharan Africa\\u003cbr\\u003eHappiness Rank=%{x}\\u003cbr\\u003eHappiness Score=%{marker.size}\\u003cextra\\u003e\\u003c\\u002fextra\\u003e\",\"hovertext\":[\"Mauritius\",\"Nigeria\",\"Zambia\",\"Somaliland region\",\"Mozambique\",\"Lesotho\",\"Swaziland\",\"South Africa\",\"Ghana\",\"Zimbabwe\",\"Liberia\",\"Sudan\",\"Congo (Kinshasa)\",\"Ethiopia\",\"Sierra Leone\",\"Mauritania\",\"Kenya\",\"Djibouti\",\"Botswana\",\"Malawi\",\"Cameroon\",\"Angola\",\"Mali\",\"Congo (Brazzaville)\",\"Comoros\",\"Uganda\",\"Senegal\",\"Gabon\",\"Niger\",\"Tanzania\",\"Madagascar\",\"Central African Republic\",\"Chad\",\"Guinea\",\"Ivory Coast\",\"Burkina Faso\",\"Rwanda\",\"Benin\",\"Burundi\",\"Togo\",\"Mauritius\",\"Somalia\",\"Somaliland Region\",\"Nigeria\",\"Zambia\",\"Sierra Leone\",\"Namibia\",\"Cameroon\",\"Ethiopia\",\"South Africa\",\"Kenya\",\"Ghana\",\"Congo (Kinshasa)\",\"Congo (Brazzaville)\",\"Senegal\",\"Mauritania\",\"Zimbabwe\",\"Malawi\",\"Sudan\",\"Gabon\",\"Mali\",\"Botswana\",\"Comoros\",\"Ivory Coast\",\"Angola\",\"Niger\",\"South Sudan\",\"Chad\",\"Burkina Faso\",\"Uganda\",\"Madagascar\",\"Tanzania\",\"Liberia\",\"Guinea\",\"Rwanda\",\"Benin\",\"Togo\",\"Burundi\"],\"legendgroup\":\"Sub-Saharan Africa\",\"marker\":{\"color\":\"#FF97FF\",\"size\":[5.477,5.268,5.129,5.057,4.971,4.898,4.867,4.642,4.633,4.61,4.571,4.55,4.517,4.512,4.507,4.436,4.419,4.369,4.332,4.292,4.252,4.033,3.995,3.989,3.956,3.931,3.904,3.896,3.845,3.781,3.681,3.678,3.667,3.656,3.655,3.587,3.465,3.34,2.905,2.839,5.648,5.44,5.057,4.875,4.795,4.635,4.574,4.513,4.508,4.459,4.356,4.276,4.272,4.236,4.219,4.201,4.193,4.156,4.139,4.121,4.073,3.974,3.956,3.916,3.866,3.856,3.832,3.763,3.739,3.739,3.695,3.666,3.622,3.607,3.515,3.484,3.303,2.905],\"sizemode\":\"area\",\"sizeref\":0.0194225,\"symbol\":\"circle\"},\"mode\":\"markers\",\"name\":\"Sub-Saharan Africa\",\"orientation\":\"v\",\"showlegend\":true,\"x\":[71,78,85,91,94,97,101,113,114,115,116,118,120,122,123,124,125,126,128,131,133,137,138,139,140,141,142,143,144,146,147,148,149,150,151,152,154,155,157,158,66,76,97,103,106,111,113,114,115,116,122,124,125,127,128,130,131,132,133,134,135,137,138,139,141,142,143,144,145,145,148,149,150,151,152,153,155,157],\"xaxis\":\"x\",\"y\":[5.477,5.268,5.129,5.057,4.971,4.898,4.867,4.642,4.633,4.61,4.571,4.55,4.517,4.512,4.507,4.436,4.419,4.369,4.332,4.292,4.252,4.033,3.995,3.989,3.956,3.931,3.904,3.896,3.845,3.781,3.681,3.678,3.667,3.656,3.655,3.587,3.465,3.34,2.905,2.839,5.648,5.44,5.057,4.875,4.795,4.635,4.574,4.513,4.508,4.459,4.356,4.276,4.272,4.236,4.219,4.201,4.193,4.156,4.139,4.121,4.073,3.974,3.956,3.916,3.866,3.856,3.832,3.763,3.739,3.739,3.695,3.666,3.622,3.607,3.515,3.484,3.303,2.905],\"yaxis\":\"y\",\"type\":\"scatter\"},{\"hovertemplate\":\"\\u003cb\\u003e%{hovertext}\\u003c\\u002fb\\u003e\\u003cbr\\u003e\\u003cbr\\u003eRegion=Southern Asia\\u003cbr\\u003eHappiness Rank=%{x}\\u003cbr\\u003eHappiness Score=%{marker.size}\\u003cextra\\u003e\\u003c\\u002fextra\\u003e\",\"hovertext\":[\"Bhutan\",\"Pakistan\",\"Bangladesh\",\"India\",\"Nepal\",\"Sri Lanka\",\"Afghanistan\",\"Bhutan\",\"Pakistan\",\"Nepal\",\"Bangladesh\",\"Sri Lanka\",\"India\",\"Afghanistan\"],\"legendgroup\":\"Southern Asia\",\"marker\":{\"color\":\"#FECB52\",\"size\":[5.253,5.194,4.694,4.565,4.514,4.271,3.575,5.196,5.132,4.793,4.643,4.415,4.404,3.36],\"sizemode\":\"area\",\"sizeref\":0.0194225,\"symbol\":\"circle\"},\"mode\":\"markers\",\"name\":\"Southern Asia\",\"orientation\":\"v\",\"showlegend\":true,\"x\":[79,81,109,117,121,132,153,84,92,107,110,117,118,154],\"xaxis\":\"x\",\"y\":[5.253,5.194,4.694,4.565,4.514,4.271,3.575,5.196,5.132,4.793,4.643,4.415,4.404,3.36],\"yaxis\":\"y\",\"type\":\"scatter\"}],                        {\"template\":{\"data\":{\"histogram2dcontour\":[{\"type\":\"histogram2dcontour\",\"colorbar\":{\"outlinewidth\":0,\"ticks\":\"\"},\"colorscale\":[[0.0,\"#0d0887\"],[0.1111111111111111,\"#46039f\"],[0.2222222222222222,\"#7201a8\"],[0.3333333333333333,\"#9c179e\"],[0.4444444444444444,\"#bd3786\"],[0.5555555555555556,\"#d8576b\"],[0.6666666666666666,\"#ed7953\"],[0.7777777777777778,\"#fb9f3a\"],[0.8888888888888888,\"#fdca26\"],[1.0,\"#f0f921\"]]}],\"choropleth\":[{\"type\":\"choropleth\",\"colorbar\":{\"outlinewidth\":0,\"ticks\":\"\"}}],\"histogram2d\":[{\"type\":\"histogram2d\",\"colorbar\":{\"outlinewidth\":0,\"ticks\":\"\"},\"colorscale\":[[0.0,\"#0d0887\"],[0.1111111111111111,\"#46039f\"],[0.2222222222222222,\"#7201a8\"],[0.3333333333333333,\"#9c179e\"],[0.4444444444444444,\"#bd3786\"],[0.5555555555555556,\"#d8576b\"],[0.6666666666666666,\"#ed7953\"],[0.7777777777777778,\"#fb9f3a\"],[0.8888888888888888,\"#fdca26\"],[1.0,\"#f0f921\"]]}],\"heatmap\":[{\"type\":\"heatmap\",\"colorbar\":{\"outlinewidth\":0,\"ticks\":\"\"},\"colorscale\":[[0.0,\"#0d0887\"],[0.1111111111111111,\"#46039f\"],[0.2222222222222222,\"#7201a8\"],[0.3333333333333333,\"#9c179e\"],[0.4444444444444444,\"#bd3786\"],[0.5555555555555556,\"#d8576b\"],[0.6666666666666666,\"#ed7953\"],[0.7777777777777778,\"#fb9f3a\"],[0.8888888888888888,\"#fdca26\"],[1.0,\"#f0f921\"]]}],\"heatmapgl\":[{\"type\":\"heatmapgl\",\"colorbar\":{\"outlinewidth\":0,\"ticks\":\"\"},\"colorscale\":[[0.0,\"#0d0887\"],[0.1111111111111111,\"#46039f\"],[0.2222222222222222,\"#7201a8\"],[0.3333333333333333,\"#9c179e\"],[0.4444444444444444,\"#bd3786\"],[0.5555555555555556,\"#d8576b\"],[0.6666666666666666,\"#ed7953\"],[0.7777777777777778,\"#fb9f3a\"],[0.8888888888888888,\"#fdca26\"],[1.0,\"#f0f921\"]]}],\"contourcarpet\":[{\"type\":\"contourcarpet\",\"colorbar\":{\"outlinewidth\":0,\"ticks\":\"\"}}],\"contour\":[{\"type\":\"contour\",\"colorbar\":{\"outlinewidth\":0,\"ticks\":\"\"},\"colorscale\":[[0.0,\"#0d0887\"],[0.1111111111111111,\"#46039f\"],[0.2222222222222222,\"#7201a8\"],[0.3333333333333333,\"#9c179e\"],[0.4444444444444444,\"#bd3786\"],[0.5555555555555556,\"#d8576b\"],[0.6666666666666666,\"#ed7953\"],[0.7777777777777778,\"#fb9f3a\"],[0.8888888888888888,\"#fdca26\"],[1.0,\"#f0f921\"]]}],\"surface\":[{\"type\":\"surface\",\"colorbar\":{\"outlinewidth\":0,\"ticks\":\"\"},\"colorscale\":[[0.0,\"#0d0887\"],[0.1111111111111111,\"#46039f\"],[0.2222222222222222,\"#7201a8\"],[0.3333333333333333,\"#9c179e\"],[0.4444444444444444,\"#bd3786\"],[0.5555555555555556,\"#d8576b\"],[0.6666666666666666,\"#ed7953\"],[0.7777777777777778,\"#fb9f3a\"],[0.8888888888888888,\"#fdca26\"],[1.0,\"#f0f921\"]]}],\"mesh3d\":[{\"type\":\"mesh3d\",\"colorbar\":{\"outlinewidth\":0,\"ticks\":\"\"}}],\"scatter\":[{\"fillpattern\":{\"fillmode\":\"overlay\",\"size\":10,\"solidity\":0.2},\"type\":\"scatter\"}],\"parcoords\":[{\"type\":\"parcoords\",\"line\":{\"colorbar\":{\"outlinewidth\":0,\"ticks\":\"\"}}}],\"scatterpolargl\":[{\"type\":\"scatterpolargl\",\"marker\":{\"colorbar\":{\"outlinewidth\":0,\"ticks\":\"\"}}}],\"bar\":[{\"error_x\":{\"color\":\"#2a3f5f\"},\"error_y\":{\"color\":\"#2a3f5f\"},\"marker\":{\"line\":{\"color\":\"#E5ECF6\",\"width\":0.5},\"pattern\":{\"fillmode\":\"overlay\",\"size\":10,\"solidity\":0.2}},\"type\":\"bar\"}],\"scattergeo\":[{\"type\":\"scattergeo\",\"marker\":{\"colorbar\":{\"outlinewidth\":0,\"ticks\":\"\"}}}],\"scatterpolar\":[{\"type\":\"scatterpolar\",\"marker\":{\"colorbar\":{\"outlinewidth\":0,\"ticks\":\"\"}}}],\"histogram\":[{\"marker\":{\"pattern\":{\"fillmode\":\"overlay\",\"size\":10,\"solidity\":0.2}},\"type\":\"histogram\"}],\"scattergl\":[{\"type\":\"scattergl\",\"marker\":{\"colorbar\":{\"outlinewidth\":0,\"ticks\":\"\"}}}],\"scatter3d\":[{\"type\":\"scatter3d\",\"line\":{\"colorbar\":{\"outlinewidth\":0,\"ticks\":\"\"}},\"marker\":{\"colorbar\":{\"outlinewidth\":0,\"ticks\":\"\"}}}],\"scattermapbox\":[{\"type\":\"scattermapbox\",\"marker\":{\"colorbar\":{\"outlinewidth\":0,\"ticks\":\"\"}}}],\"scatterternary\":[{\"type\":\"scatterternary\",\"marker\":{\"colorbar\":{\"outlinewidth\":0,\"ticks\":\"\"}}}],\"scattercarpet\":[{\"type\":\"scattercarpet\",\"marker\":{\"colorbar\":{\"outlinewidth\":0,\"ticks\":\"\"}}}],\"carpet\":[{\"aaxis\":{\"endlinecolor\":\"#2a3f5f\",\"gridcolor\":\"white\",\"linecolor\":\"white\",\"minorgridcolor\":\"white\",\"startlinecolor\":\"#2a3f5f\"},\"baxis\":{\"endlinecolor\":\"#2a3f5f\",\"gridcolor\":\"white\",\"linecolor\":\"white\",\"minorgridcolor\":\"white\",\"startlinecolor\":\"#2a3f5f\"},\"type\":\"carpet\"}],\"table\":[{\"cells\":{\"fill\":{\"color\":\"#EBF0F8\"},\"line\":{\"color\":\"white\"}},\"header\":{\"fill\":{\"color\":\"#C8D4E3\"},\"line\":{\"color\":\"white\"}},\"type\":\"table\"}],\"barpolar\":[{\"marker\":{\"line\":{\"color\":\"#E5ECF6\",\"width\":0.5},\"pattern\":{\"fillmode\":\"overlay\",\"size\":10,\"solidity\":0.2}},\"type\":\"barpolar\"}],\"pie\":[{\"automargin\":true,\"type\":\"pie\"}]},\"layout\":{\"autotypenumbers\":\"strict\",\"colorway\":[\"#636efa\",\"#EF553B\",\"#00cc96\",\"#ab63fa\",\"#FFA15A\",\"#19d3f3\",\"#FF6692\",\"#B6E880\",\"#FF97FF\",\"#FECB52\"],\"font\":{\"color\":\"#2a3f5f\"},\"hovermode\":\"closest\",\"hoverlabel\":{\"align\":\"left\"},\"paper_bgcolor\":\"white\",\"plot_bgcolor\":\"#E5ECF6\",\"polar\":{\"bgcolor\":\"#E5ECF6\",\"angularaxis\":{\"gridcolor\":\"white\",\"linecolor\":\"white\",\"ticks\":\"\"},\"radialaxis\":{\"gridcolor\":\"white\",\"linecolor\":\"white\",\"ticks\":\"\"}},\"ternary\":{\"bgcolor\":\"#E5ECF6\",\"aaxis\":{\"gridcolor\":\"white\",\"linecolor\":\"white\",\"ticks\":\"\"},\"baxis\":{\"gridcolor\":\"white\",\"linecolor\":\"white\",\"ticks\":\"\"},\"caxis\":{\"gridcolor\":\"white\",\"linecolor\":\"white\",\"ticks\":\"\"}},\"coloraxis\":{\"colorbar\":{\"outlinewidth\":0,\"ticks\":\"\"}},\"colorscale\":{\"sequential\":[[0.0,\"#0d0887\"],[0.1111111111111111,\"#46039f\"],[0.2222222222222222,\"#7201a8\"],[0.3333333333333333,\"#9c179e\"],[0.4444444444444444,\"#bd3786\"],[0.5555555555555556,\"#d8576b\"],[0.6666666666666666,\"#ed7953\"],[0.7777777777777778,\"#fb9f3a\"],[0.8888888888888888,\"#fdca26\"],[1.0,\"#f0f921\"]],\"sequentialminus\":[[0.0,\"#0d0887\"],[0.1111111111111111,\"#46039f\"],[0.2222222222222222,\"#7201a8\"],[0.3333333333333333,\"#9c179e\"],[0.4444444444444444,\"#bd3786\"],[0.5555555555555556,\"#d8576b\"],[0.6666666666666666,\"#ed7953\"],[0.7777777777777778,\"#fb9f3a\"],[0.8888888888888888,\"#fdca26\"],[1.0,\"#f0f921\"]],\"diverging\":[[0,\"#8e0152\"],[0.1,\"#c51b7d\"],[0.2,\"#de77ae\"],[0.3,\"#f1b6da\"],[0.4,\"#fde0ef\"],[0.5,\"#f7f7f7\"],[0.6,\"#e6f5d0\"],[0.7,\"#b8e186\"],[0.8,\"#7fbc41\"],[0.9,\"#4d9221\"],[1,\"#276419\"]]},\"xaxis\":{\"gridcolor\":\"white\",\"linecolor\":\"white\",\"ticks\":\"\",\"title\":{\"standoff\":15},\"zerolinecolor\":\"white\",\"automargin\":true,\"zerolinewidth\":2},\"yaxis\":{\"gridcolor\":\"white\",\"linecolor\":\"white\",\"ticks\":\"\",\"title\":{\"standoff\":15},\"zerolinecolor\":\"white\",\"automargin\":true,\"zerolinewidth\":2},\"scene\":{\"xaxis\":{\"backgroundcolor\":\"#E5ECF6\",\"gridcolor\":\"white\",\"linecolor\":\"white\",\"showbackground\":true,\"ticks\":\"\",\"zerolinecolor\":\"white\",\"gridwidth\":2},\"yaxis\":{\"backgroundcolor\":\"#E5ECF6\",\"gridcolor\":\"white\",\"linecolor\":\"white\",\"showbackground\":true,\"ticks\":\"\",\"zerolinecolor\":\"white\",\"gridwidth\":2},\"zaxis\":{\"backgroundcolor\":\"#E5ECF6\",\"gridcolor\":\"white\",\"linecolor\":\"white\",\"showbackground\":true,\"ticks\":\"\",\"zerolinecolor\":\"white\",\"gridwidth\":2}},\"shapedefaults\":{\"line\":{\"color\":\"#2a3f5f\"}},\"annotationdefaults\":{\"arrowcolor\":\"#2a3f5f\",\"arrowhead\":0,\"arrowwidth\":1},\"geo\":{\"bgcolor\":\"white\",\"landcolor\":\"#E5ECF6\",\"subunitcolor\":\"white\",\"showland\":true,\"showlakes\":true,\"lakecolor\":\"white\"},\"title\":{\"x\":0.05},\"mapbox\":{\"style\":\"light\"}}},\"xaxis\":{\"anchor\":\"y\",\"domain\":[0.0,1.0],\"title\":{\"text\":\"Happiness Rank\"}},\"yaxis\":{\"anchor\":\"x\",\"domain\":[0.0,1.0],\"title\":{\"text\":\"Happiness Score\"}},\"legend\":{\"title\":{\"text\":\"Region\"},\"tracegroupgap\":0,\"itemsizing\":\"constant\"},\"title\":{\"text\":\"Global Happiness Overview by Region\"}},                        {\"responsive\": true}                    ).then(function(){\n",
       "                            \n",
       "var gd = document.getElementById('2357c099-81a1-4bf1-b268-a2e6dc8efa41');\n",
       "var x = new MutationObserver(function (mutations, observer) {{\n",
       "        var display = window.getComputedStyle(gd).display;\n",
       "        if (!display || display === 'none') {{\n",
       "            console.log([gd, 'removed!']);\n",
       "            Plotly.purge(gd);\n",
       "            observer.disconnect();\n",
       "        }}\n",
       "}});\n",
       "\n",
       "// Listen for the removal of the full notebook cells\n",
       "var notebookContainer = gd.closest('#notebook-container');\n",
       "if (notebookContainer) {{\n",
       "    x.observe(notebookContainer, {childList: true});\n",
       "}}\n",
       "\n",
       "// Listen for the clearing of the current output cell\n",
       "var outputEl = gd.closest('.output');\n",
       "if (outputEl) {{\n",
       "    x.observe(outputEl, {childList: true});\n",
       "}}\n",
       "\n",
       "                        })                };                });            </script>        </div>"
      ]
     },
     "metadata": {},
     "output_type": "display_data"
    }
   ],
   "source": [
    "# Interactive scatter plot, doesn't work in PDF format :(\n",
    "fig = px.scatter(\n",
    "    cleaned_df, \n",
    "    x='Happiness Rank', \n",
    "    y='Happiness Score', \n",
    "    color='Region',\n",
    "    hover_name='Country',\n",
    "    size='Happiness Score',\n",
    "    title='Global Happiness Overview by Region'\n",
    ")\n",
    "fig.show()"
   ]
  },
  {
   "cell_type": "markdown",
   "id": "dafeede9-9bc2-41e1-aa65-7eb471c67533",
   "metadata": {},
   "source": [
    "As we can see, the higher Happiness Scores aggregate on average in regions like Western Europe, North America, Australia and New Zealand, Latin America and Southeastern Asia, whereas the lowest scores congregate mostly around Southern Asia and Sub-Saharan Africa.\n",
    "\n",
    "This may signal a foreshadowing of the results of our hypothesis, but let's not get ahead of ourselves.\n",
    "\n",
    "Perhaps the same scatter plot but comparing Happiness Score and GDP per capita might paint a different picture?\n"
   ]
  },
  {
   "cell_type": "code",
   "execution_count": 108,
   "id": "30447b19-4080-4b88-b11e-e3bd1e465586",
   "metadata": {},
   "outputs": [
    {
     "data": {
      "application/vnd.plotly.v1+json": {
       "config": {
        "plotlyServerURL": "https://plot.ly"
       },
       "data": [
        {
         "hovertemplate": "<b>%{hovertext}</b><br><br>Region=Western Europe<br>Happiness Score=%{marker.size}<br>GDP per capita=%{y}<extra></extra>",
         "hovertext": [
          "Switzerland",
          "Iceland",
          "Denmark",
          "Norway",
          "Finland",
          "Netherlands",
          "Sweden",
          "Austria",
          "Luxembourg",
          "Ireland",
          "Belgium",
          "United Kingdom",
          "Germany",
          "France",
          "Spain",
          "Malta",
          "Italy",
          "North Cyprus",
          "Cyprus",
          "Portugal",
          "Greece",
          "Denmark",
          "Switzerland",
          "Iceland",
          "Norway",
          "Finland",
          "Netherlands",
          "Sweden",
          "Austria",
          "Germany",
          "Belgium",
          "Ireland",
          "Luxembourg",
          "United Kingdom",
          "Malta",
          "France",
          "Spain",
          "Italy",
          "North Cyprus",
          "Cyprus",
          "Portugal",
          "Greece"
         ],
         "legendgroup": "Western Europe",
         "marker": {
          "color": "#636efa",
          "size": [
           7.587,
           7.561,
           7.527,
           7.522,
           7.406,
           7.378,
           7.364,
           7.2,
           6.946,
           6.94,
           6.937,
           6.867,
           6.75,
           6.575,
           6.329,
           6.302,
           5.948,
           5.695,
           5.689,
           5.102,
           4.857,
           7.526,
           7.509,
           7.501,
           7.498,
           7.413,
           7.339,
           7.291,
           7.119,
           6.994,
           6.929,
           6.907,
           6.871,
           6.725,
           6.488,
           6.478,
           6.361,
           5.977,
           5.771,
           5.546,
           5.123,
           5.033
          ],
          "sizemode": "area",
          "sizeref": 0.0194225,
          "symbol": "circle"
         },
         "mode": "markers",
         "name": "Western Europe",
         "orientation": "h",
         "showlegend": true,
         "type": "scatter",
         "x": [
          7.587,
          7.561,
          7.527,
          7.522,
          7.406,
          7.378,
          7.364,
          7.2,
          6.946,
          6.94,
          6.937,
          6.867,
          6.75,
          6.575,
          6.329,
          6.302,
          5.948,
          5.695,
          5.689,
          5.102,
          4.857,
          7.526,
          7.509,
          7.501,
          7.498,
          7.413,
          7.339,
          7.291,
          7.119,
          6.994,
          6.929,
          6.907,
          6.871,
          6.725,
          6.488,
          6.478,
          6.361,
          5.977,
          5.771,
          5.546,
          5.123,
          5.033
         ],
         "xaxis": "x",
         "y": [
          1.39651,
          1.30232,
          1.32548,
          1.459,
          1.29025,
          1.32944,
          1.33171,
          1.33723,
          1.56391,
          1.33596,
          1.30782,
          1.26637,
          1.32792,
          1.27778,
          1.23011,
          1.2074,
          1.25114,
          1.20806,
          1.20813,
          1.15991,
          1.15406,
          1.44178,
          1.52733,
          1.42666,
          1.57744,
          1.40598,
          1.46468,
          1.45181,
          1.45038,
          1.44787,
          1.42539,
          1.48341,
          1.69752,
          1.40283,
          1.30782,
          1.39488,
          1.34253,
          1.35495,
          1.31141,
          1.31857,
          1.27607,
          1.24886
         ],
         "yaxis": "y"
        },
        {
         "hovertemplate": "<b>%{hovertext}</b><br><br>Region=North America<br>Happiness Score=%{marker.size}<br>GDP per capita=%{y}<extra></extra>",
         "hovertext": [
          "Canada",
          "United States",
          "Canada",
          "United States"
         ],
         "legendgroup": "North America",
         "marker": {
          "color": "#EF553B",
          "size": [
           7.427,
           7.119,
           7.404,
           7.104
          ],
          "sizemode": "area",
          "sizeref": 0.0194225,
          "symbol": "circle"
         },
         "mode": "markers",
         "name": "North America",
         "orientation": "h",
         "showlegend": true,
         "type": "scatter",
         "x": [
          7.427,
          7.119,
          7.404,
          7.104
         ],
         "xaxis": "x",
         "y": [
          1.32629,
          1.39451,
          1.44015,
          1.50796
         ],
         "yaxis": "y"
        },
        {
         "hovertemplate": "<b>%{hovertext}</b><br><br>Region=Australia and New Zealand<br>Happiness Score=%{marker.size}<br>GDP per capita=%{y}<extra></extra>",
         "hovertext": [
          "New Zealand",
          "Australia",
          "New Zealand",
          "Australia"
         ],
         "legendgroup": "Australia and New Zealand",
         "marker": {
          "color": "#00cc96",
          "size": [
           7.286,
           7.284,
           7.334,
           7.313
          ],
          "sizemode": "area",
          "sizeref": 0.0194225,
          "symbol": "circle"
         },
         "mode": "markers",
         "name": "Australia and New Zealand",
         "orientation": "h",
         "showlegend": true,
         "type": "scatter",
         "x": [
          7.286,
          7.284,
          7.334,
          7.313
         ],
         "xaxis": "x",
         "y": [
          1.25018,
          1.33358,
          1.36066,
          1.44443
         ],
         "yaxis": "y"
        },
        {
         "hovertemplate": "<b>%{hovertext}</b><br><br>Region=Middle East and Northern Africa<br>Happiness Score=%{marker.size}<br>GDP per capita=%{y}<extra></extra>",
         "hovertext": [
          "Israel",
          "United Arab Emirates",
          "Oman",
          "Qatar",
          "Saudi Arabia",
          "Kuwait",
          "Bahrain",
          "Libya",
          "Algeria",
          "Turkey",
          "Jordan",
          "Morocco",
          "Lebanon",
          "Tunisia",
          "Palestinian Territories",
          "Iran",
          "Iraq",
          "Egypt",
          "Yemen",
          "Syria",
          "Israel",
          "United Arab Emirates",
          "Saudi Arabia",
          "Qatar",
          "Algeria",
          "Kuwait",
          "Bahrain",
          "Libya",
          "Turkey",
          "Jordan",
          "Morocco",
          "Lebanon",
          "Tunisia",
          "Iran",
          "Palestinian Territories",
          "Iraq",
          "Egypt",
          "Yemen",
          "Syria"
         ],
         "legendgroup": "Middle East and Northern Africa",
         "marker": {
          "color": "#ab63fa",
          "size": [
           7.278,
           6.901,
           6.853,
           6.611,
           6.411,
           6.295,
           5.96,
           5.754,
           5.605,
           5.332,
           5.192,
           5.013,
           4.839,
           4.739,
           4.715,
           4.686,
           4.677,
           4.194,
           4.077,
           3.006,
           7.267,
           6.573,
           6.379,
           6.375,
           6.355,
           6.239,
           6.218,
           5.615,
           5.389,
           5.303,
           5.151,
           5.129,
           5.045,
           4.813,
           4.754,
           4.575,
           4.362,
           3.724,
           3.069
          ],
          "sizemode": "area",
          "sizeref": 0.0194225,
          "symbol": "circle"
         },
         "mode": "markers",
         "name": "Middle East and Northern Africa",
         "orientation": "h",
         "showlegend": true,
         "type": "scatter",
         "x": [
          7.278,
          6.901,
          6.853,
          6.611,
          6.411,
          6.295,
          5.96,
          5.754,
          5.605,
          5.332,
          5.192,
          5.013,
          4.839,
          4.739,
          4.715,
          4.686,
          4.677,
          4.194,
          4.077,
          3.006,
          7.267,
          6.573,
          6.379,
          6.375,
          6.355,
          6.239,
          6.218,
          5.615,
          5.389,
          5.303,
          5.151,
          5.129,
          5.045,
          4.813,
          4.754,
          4.575,
          4.362,
          3.724,
          3.069
         ],
         "xaxis": "x",
         "y": [
          1.22857,
          1.42727,
          1.36011,
          1.69042,
          1.39541,
          1.55422,
          1.32376,
          1.13145,
          0.93929,
          1.06098,
          0.90198,
          0.73479,
          1.02564,
          0.88113,
          0.59867,
          1.0088,
          0.98549,
          0.8818,
          0.54649,
          0.6632,
          1.33766,
          1.57352,
          1.48953,
          1.82427,
          1.05266,
          1.61714,
          1.44024,
          1.06688,
          1.16492,
          0.99673,
          0.84058,
          1.12268,
          0.97724,
          1.11758,
          0.67024,
          1.07474,
          0.95395,
          0.57939,
          0.74719
         ],
         "yaxis": "y"
        },
        {
         "hovertemplate": "<b>%{hovertext}</b><br><br>Region=Latin America and Caribbean<br>Happiness Score=%{marker.size}<br>GDP per capita=%{y}<extra></extra>",
         "hovertext": [
          "Costa Rica",
          "Mexico",
          "Brazil",
          "Venezuela",
          "Panama",
          "Chile",
          "Argentina",
          "Uruguay",
          "Colombia",
          "Suriname",
          "Trinidad and Tobago",
          "El Salvador",
          "Guatemala",
          "Ecuador",
          "Bolivia",
          "Paraguay",
          "Nicaragua",
          "Peru",
          "Jamaica",
          "Dominican Republic",
          "Honduras",
          "Haiti",
          "Costa Rica",
          "Puerto Rico",
          "Brazil",
          "Mexico",
          "Chile",
          "Panama",
          "Argentina",
          "Uruguay",
          "Colombia",
          "Guatemala",
          "Suriname",
          "Trinidad and Tobago",
          "Venezuela",
          "El Salvador",
          "Nicaragua",
          "Ecuador",
          "Belize",
          "Bolivia",
          "Peru",
          "Paraguay",
          "Jamaica",
          "Dominican Republic",
          "Honduras",
          "Haiti"
         ],
         "legendgroup": "Latin America and Caribbean",
         "marker": {
          "color": "#FFA15A",
          "size": [
           7.226,
           7.187,
           6.983,
           6.81,
           6.786,
           6.67,
           6.574,
           6.485,
           6.477,
           6.269,
           6.168,
           6.13,
           6.123,
           5.975,
           5.89,
           5.878,
           5.828,
           5.824,
           5.709,
           4.885,
           4.788,
           4.518,
           7.087,
           7.039,
           6.952,
           6.778,
           6.705,
           6.701,
           6.65,
           6.545,
           6.481,
           6.324,
           6.269,
           6.168,
           6.084,
           6.068,
           5.992,
           5.976,
           5.956,
           5.822,
           5.743,
           5.538,
           5.51,
           5.155,
           4.871,
           4.028
          ],
          "sizemode": "area",
          "sizeref": 0.0194225,
          "symbol": "circle"
         },
         "mode": "markers",
         "name": "Latin America and Caribbean",
         "orientation": "h",
         "showlegend": true,
         "type": "scatter",
         "x": [
          7.226,
          7.187,
          6.983,
          6.81,
          6.786,
          6.67,
          6.574,
          6.485,
          6.477,
          6.269,
          6.168,
          6.13,
          6.123,
          5.975,
          5.89,
          5.878,
          5.828,
          5.824,
          5.709,
          4.885,
          4.788,
          4.518,
          7.087,
          7.039,
          6.952,
          6.778,
          6.705,
          6.701,
          6.65,
          6.545,
          6.481,
          6.324,
          6.269,
          6.168,
          6.084,
          6.068,
          5.992,
          5.976,
          5.956,
          5.822,
          5.743,
          5.538,
          5.51,
          5.155,
          4.871,
          4.028
         ],
         "xaxis": "x",
         "y": [
          0.95578,
          1.02054,
          0.98124,
          1.04424,
          1.06353,
          1.10715,
          1.05351,
          1.06166,
          0.91861,
          0.99534,
          1.21183,
          0.76454,
          0.74553,
          0.86402,
          0.68133,
          0.75985,
          0.59325,
          0.90019,
          0.81038,
          0.89537,
          0.59532,
          0.26673,
          1.06879,
          1.35943,
          1.08754,
          1.11508,
          1.2167,
          1.18306,
          1.15137,
          1.18157,
          1.03032,
          0.83454,
          1.09686,
          1.32572,
          1.13367,
          0.8737,
          0.69384,
          0.97306,
          0.87616,
          0.79422,
          0.99602,
          0.89373,
          0.89333,
          1.02787,
          0.69429,
          0.34097
         ],
         "yaxis": "y"
        },
        {
         "hovertemplate": "<b>%{hovertext}</b><br><br>Region=Southeastern Asia<br>Happiness Score=%{marker.size}<br>GDP per capita=%{y}<extra></extra>",
         "hovertext": [
          "Singapore",
          "Thailand",
          "Malaysia",
          "Indonesia",
          "Vietnam",
          "Philippines",
          "Laos",
          "Myanmar",
          "Cambodia",
          "Singapore",
          "Thailand",
          "Malaysia",
          "Indonesia",
          "Philippines",
          "Vietnam",
          "Laos",
          "Myanmar",
          "Cambodia"
         ],
         "legendgroup": "Southeastern Asia",
         "marker": {
          "color": "#19d3f3",
          "size": [
           6.798,
           6.455,
           5.77,
           5.399,
           5.36,
           5.073,
           4.876,
           4.307,
           3.819,
           6.739,
           6.474,
           6.005,
           5.314,
           5.279,
           5.061,
           4.876,
           4.395,
           3.907
          ],
          "sizemode": "area",
          "sizeref": 0.0194225,
          "symbol": "circle"
         },
         "mode": "markers",
         "name": "Southeastern Asia",
         "orientation": "h",
         "showlegend": true,
         "type": "scatter",
         "x": [
          6.798,
          6.455,
          5.77,
          5.399,
          5.36,
          5.073,
          4.876,
          4.307,
          3.819,
          6.739,
          6.474,
          6.005,
          5.314,
          5.279,
          5.061,
          4.876,
          4.395,
          3.907
         ],
         "xaxis": "x",
         "y": [
          1.52186,
          0.9669,
          1.12486,
          0.82827,
          0.63216,
          0.70532,
          0.59066,
          0.27108,
          0.46038,
          1.64555,
          1.0893,
          1.25142,
          0.95104,
          0.81217,
          0.74037,
          0.68042,
          0.34112,
          0.55604
         ],
         "yaxis": "y"
        },
        {
         "hovertemplate": "<b>%{hovertext}</b><br><br>Region=Central and Eastern Europe<br>Happiness Score=%{marker.size}<br>GDP per capita=%{y}<extra></extra>",
         "hovertext": [
          "Czech Republic",
          "Uzbekistan",
          "Slovakia",
          "Moldova",
          "Kazakhstan",
          "Slovenia",
          "Lithuania",
          "Belarus",
          "Poland",
          "Croatia",
          "Russia",
          "Kosovo",
          "Turkmenistan",
          "Estonia",
          "Kyrgyzstan",
          "Azerbaijan",
          "Montenegro",
          "Romania",
          "Serbia",
          "Latvia",
          "Macedonia",
          "Albania",
          "Bosnia and Herzegovina",
          "Hungary",
          "Tajikistan",
          "Ukraine",
          "Armenia",
          "Georgia",
          "Bulgaria",
          "Czech Republic",
          "Slovakia",
          "Uzbekistan",
          "Kazakhstan",
          "Moldova",
          "Russia",
          "Poland",
          "Lithuania",
          "Belarus",
          "Slovenia",
          "Turkmenistan",
          "Latvia",
          "Romania",
          "Estonia",
          "Croatia",
          "Kosovo",
          "Azerbaijan",
          "Kyrgyzstan",
          "Serbia",
          "Bosnia and Herzegovina",
          "Montenegro",
          "Hungary",
          "Macedonia",
          "Tajikistan",
          "Albania",
          "Armenia",
          "Ukraine",
          "Georgia",
          "Bulgaria"
         ],
         "legendgroup": "Central and Eastern Europe",
         "marker": {
          "color": "#FF6692",
          "size": [
           6.505,
           6.003,
           5.995,
           5.889,
           5.855,
           5.848,
           5.833,
           5.813,
           5.791,
           5.759,
           5.716,
           5.589,
           5.548,
           5.429,
           5.286,
           5.212,
           5.192,
           5.124,
           5.123,
           5.098,
           5.007,
           4.959,
           4.949,
           4.8,
           4.786,
           4.681,
           4.35,
           4.297,
           4.218,
           6.596,
           6.078,
           5.987,
           5.919,
           5.897,
           5.856,
           5.835,
           5.813,
           5.802,
           5.768,
           5.658,
           5.56,
           5.528,
           5.517,
           5.488,
           5.401,
           5.291,
           5.185,
           5.177,
           5.163,
           5.161,
           5.145,
           5.121,
           4.996,
           4.655,
           4.36,
           4.324,
           4.252,
           4.217
          ],
          "sizemode": "area",
          "sizeref": 0.0194225,
          "symbol": "circle"
         },
         "mode": "markers",
         "name": "Central and Eastern Europe",
         "orientation": "h",
         "showlegend": true,
         "type": "scatter",
         "x": [
          6.505,
          6.003,
          5.995,
          5.889,
          5.855,
          5.848,
          5.833,
          5.813,
          5.791,
          5.759,
          5.716,
          5.589,
          5.548,
          5.429,
          5.286,
          5.212,
          5.192,
          5.124,
          5.123,
          5.098,
          5.007,
          4.959,
          4.949,
          4.8,
          4.786,
          4.681,
          4.35,
          4.297,
          4.218,
          6.596,
          6.078,
          5.987,
          5.919,
          5.897,
          5.856,
          5.835,
          5.813,
          5.802,
          5.768,
          5.658,
          5.56,
          5.528,
          5.517,
          5.488,
          5.401,
          5.291,
          5.185,
          5.177,
          5.163,
          5.161,
          5.145,
          5.121,
          4.996,
          4.655,
          4.36,
          4.324,
          4.252,
          4.217
         ],
         "xaxis": "x",
         "y": [
          1.17898,
          0.63244,
          1.16891,
          0.59448,
          1.12254,
          1.18498,
          1.14723,
          1.03192,
          1.12555,
          1.08254,
          1.13764,
          0.80148,
          0.95847,
          1.15174,
          0.47428,
          1.02389,
          0.97438,
          1.04345,
          0.92053,
          1.11312,
          0.91851,
          0.87867,
          0.83223,
          1.12094,
          0.39047,
          0.79907,
          0.76821,
          0.7419,
          1.01216,
          1.30915,
          1.27973,
          0.73591,
          1.22943,
          0.69177,
          1.23228,
          1.24585,
          1.2692,
          1.13062,
          1.29947,
          1.08017,
          1.21788,
          1.1697,
          1.27964,
          1.18649,
          0.90145,
          1.12373,
          0.56044,
          1.03437,
          0.93383,
          1.07838,
          1.24142,
          1.0193,
          0.48835,
          0.9553,
          0.86086,
          0.87287,
          0.83792,
          1.11306
         ],
         "yaxis": "y"
        },
        {
         "hovertemplate": "<b>%{hovertext}</b><br><br>Region=Eastern Asia<br>Happiness Score=%{marker.size}<br>GDP per capita=%{y}<extra></extra>",
         "hovertext": [
          "Taiwan",
          "Japan",
          "South Korea",
          "Hong Kong",
          "China",
          "Mongolia",
          "Taiwan",
          "Japan",
          "South Korea",
          "Hong Kong",
          "China",
          "Mongolia"
         ],
         "legendgroup": "Eastern Asia",
         "marker": {
          "color": "#B6E880",
          "size": [
           6.298,
           5.987,
           5.984,
           5.474,
           5.14,
           4.874,
           6.379,
           5.921,
           5.835,
           5.458,
           5.245,
           4.907
          ],
          "sizemode": "area",
          "sizeref": 0.0194225,
          "symbol": "circle"
         },
         "mode": "markers",
         "name": "Eastern Asia",
         "orientation": "h",
         "showlegend": true,
         "type": "scatter",
         "x": [
          6.298,
          5.987,
          5.984,
          5.474,
          5.14,
          4.874,
          6.379,
          5.921,
          5.835,
          5.458,
          5.245,
          4.907
         ],
         "xaxis": "x",
         "y": [
          1.29098,
          1.27074,
          1.24461,
          1.38604,
          0.89012,
          0.82819,
          1.39729,
          1.38007,
          1.35948,
          1.5107,
          1.0278,
          0.98853
         ],
         "yaxis": "y"
        },
        {
         "hovertemplate": "<b>%{hovertext}</b><br><br>Region=Sub-Saharan Africa<br>Happiness Score=%{marker.size}<br>GDP per capita=%{y}<extra></extra>",
         "hovertext": [
          "Mauritius",
          "Nigeria",
          "Zambia",
          "Somaliland region",
          "Mozambique",
          "Lesotho",
          "Swaziland",
          "South Africa",
          "Ghana",
          "Zimbabwe",
          "Liberia",
          "Sudan",
          "Congo (Kinshasa)",
          "Ethiopia",
          "Sierra Leone",
          "Mauritania",
          "Kenya",
          "Djibouti",
          "Botswana",
          "Malawi",
          "Cameroon",
          "Angola",
          "Mali",
          "Congo (Brazzaville)",
          "Comoros",
          "Uganda",
          "Senegal",
          "Gabon",
          "Niger",
          "Tanzania",
          "Madagascar",
          "Central African Republic",
          "Chad",
          "Guinea",
          "Ivory Coast",
          "Burkina Faso",
          "Rwanda",
          "Benin",
          "Burundi",
          "Togo",
          "Mauritius",
          "Somalia",
          "Somaliland Region",
          "Nigeria",
          "Zambia",
          "Sierra Leone",
          "Namibia",
          "Cameroon",
          "Ethiopia",
          "South Africa",
          "Kenya",
          "Ghana",
          "Congo (Kinshasa)",
          "Congo (Brazzaville)",
          "Senegal",
          "Mauritania",
          "Zimbabwe",
          "Malawi",
          "Sudan",
          "Gabon",
          "Mali",
          "Botswana",
          "Comoros",
          "Ivory Coast",
          "Angola",
          "Niger",
          "South Sudan",
          "Chad",
          "Burkina Faso",
          "Uganda",
          "Madagascar",
          "Tanzania",
          "Liberia",
          "Guinea",
          "Rwanda",
          "Benin",
          "Togo",
          "Burundi"
         ],
         "legendgroup": "Sub-Saharan Africa",
         "marker": {
          "color": "#FF97FF",
          "size": [
           5.477,
           5.268,
           5.129,
           5.057,
           4.971,
           4.898,
           4.867,
           4.642,
           4.633,
           4.61,
           4.571,
           4.55,
           4.517,
           4.512,
           4.507,
           4.436,
           4.419,
           4.369,
           4.332,
           4.292,
           4.252,
           4.033,
           3.995,
           3.989,
           3.956,
           3.931,
           3.904,
           3.896,
           3.845,
           3.781,
           3.681,
           3.678,
           3.667,
           3.656,
           3.655,
           3.587,
           3.465,
           3.34,
           2.905,
           2.839,
           5.648,
           5.44,
           5.057,
           4.875,
           4.795,
           4.635,
           4.574,
           4.513,
           4.508,
           4.459,
           4.356,
           4.276,
           4.272,
           4.236,
           4.219,
           4.201,
           4.193,
           4.156,
           4.139,
           4.121,
           4.073,
           3.974,
           3.956,
           3.916,
           3.866,
           3.856,
           3.832,
           3.763,
           3.739,
           3.739,
           3.695,
           3.666,
           3.622,
           3.607,
           3.515,
           3.484,
           3.303,
           2.905
          ],
          "sizemode": "area",
          "sizeref": 0.0194225,
          "symbol": "circle"
         },
         "mode": "markers",
         "name": "Sub-Saharan Africa",
         "orientation": "h",
         "showlegend": true,
         "type": "scatter",
         "x": [
          5.477,
          5.268,
          5.129,
          5.057,
          4.971,
          4.898,
          4.867,
          4.642,
          4.633,
          4.61,
          4.571,
          4.55,
          4.517,
          4.512,
          4.507,
          4.436,
          4.419,
          4.369,
          4.332,
          4.292,
          4.252,
          4.033,
          3.995,
          3.989,
          3.956,
          3.931,
          3.904,
          3.896,
          3.845,
          3.781,
          3.681,
          3.678,
          3.667,
          3.656,
          3.655,
          3.587,
          3.465,
          3.34,
          2.905,
          2.839,
          5.648,
          5.44,
          5.057,
          4.875,
          4.795,
          4.635,
          4.574,
          4.513,
          4.508,
          4.459,
          4.356,
          4.276,
          4.272,
          4.236,
          4.219,
          4.201,
          4.193,
          4.156,
          4.139,
          4.121,
          4.073,
          3.974,
          3.956,
          3.916,
          3.866,
          3.856,
          3.832,
          3.763,
          3.739,
          3.739,
          3.695,
          3.666,
          3.622,
          3.607,
          3.515,
          3.484,
          3.303,
          2.905
         ],
         "xaxis": "x",
         "y": [
          1.00761,
          0.65435,
          0.47038,
          0.18847,
          0.08308,
          0.37545,
          0.71206,
          0.92049,
          0.54558,
          0.271,
          0.0712,
          0.52107,
          null,
          0.19073,
          0.33024,
          0.45407,
          0.36471,
          0.44025,
          0.99355,
          0.01604,
          0.4225,
          0.75778,
          0.26074,
          0.67866,
          0.23906,
          0.21102,
          0.36498,
          1.06024,
          0.0694,
          0.2852,
          0.20824,
          0.0785,
          0.34193,
          0.17417,
          0.46534,
          0.25812,
          0.22208,
          0.28665,
          0.0153,
          0.20868,
          1.14372,
          null,
          0.25558,
          0.75216,
          0.61202,
          0.36485,
          0.93287,
          0.52497,
          0.29283,
          1.02416,
          0.52267,
          0.63107,
          0.05661,
          0.77109,
          0.44314,
          0.61391,
          0.35041,
          0.08709,
          0.63069,
          1.15851,
          0.31292,
          1.09426,
          0.27509,
          0.55507,
          0.84731,
          0.1327,
          0.39394,
          0.42214,
          0.31995,
          0.34719,
          0.27954,
          0.47155,
          0.10706,
          0.22415,
          0.32846,
          0.39499,
          0.28123,
          0.06831
         ],
         "yaxis": "y"
        },
        {
         "hovertemplate": "<b>%{hovertext}</b><br><br>Region=Southern Asia<br>Happiness Score=%{marker.size}<br>GDP per capita=%{y}<extra></extra>",
         "hovertext": [
          "Bhutan",
          "Pakistan",
          "Bangladesh",
          "India",
          "Nepal",
          "Sri Lanka",
          "Afghanistan",
          "Bhutan",
          "Pakistan",
          "Nepal",
          "Bangladesh",
          "Sri Lanka",
          "India",
          "Afghanistan"
         ],
         "legendgroup": "Southern Asia",
         "marker": {
          "color": "#FECB52",
          "size": [
           5.253,
           5.194,
           4.694,
           4.565,
           4.514,
           4.271,
           3.575,
           5.196,
           5.132,
           4.793,
           4.643,
           4.415,
           4.404,
           3.36
          ],
          "sizemode": "area",
          "sizeref": 0.0194225,
          "symbol": "circle"
         },
         "mode": "markers",
         "name": "Southern Asia",
         "orientation": "h",
         "showlegend": true,
         "type": "scatter",
         "x": [
          5.253,
          5.194,
          4.694,
          4.565,
          4.514,
          4.271,
          3.575,
          5.196,
          5.132,
          4.793,
          4.643,
          4.415,
          4.404,
          3.36
         ],
         "xaxis": "x",
         "y": [
          0.77042,
          0.59543,
          0.39753,
          0.64499,
          0.35997,
          0.83524,
          0.31982,
          0.8527,
          0.68816,
          0.44626,
          0.54177,
          0.97318,
          0.74036,
          0.38227
         ],
         "yaxis": "y"
        }
       ],
       "layout": {
        "autosize": true,
        "legend": {
         "itemsizing": "constant",
         "title": {
          "text": "Region"
         },
         "tracegroupgap": 0
        },
        "template": {
         "data": {
          "bar": [
           {
            "error_x": {
             "color": "#2a3f5f"
            },
            "error_y": {
             "color": "#2a3f5f"
            },
            "marker": {
             "line": {
              "color": "#E5ECF6",
              "width": 0.5
             },
             "pattern": {
              "fillmode": "overlay",
              "size": 10,
              "solidity": 0.2
             }
            },
            "type": "bar"
           }
          ],
          "barpolar": [
           {
            "marker": {
             "line": {
              "color": "#E5ECF6",
              "width": 0.5
             },
             "pattern": {
              "fillmode": "overlay",
              "size": 10,
              "solidity": 0.2
             }
            },
            "type": "barpolar"
           }
          ],
          "carpet": [
           {
            "aaxis": {
             "endlinecolor": "#2a3f5f",
             "gridcolor": "white",
             "linecolor": "white",
             "minorgridcolor": "white",
             "startlinecolor": "#2a3f5f"
            },
            "baxis": {
             "endlinecolor": "#2a3f5f",
             "gridcolor": "white",
             "linecolor": "white",
             "minorgridcolor": "white",
             "startlinecolor": "#2a3f5f"
            },
            "type": "carpet"
           }
          ],
          "choropleth": [
           {
            "colorbar": {
             "outlinewidth": 0,
             "ticks": ""
            },
            "type": "choropleth"
           }
          ],
          "contour": [
           {
            "colorbar": {
             "outlinewidth": 0,
             "ticks": ""
            },
            "colorscale": [
             [
              0,
              "#0d0887"
             ],
             [
              0.1111111111111111,
              "#46039f"
             ],
             [
              0.2222222222222222,
              "#7201a8"
             ],
             [
              0.3333333333333333,
              "#9c179e"
             ],
             [
              0.4444444444444444,
              "#bd3786"
             ],
             [
              0.5555555555555556,
              "#d8576b"
             ],
             [
              0.6666666666666666,
              "#ed7953"
             ],
             [
              0.7777777777777778,
              "#fb9f3a"
             ],
             [
              0.8888888888888888,
              "#fdca26"
             ],
             [
              1,
              "#f0f921"
             ]
            ],
            "type": "contour"
           }
          ],
          "contourcarpet": [
           {
            "colorbar": {
             "outlinewidth": 0,
             "ticks": ""
            },
            "type": "contourcarpet"
           }
          ],
          "heatmap": [
           {
            "colorbar": {
             "outlinewidth": 0,
             "ticks": ""
            },
            "colorscale": [
             [
              0,
              "#0d0887"
             ],
             [
              0.1111111111111111,
              "#46039f"
             ],
             [
              0.2222222222222222,
              "#7201a8"
             ],
             [
              0.3333333333333333,
              "#9c179e"
             ],
             [
              0.4444444444444444,
              "#bd3786"
             ],
             [
              0.5555555555555556,
              "#d8576b"
             ],
             [
              0.6666666666666666,
              "#ed7953"
             ],
             [
              0.7777777777777778,
              "#fb9f3a"
             ],
             [
              0.8888888888888888,
              "#fdca26"
             ],
             [
              1,
              "#f0f921"
             ]
            ],
            "type": "heatmap"
           }
          ],
          "heatmapgl": [
           {
            "colorbar": {
             "outlinewidth": 0,
             "ticks": ""
            },
            "colorscale": [
             [
              0,
              "#0d0887"
             ],
             [
              0.1111111111111111,
              "#46039f"
             ],
             [
              0.2222222222222222,
              "#7201a8"
             ],
             [
              0.3333333333333333,
              "#9c179e"
             ],
             [
              0.4444444444444444,
              "#bd3786"
             ],
             [
              0.5555555555555556,
              "#d8576b"
             ],
             [
              0.6666666666666666,
              "#ed7953"
             ],
             [
              0.7777777777777778,
              "#fb9f3a"
             ],
             [
              0.8888888888888888,
              "#fdca26"
             ],
             [
              1,
              "#f0f921"
             ]
            ],
            "type": "heatmapgl"
           }
          ],
          "histogram": [
           {
            "marker": {
             "pattern": {
              "fillmode": "overlay",
              "size": 10,
              "solidity": 0.2
             }
            },
            "type": "histogram"
           }
          ],
          "histogram2d": [
           {
            "colorbar": {
             "outlinewidth": 0,
             "ticks": ""
            },
            "colorscale": [
             [
              0,
              "#0d0887"
             ],
             [
              0.1111111111111111,
              "#46039f"
             ],
             [
              0.2222222222222222,
              "#7201a8"
             ],
             [
              0.3333333333333333,
              "#9c179e"
             ],
             [
              0.4444444444444444,
              "#bd3786"
             ],
             [
              0.5555555555555556,
              "#d8576b"
             ],
             [
              0.6666666666666666,
              "#ed7953"
             ],
             [
              0.7777777777777778,
              "#fb9f3a"
             ],
             [
              0.8888888888888888,
              "#fdca26"
             ],
             [
              1,
              "#f0f921"
             ]
            ],
            "type": "histogram2d"
           }
          ],
          "histogram2dcontour": [
           {
            "colorbar": {
             "outlinewidth": 0,
             "ticks": ""
            },
            "colorscale": [
             [
              0,
              "#0d0887"
             ],
             [
              0.1111111111111111,
              "#46039f"
             ],
             [
              0.2222222222222222,
              "#7201a8"
             ],
             [
              0.3333333333333333,
              "#9c179e"
             ],
             [
              0.4444444444444444,
              "#bd3786"
             ],
             [
              0.5555555555555556,
              "#d8576b"
             ],
             [
              0.6666666666666666,
              "#ed7953"
             ],
             [
              0.7777777777777778,
              "#fb9f3a"
             ],
             [
              0.8888888888888888,
              "#fdca26"
             ],
             [
              1,
              "#f0f921"
             ]
            ],
            "type": "histogram2dcontour"
           }
          ],
          "mesh3d": [
           {
            "colorbar": {
             "outlinewidth": 0,
             "ticks": ""
            },
            "type": "mesh3d"
           }
          ],
          "parcoords": [
           {
            "line": {
             "colorbar": {
              "outlinewidth": 0,
              "ticks": ""
             }
            },
            "type": "parcoords"
           }
          ],
          "pie": [
           {
            "automargin": true,
            "type": "pie"
           }
          ],
          "scatter": [
           {
            "fillpattern": {
             "fillmode": "overlay",
             "size": 10,
             "solidity": 0.2
            },
            "type": "scatter"
           }
          ],
          "scatter3d": [
           {
            "line": {
             "colorbar": {
              "outlinewidth": 0,
              "ticks": ""
             }
            },
            "marker": {
             "colorbar": {
              "outlinewidth": 0,
              "ticks": ""
             }
            },
            "type": "scatter3d"
           }
          ],
          "scattercarpet": [
           {
            "marker": {
             "colorbar": {
              "outlinewidth": 0,
              "ticks": ""
             }
            },
            "type": "scattercarpet"
           }
          ],
          "scattergeo": [
           {
            "marker": {
             "colorbar": {
              "outlinewidth": 0,
              "ticks": ""
             }
            },
            "type": "scattergeo"
           }
          ],
          "scattergl": [
           {
            "marker": {
             "colorbar": {
              "outlinewidth": 0,
              "ticks": ""
             }
            },
            "type": "scattergl"
           }
          ],
          "scattermapbox": [
           {
            "marker": {
             "colorbar": {
              "outlinewidth": 0,
              "ticks": ""
             }
            },
            "type": "scattermapbox"
           }
          ],
          "scatterpolar": [
           {
            "marker": {
             "colorbar": {
              "outlinewidth": 0,
              "ticks": ""
             }
            },
            "type": "scatterpolar"
           }
          ],
          "scatterpolargl": [
           {
            "marker": {
             "colorbar": {
              "outlinewidth": 0,
              "ticks": ""
             }
            },
            "type": "scatterpolargl"
           }
          ],
          "scatterternary": [
           {
            "marker": {
             "colorbar": {
              "outlinewidth": 0,
              "ticks": ""
             }
            },
            "type": "scatterternary"
           }
          ],
          "surface": [
           {
            "colorbar": {
             "outlinewidth": 0,
             "ticks": ""
            },
            "colorscale": [
             [
              0,
              "#0d0887"
             ],
             [
              0.1111111111111111,
              "#46039f"
             ],
             [
              0.2222222222222222,
              "#7201a8"
             ],
             [
              0.3333333333333333,
              "#9c179e"
             ],
             [
              0.4444444444444444,
              "#bd3786"
             ],
             [
              0.5555555555555556,
              "#d8576b"
             ],
             [
              0.6666666666666666,
              "#ed7953"
             ],
             [
              0.7777777777777778,
              "#fb9f3a"
             ],
             [
              0.8888888888888888,
              "#fdca26"
             ],
             [
              1,
              "#f0f921"
             ]
            ],
            "type": "surface"
           }
          ],
          "table": [
           {
            "cells": {
             "fill": {
              "color": "#EBF0F8"
             },
             "line": {
              "color": "white"
             }
            },
            "header": {
             "fill": {
              "color": "#C8D4E3"
             },
             "line": {
              "color": "white"
             }
            },
            "type": "table"
           }
          ]
         },
         "layout": {
          "annotationdefaults": {
           "arrowcolor": "#2a3f5f",
           "arrowhead": 0,
           "arrowwidth": 1
          },
          "autotypenumbers": "strict",
          "coloraxis": {
           "colorbar": {
            "outlinewidth": 0,
            "ticks": ""
           }
          },
          "colorscale": {
           "diverging": [
            [
             0,
             "#8e0152"
            ],
            [
             0.1,
             "#c51b7d"
            ],
            [
             0.2,
             "#de77ae"
            ],
            [
             0.3,
             "#f1b6da"
            ],
            [
             0.4,
             "#fde0ef"
            ],
            [
             0.5,
             "#f7f7f7"
            ],
            [
             0.6,
             "#e6f5d0"
            ],
            [
             0.7,
             "#b8e186"
            ],
            [
             0.8,
             "#7fbc41"
            ],
            [
             0.9,
             "#4d9221"
            ],
            [
             1,
             "#276419"
            ]
           ],
           "sequential": [
            [
             0,
             "#0d0887"
            ],
            [
             0.1111111111111111,
             "#46039f"
            ],
            [
             0.2222222222222222,
             "#7201a8"
            ],
            [
             0.3333333333333333,
             "#9c179e"
            ],
            [
             0.4444444444444444,
             "#bd3786"
            ],
            [
             0.5555555555555556,
             "#d8576b"
            ],
            [
             0.6666666666666666,
             "#ed7953"
            ],
            [
             0.7777777777777778,
             "#fb9f3a"
            ],
            [
             0.8888888888888888,
             "#fdca26"
            ],
            [
             1,
             "#f0f921"
            ]
           ],
           "sequentialminus": [
            [
             0,
             "#0d0887"
            ],
            [
             0.1111111111111111,
             "#46039f"
            ],
            [
             0.2222222222222222,
             "#7201a8"
            ],
            [
             0.3333333333333333,
             "#9c179e"
            ],
            [
             0.4444444444444444,
             "#bd3786"
            ],
            [
             0.5555555555555556,
             "#d8576b"
            ],
            [
             0.6666666666666666,
             "#ed7953"
            ],
            [
             0.7777777777777778,
             "#fb9f3a"
            ],
            [
             0.8888888888888888,
             "#fdca26"
            ],
            [
             1,
             "#f0f921"
            ]
           ]
          },
          "colorway": [
           "#636efa",
           "#EF553B",
           "#00cc96",
           "#ab63fa",
           "#FFA15A",
           "#19d3f3",
           "#FF6692",
           "#B6E880",
           "#FF97FF",
           "#FECB52"
          ],
          "font": {
           "color": "#2a3f5f"
          },
          "geo": {
           "bgcolor": "white",
           "lakecolor": "white",
           "landcolor": "#E5ECF6",
           "showlakes": true,
           "showland": true,
           "subunitcolor": "white"
          },
          "hoverlabel": {
           "align": "left"
          },
          "hovermode": "closest",
          "mapbox": {
           "style": "light"
          },
          "paper_bgcolor": "white",
          "plot_bgcolor": "#E5ECF6",
          "polar": {
           "angularaxis": {
            "gridcolor": "white",
            "linecolor": "white",
            "ticks": ""
           },
           "bgcolor": "#E5ECF6",
           "radialaxis": {
            "gridcolor": "white",
            "linecolor": "white",
            "ticks": ""
           }
          },
          "scene": {
           "xaxis": {
            "backgroundcolor": "#E5ECF6",
            "gridcolor": "white",
            "gridwidth": 2,
            "linecolor": "white",
            "showbackground": true,
            "ticks": "",
            "zerolinecolor": "white"
           },
           "yaxis": {
            "backgroundcolor": "#E5ECF6",
            "gridcolor": "white",
            "gridwidth": 2,
            "linecolor": "white",
            "showbackground": true,
            "ticks": "",
            "zerolinecolor": "white"
           },
           "zaxis": {
            "backgroundcolor": "#E5ECF6",
            "gridcolor": "white",
            "gridwidth": 2,
            "linecolor": "white",
            "showbackground": true,
            "ticks": "",
            "zerolinecolor": "white"
           }
          },
          "shapedefaults": {
           "line": {
            "color": "#2a3f5f"
           }
          },
          "ternary": {
           "aaxis": {
            "gridcolor": "white",
            "linecolor": "white",
            "ticks": ""
           },
           "baxis": {
            "gridcolor": "white",
            "linecolor": "white",
            "ticks": ""
           },
           "bgcolor": "#E5ECF6",
           "caxis": {
            "gridcolor": "white",
            "linecolor": "white",
            "ticks": ""
           }
          },
          "title": {
           "x": 0.05
          },
          "xaxis": {
           "automargin": true,
           "gridcolor": "white",
           "linecolor": "white",
           "ticks": "",
           "title": {
            "standoff": 15
           },
           "zerolinecolor": "white",
           "zerolinewidth": 2
          },
          "yaxis": {
           "automargin": true,
           "gridcolor": "white",
           "linecolor": "white",
           "ticks": "",
           "title": {
            "standoff": 15
           },
           "zerolinecolor": "white",
           "zerolinewidth": 2
          }
         }
        },
        "title": {
         "text": "Global Happiness Score v GDP Per Capita by Region"
        },
        "xaxis": {
         "anchor": "y",
         "autorange": true,
         "domain": [
          0,
          1
         ],
         "range": [
          2.4540425680549762,
          8.039055220602975
         ],
         "title": {
          "text": "Happiness Score"
         },
         "type": "linear"
        },
        "yaxis": {
         "anchor": "x",
         "autorange": true,
         "domain": [
          0,
          1
         ],
         "range": [
          -0.2600287246228685,
          2.1345362770426495
         ],
         "title": {
          "text": "GDP per capita"
         },
         "type": "linear"
        }
       }
      },
      "image/png": "[encoded data removed]",
      "text/html": [
       "<div>                            <div id=\"12532c2e-66ab-4a33-a910-81e493ae2155\" class=\"plotly-graph-div\" style=\"height:525px; width:100%;\"></div>            <script type=\"text/javascript\">                require([\"plotly\"], function(Plotly) {                    window.PLOTLYENV=window.PLOTLYENV || {};                                    if (document.getElementById(\"12532c2e-66ab-4a33-a910-81e493ae2155\")) {                    Plotly.newPlot(                        \"12532c2e-66ab-4a33-a910-81e493ae2155\",                        [{\"hovertemplate\":\"\\u003cb\\u003e%{hovertext}\\u003c\\u002fb\\u003e\\u003cbr\\u003e\\u003cbr\\u003eRegion=Western Europe\\u003cbr\\u003eHappiness Score=%{marker.size}\\u003cbr\\u003eGDP per capita=%{y}\\u003cextra\\u003e\\u003c\\u002fextra\\u003e\",\"hovertext\":[\"Switzerland\",\"Iceland\",\"Denmark\",\"Norway\",\"Finland\",\"Netherlands\",\"Sweden\",\"Austria\",\"Luxembourg\",\"Ireland\",\"Belgium\",\"United Kingdom\",\"Germany\",\"France\",\"Spain\",\"Malta\",\"Italy\",\"North Cyprus\",\"Cyprus\",\"Portugal\",\"Greece\",\"Denmark\",\"Switzerland\",\"Iceland\",\"Norway\",\"Finland\",\"Netherlands\",\"Sweden\",\"Austria\",\"Germany\",\"Belgium\",\"Ireland\",\"Luxembourg\",\"United Kingdom\",\"Malta\",\"France\",\"Spain\",\"Italy\",\"North Cyprus\",\"Cyprus\",\"Portugal\",\"Greece\"],\"legendgroup\":\"Western Europe\",\"marker\":{\"color\":\"#636efa\",\"size\":[7.587,7.561,7.527,7.522,7.406,7.378,7.364,7.2,6.946,6.94,6.937,6.867,6.75,6.575,6.329,6.302,5.948,5.695,5.689,5.102,4.857,7.526,7.509,7.501,7.498,7.413,7.339,7.291,7.119,6.994,6.929,6.907,6.871,6.725,6.488,6.478,6.361,5.977,5.771,5.546,5.123,5.033],\"sizemode\":\"area\",\"sizeref\":0.0194225,\"symbol\":\"circle\"},\"mode\":\"markers\",\"name\":\"Western Europe\",\"orientation\":\"h\",\"showlegend\":true,\"x\":[7.587,7.561,7.527,7.522,7.406,7.378,7.364,7.2,6.946,6.94,6.937,6.867,6.75,6.575,6.329,6.302,5.948,5.695,5.689,5.102,4.857,7.526,7.509,7.501,7.498,7.413,7.339,7.291,7.119,6.994,6.929,6.907,6.871,6.725,6.488,6.478,6.361,5.977,5.771,5.546,5.123,5.033],\"xaxis\":\"x\",\"y\":[1.39651,1.30232,1.32548,1.459,1.29025,1.32944,1.33171,1.33723,1.56391,1.33596,1.30782,1.26637,1.32792,1.27778,1.23011,1.2074,1.25114,1.20806,1.20813,1.15991,1.15406,1.44178,1.52733,1.42666,1.57744,1.40598,1.46468,1.45181,1.45038,1.44787,1.42539,1.48341,1.69752,1.40283,1.30782,1.39488,1.34253,1.35495,1.31141,1.31857,1.27607,1.24886],\"yaxis\":\"y\",\"type\":\"scatter\"},{\"hovertemplate\":\"\\u003cb\\u003e%{hovertext}\\u003c\\u002fb\\u003e\\u003cbr\\u003e\\u003cbr\\u003eRegion=North America\\u003cbr\\u003eHappiness Score=%{marker.size}\\u003cbr\\u003eGDP per capita=%{y}\\u003cextra\\u003e\\u003c\\u002fextra\\u003e\",\"hovertext\":[\"Canada\",\"United States\",\"Canada\",\"United States\"],\"legendgroup\":\"North America\",\"marker\":{\"color\":\"#EF553B\",\"size\":[7.427,7.119,7.404,7.104],\"sizemode\":\"area\",\"sizeref\":0.0194225,\"symbol\":\"circle\"},\"mode\":\"markers\",\"name\":\"North America\",\"orientation\":\"h\",\"showlegend\":true,\"x\":[7.427,7.119,7.404,7.104],\"xaxis\":\"x\",\"y\":[1.32629,1.39451,1.44015,1.50796],\"yaxis\":\"y\",\"type\":\"scatter\"},{\"hovertemplate\":\"\\u003cb\\u003e%{hovertext}\\u003c\\u002fb\\u003e\\u003cbr\\u003e\\u003cbr\\u003eRegion=Australia and New Zealand\\u003cbr\\u003eHappiness Score=%{marker.size}\\u003cbr\\u003eGDP per capita=%{y}\\u003cextra\\u003e\\u003c\\u002fextra\\u003e\",\"hovertext\":[\"New Zealand\",\"Australia\",\"New Zealand\",\"Australia\"],\"legendgroup\":\"Australia and New Zealand\",\"marker\":{\"color\":\"#00cc96\",\"size\":[7.286,7.284,7.334,7.313],\"sizemode\":\"area\",\"sizeref\":0.0194225,\"symbol\":\"circle\"},\"mode\":\"markers\",\"name\":\"Australia and New Zealand\",\"orientation\":\"h\",\"showlegend\":true,\"x\":[7.286,7.284,7.334,7.313],\"xaxis\":\"x\",\"y\":[1.25018,1.33358,1.36066,1.44443],\"yaxis\":\"y\",\"type\":\"scatter\"},{\"hovertemplate\":\"\\u003cb\\u003e%{hovertext}\\u003c\\u002fb\\u003e\\u003cbr\\u003e\\u003cbr\\u003eRegion=Middle East and Northern Africa\\u003cbr\\u003eHappiness Score=%{marker.size}\\u003cbr\\u003eGDP per capita=%{y}\\u003cextra\\u003e\\u003c\\u002fextra\\u003e\",\"hovertext\":[\"Israel\",\"United Arab Emirates\",\"Oman\",\"Qatar\",\"Saudi Arabia\",\"Kuwait\",\"Bahrain\",\"Libya\",\"Algeria\",\"Turkey\",\"Jordan\",\"Morocco\",\"Lebanon\",\"Tunisia\",\"Palestinian Territories\",\"Iran\",\"Iraq\",\"Egypt\",\"Yemen\",\"Syria\",\"Israel\",\"United Arab Emirates\",\"Saudi Arabia\",\"Qatar\",\"Algeria\",\"Kuwait\",\"Bahrain\",\"Libya\",\"Turkey\",\"Jordan\",\"Morocco\",\"Lebanon\",\"Tunisia\",\"Iran\",\"Palestinian Territories\",\"Iraq\",\"Egypt\",\"Yemen\",\"Syria\"],\"legendgroup\":\"Middle East and Northern Africa\",\"marker\":{\"color\":\"#ab63fa\",\"size\":[7.278,6.901,6.853,6.611,6.411,6.295,5.96,5.754,5.605,5.332,5.192,5.013,4.839,4.739,4.715,4.686,4.677,4.194,4.077,3.006,7.267,6.573,6.379,6.375,6.355,6.239,6.218,5.615,5.389,5.303,5.151,5.129,5.045,4.813,4.754,4.575,4.362,3.724,3.069],\"sizemode\":\"area\",\"sizeref\":0.0194225,\"symbol\":\"circle\"},\"mode\":\"markers\",\"name\":\"Middle East and Northern Africa\",\"orientation\":\"h\",\"showlegend\":true,\"x\":[7.278,6.901,6.853,6.611,6.411,6.295,5.96,5.754,5.605,5.332,5.192,5.013,4.839,4.739,4.715,4.686,4.677,4.194,4.077,3.006,7.267,6.573,6.379,6.375,6.355,6.239,6.218,5.615,5.389,5.303,5.151,5.129,5.045,4.813,4.754,4.575,4.362,3.724,3.069],\"xaxis\":\"x\",\"y\":[1.22857,1.42727,1.36011,1.69042,1.39541,1.55422,1.32376,1.13145,0.93929,1.06098,0.90198,0.73479,1.02564,0.88113,0.59867,1.0088,0.98549,0.8818,0.54649,0.6632,1.33766,1.57352,1.48953,1.82427,1.05266,1.61714,1.44024,1.06688,1.16492,0.99673,0.84058,1.12268,0.97724,1.11758,0.67024,1.07474,0.95395,0.57939,0.74719],\"yaxis\":\"y\",\"type\":\"scatter\"},{\"hovertemplate\":\"\\u003cb\\u003e%{hovertext}\\u003c\\u002fb\\u003e\\u003cbr\\u003e\\u003cbr\\u003eRegion=Latin America and Caribbean\\u003cbr\\u003eHappiness Score=%{marker.size}\\u003cbr\\u003eGDP per capita=%{y}\\u003cextra\\u003e\\u003c\\u002fextra\\u003e\",\"hovertext\":[\"Costa Rica\",\"Mexico\",\"Brazil\",\"Venezuela\",\"Panama\",\"Chile\",\"Argentina\",\"Uruguay\",\"Colombia\",\"Suriname\",\"Trinidad and Tobago\",\"El Salvador\",\"Guatemala\",\"Ecuador\",\"Bolivia\",\"Paraguay\",\"Nicaragua\",\"Peru\",\"Jamaica\",\"Dominican Republic\",\"Honduras\",\"Haiti\",\"Costa Rica\",\"Puerto Rico\",\"Brazil\",\"Mexico\",\"Chile\",\"Panama\",\"Argentina\",\"Uruguay\",\"Colombia\",\"Guatemala\",\"Suriname\",\"Trinidad and Tobago\",\"Venezuela\",\"El Salvador\",\"Nicaragua\",\"Ecuador\",\"Belize\",\"Bolivia\",\"Peru\",\"Paraguay\",\"Jamaica\",\"Dominican Republic\",\"Honduras\",\"Haiti\"],\"legendgroup\":\"Latin America and Caribbean\",\"marker\":{\"color\":\"#FFA15A\",\"size\":[7.226,7.187,6.983,6.81,6.786,6.67,6.574,6.485,6.477,6.269,6.168,6.13,6.123,5.975,5.89,5.878,5.828,5.824,5.709,4.885,4.788,4.518,7.087,7.039,6.952,6.778,6.705,6.701,6.65,6.545,6.481,6.324,6.269,6.168,6.084,6.068,5.992,5.976,5.956,5.822,5.743,5.538,5.51,5.155,4.871,4.028],\"sizemode\":\"area\",\"sizeref\":0.0194225,\"symbol\":\"circle\"},\"mode\":\"markers\",\"name\":\"Latin America and Caribbean\",\"orientation\":\"h\",\"showlegend\":true,\"x\":[7.226,7.187,6.983,6.81,6.786,6.67,6.574,6.485,6.477,6.269,6.168,6.13,6.123,5.975,5.89,5.878,5.828,5.824,5.709,4.885,4.788,4.518,7.087,7.039,6.952,6.778,6.705,6.701,6.65,6.545,6.481,6.324,6.269,6.168,6.084,6.068,5.992,5.976,5.956,5.822,5.743,5.538,5.51,5.155,4.871,4.028],\"xaxis\":\"x\",\"y\":[0.95578,1.02054,0.98124,1.04424,1.06353,1.10715,1.05351,1.06166,0.91861,0.99534,1.21183,0.76454,0.74553,0.86402,0.68133,0.75985,0.59325,0.90019,0.81038,0.89537,0.59532,0.26673,1.06879,1.35943,1.08754,1.11508,1.2167,1.18306,1.15137,1.18157,1.03032,0.83454,1.09686,1.32572,1.13367,0.8737,0.69384,0.97306,0.87616,0.79422,0.99602,0.89373,0.89333,1.02787,0.69429,0.34097],\"yaxis\":\"y\",\"type\":\"scatter\"},{\"hovertemplate\":\"\\u003cb\\u003e%{hovertext}\\u003c\\u002fb\\u003e\\u003cbr\\u003e\\u003cbr\\u003eRegion=Southeastern Asia\\u003cbr\\u003eHappiness Score=%{marker.size}\\u003cbr\\u003eGDP per capita=%{y}\\u003cextra\\u003e\\u003c\\u002fextra\\u003e\",\"hovertext\":[\"Singapore\",\"Thailand\",\"Malaysia\",\"Indonesia\",\"Vietnam\",\"Philippines\",\"Laos\",\"Myanmar\",\"Cambodia\",\"Singapore\",\"Thailand\",\"Malaysia\",\"Indonesia\",\"Philippines\",\"Vietnam\",\"Laos\",\"Myanmar\",\"Cambodia\"],\"legendgroup\":\"Southeastern Asia\",\"marker\":{\"color\":\"#19d3f3\",\"size\":[6.798,6.455,5.77,5.399,5.36,5.073,4.876,4.307,3.819,6.739,6.474,6.005,5.314,5.279,5.061,4.876,4.395,3.907],\"sizemode\":\"area\",\"sizeref\":0.0194225,\"symbol\":\"circle\"},\"mode\":\"markers\",\"name\":\"Southeastern Asia\",\"orientation\":\"h\",\"showlegend\":true,\"x\":[6.798,6.455,5.77,5.399,5.36,5.073,4.876,4.307,3.819,6.739,6.474,6.005,5.314,5.279,5.061,4.876,4.395,3.907],\"xaxis\":\"x\",\"y\":[1.52186,0.9669,1.12486,0.82827,0.63216,0.70532,0.59066,0.27108,0.46038,1.64555,1.0893,1.25142,0.95104,0.81217,0.74037,0.68042,0.34112,0.55604],\"yaxis\":\"y\",\"type\":\"scatter\"},{\"hovertemplate\":\"\\u003cb\\u003e%{hovertext}\\u003c\\u002fb\\u003e\\u003cbr\\u003e\\u003cbr\\u003eRegion=Central and Eastern Europe\\u003cbr\\u003eHappiness Score=%{marker.size}\\u003cbr\\u003eGDP per capita=%{y}\\u003cextra\\u003e\\u003c\\u002fextra\\u003e\",\"hovertext\":[\"Czech Republic\",\"Uzbekistan\",\"Slovakia\",\"Moldova\",\"Kazakhstan\",\"Slovenia\",\"Lithuania\",\"Belarus\",\"Poland\",\"Croatia\",\"Russia\",\"Kosovo\",\"Turkmenistan\",\"Estonia\",\"Kyrgyzstan\",\"Azerbaijan\",\"Montenegro\",\"Romania\",\"Serbia\",\"Latvia\",\"Macedonia\",\"Albania\",\"Bosnia and Herzegovina\",\"Hungary\",\"Tajikistan\",\"Ukraine\",\"Armenia\",\"Georgia\",\"Bulgaria\",\"Czech Republic\",\"Slovakia\",\"Uzbekistan\",\"Kazakhstan\",\"Moldova\",\"Russia\",\"Poland\",\"Lithuania\",\"Belarus\",\"Slovenia\",\"Turkmenistan\",\"Latvia\",\"Romania\",\"Estonia\",\"Croatia\",\"Kosovo\",\"Azerbaijan\",\"Kyrgyzstan\",\"Serbia\",\"Bosnia and Herzegovina\",\"Montenegro\",\"Hungary\",\"Macedonia\",\"Tajikistan\",\"Albania\",\"Armenia\",\"Ukraine\",\"Georgia\",\"Bulgaria\"],\"legendgroup\":\"Central and Eastern Europe\",\"marker\":{\"color\":\"#FF6692\",\"size\":[6.505,6.003,5.995,5.889,5.855,5.848,5.833,5.813,5.791,5.759,5.716,5.589,5.548,5.429,5.286,5.212,5.192,5.124,5.123,5.098,5.007,4.959,4.949,4.8,4.786,4.681,4.35,4.297,4.218,6.596,6.078,5.987,5.919,5.897,5.856,5.835,5.813,5.802,5.768,5.658,5.56,5.528,5.517,5.488,5.401,5.291,5.185,5.177,5.163,5.161,5.145,5.121,4.996,4.655,4.36,4.324,4.252,4.217],\"sizemode\":\"area\",\"sizeref\":0.0194225,\"symbol\":\"circle\"},\"mode\":\"markers\",\"name\":\"Central and Eastern Europe\",\"orientation\":\"h\",\"showlegend\":true,\"x\":[6.505,6.003,5.995,5.889,5.855,5.848,5.833,5.813,5.791,5.759,5.716,5.589,5.548,5.429,5.286,5.212,5.192,5.124,5.123,5.098,5.007,4.959,4.949,4.8,4.786,4.681,4.35,4.297,4.218,6.596,6.078,5.987,5.919,5.897,5.856,5.835,5.813,5.802,5.768,5.658,5.56,5.528,5.517,5.488,5.401,5.291,5.185,5.177,5.163,5.161,5.145,5.121,4.996,4.655,4.36,4.324,4.252,4.217],\"xaxis\":\"x\",\"y\":[1.17898,0.63244,1.16891,0.59448,1.12254,1.18498,1.14723,1.03192,1.12555,1.08254,1.13764,0.80148,0.95847,1.15174,0.47428,1.02389,0.97438,1.04345,0.92053,1.11312,0.91851,0.87867,0.83223,1.12094,0.39047,0.79907,0.76821,0.7419,1.01216,1.30915,1.27973,0.73591,1.22943,0.69177,1.23228,1.24585,1.2692,1.13062,1.29947,1.08017,1.21788,1.1697,1.27964,1.18649,0.90145,1.12373,0.56044,1.03437,0.93383,1.07838,1.24142,1.0193,0.48835,0.9553,0.86086,0.87287,0.83792,1.11306],\"yaxis\":\"y\",\"type\":\"scatter\"},{\"hovertemplate\":\"\\u003cb\\u003e%{hovertext}\\u003c\\u002fb\\u003e\\u003cbr\\u003e\\u003cbr\\u003eRegion=Eastern Asia\\u003cbr\\u003eHappiness Score=%{marker.size}\\u003cbr\\u003eGDP per capita=%{y}\\u003cextra\\u003e\\u003c\\u002fextra\\u003e\",\"hovertext\":[\"Taiwan\",\"Japan\",\"South Korea\",\"Hong Kong\",\"China\",\"Mongolia\",\"Taiwan\",\"Japan\",\"South Korea\",\"Hong Kong\",\"China\",\"Mongolia\"],\"legendgroup\":\"Eastern Asia\",\"marker\":{\"color\":\"#B6E880\",\"size\":[6.298,5.987,5.984,5.474,5.14,4.874,6.379,5.921,5.835,5.458,5.245,4.907],\"sizemode\":\"area\",\"sizeref\":0.0194225,\"symbol\":\"circle\"},\"mode\":\"markers\",\"name\":\"Eastern Asia\",\"orientation\":\"h\",\"showlegend\":true,\"x\":[6.298,5.987,5.984,5.474,5.14,4.874,6.379,5.921,5.835,5.458,5.245,4.907],\"xaxis\":\"x\",\"y\":[1.29098,1.27074,1.24461,1.38604,0.89012,0.82819,1.39729,1.38007,1.35948,1.5107,1.0278,0.98853],\"yaxis\":\"y\",\"type\":\"scatter\"},{\"hovertemplate\":\"\\u003cb\\u003e%{hovertext}\\u003c\\u002fb\\u003e\\u003cbr\\u003e\\u003cbr\\u003eRegion=Sub-Saharan Africa\\u003cbr\\u003eHappiness Score=%{marker.size}\\u003cbr\\u003eGDP per capita=%{y}\\u003cextra\\u003e\\u003c\\u002fextra\\u003e\",\"hovertext\":[\"Mauritius\",\"Nigeria\",\"Zambia\",\"Somaliland region\",\"Mozambique\",\"Lesotho\",\"Swaziland\",\"South Africa\",\"Ghana\",\"Zimbabwe\",\"Liberia\",\"Sudan\",\"Congo (Kinshasa)\",\"Ethiopia\",\"Sierra Leone\",\"Mauritania\",\"Kenya\",\"Djibouti\",\"Botswana\",\"Malawi\",\"Cameroon\",\"Angola\",\"Mali\",\"Congo (Brazzaville)\",\"Comoros\",\"Uganda\",\"Senegal\",\"Gabon\",\"Niger\",\"Tanzania\",\"Madagascar\",\"Central African Republic\",\"Chad\",\"Guinea\",\"Ivory Coast\",\"Burkina Faso\",\"Rwanda\",\"Benin\",\"Burundi\",\"Togo\",\"Mauritius\",\"Somalia\",\"Somaliland Region\",\"Nigeria\",\"Zambia\",\"Sierra Leone\",\"Namibia\",\"Cameroon\",\"Ethiopia\",\"South Africa\",\"Kenya\",\"Ghana\",\"Congo (Kinshasa)\",\"Congo (Brazzaville)\",\"Senegal\",\"Mauritania\",\"Zimbabwe\",\"Malawi\",\"Sudan\",\"Gabon\",\"Mali\",\"Botswana\",\"Comoros\",\"Ivory Coast\",\"Angola\",\"Niger\",\"South Sudan\",\"Chad\",\"Burkina Faso\",\"Uganda\",\"Madagascar\",\"Tanzania\",\"Liberia\",\"Guinea\",\"Rwanda\",\"Benin\",\"Togo\",\"Burundi\"],\"legendgroup\":\"Sub-Saharan Africa\",\"marker\":{\"color\":\"#FF97FF\",\"size\":[5.477,5.268,5.129,5.057,4.971,4.898,4.867,4.642,4.633,4.61,4.571,4.55,4.517,4.512,4.507,4.436,4.419,4.369,4.332,4.292,4.252,4.033,3.995,3.989,3.956,3.931,3.904,3.896,3.845,3.781,3.681,3.678,3.667,3.656,3.655,3.587,3.465,3.34,2.905,2.839,5.648,5.44,5.057,4.875,4.795,4.635,4.574,4.513,4.508,4.459,4.356,4.276,4.272,4.236,4.219,4.201,4.193,4.156,4.139,4.121,4.073,3.974,3.956,3.916,3.866,3.856,3.832,3.763,3.739,3.739,3.695,3.666,3.622,3.607,3.515,3.484,3.303,2.905],\"sizemode\":\"area\",\"sizeref\":0.0194225,\"symbol\":\"circle\"},\"mode\":\"markers\",\"name\":\"Sub-Saharan Africa\",\"orientation\":\"h\",\"showlegend\":true,\"x\":[5.477,5.268,5.129,5.057,4.971,4.898,4.867,4.642,4.633,4.61,4.571,4.55,4.517,4.512,4.507,4.436,4.419,4.369,4.332,4.292,4.252,4.033,3.995,3.989,3.956,3.931,3.904,3.896,3.845,3.781,3.681,3.678,3.667,3.656,3.655,3.587,3.465,3.34,2.905,2.839,5.648,5.44,5.057,4.875,4.795,4.635,4.574,4.513,4.508,4.459,4.356,4.276,4.272,4.236,4.219,4.201,4.193,4.156,4.139,4.121,4.073,3.974,3.956,3.916,3.866,3.856,3.832,3.763,3.739,3.739,3.695,3.666,3.622,3.607,3.515,3.484,3.303,2.905],\"xaxis\":\"x\",\"y\":[1.00761,0.65435,0.47038,0.18847,0.08308,0.37545,0.71206,0.92049,0.54558,0.271,0.0712,0.52107,null,0.19073,0.33024,0.45407,0.36471,0.44025,0.99355,0.01604,0.4225,0.75778,0.26074,0.67866,0.23906,0.21102,0.36498,1.06024,0.0694,0.2852,0.20824,0.0785,0.34193,0.17417,0.46534,0.25812,0.22208,0.28665,0.0153,0.20868,1.14372,null,0.25558,0.75216,0.61202,0.36485,0.93287,0.52497,0.29283,1.02416,0.52267,0.63107,0.05661,0.77109,0.44314,0.61391,0.35041,0.08709,0.63069,1.15851,0.31292,1.09426,0.27509,0.55507,0.84731,0.1327,0.39394,0.42214,0.31995,0.34719,0.27954,0.47155,0.10706,0.22415,0.32846,0.39499,0.28123,0.06831],\"yaxis\":\"y\",\"type\":\"scatter\"},{\"hovertemplate\":\"\\u003cb\\u003e%{hovertext}\\u003c\\u002fb\\u003e\\u003cbr\\u003e\\u003cbr\\u003eRegion=Southern Asia\\u003cbr\\u003eHappiness Score=%{marker.size}\\u003cbr\\u003eGDP per capita=%{y}\\u003cextra\\u003e\\u003c\\u002fextra\\u003e\",\"hovertext\":[\"Bhutan\",\"Pakistan\",\"Bangladesh\",\"India\",\"Nepal\",\"Sri Lanka\",\"Afghanistan\",\"Bhutan\",\"Pakistan\",\"Nepal\",\"Bangladesh\",\"Sri Lanka\",\"India\",\"Afghanistan\"],\"legendgroup\":\"Southern Asia\",\"marker\":{\"color\":\"#FECB52\",\"size\":[5.253,5.194,4.694,4.565,4.514,4.271,3.575,5.196,5.132,4.793,4.643,4.415,4.404,3.36],\"sizemode\":\"area\",\"sizeref\":0.0194225,\"symbol\":\"circle\"},\"mode\":\"markers\",\"name\":\"Southern Asia\",\"orientation\":\"h\",\"showlegend\":true,\"x\":[5.253,5.194,4.694,4.565,4.514,4.271,3.575,5.196,5.132,4.793,4.643,4.415,4.404,3.36],\"xaxis\":\"x\",\"y\":[0.77042,0.59543,0.39753,0.64499,0.35997,0.83524,0.31982,0.8527,0.68816,0.44626,0.54177,0.97318,0.74036,0.38227],\"yaxis\":\"y\",\"type\":\"scatter\"}],                        {\"template\":{\"data\":{\"histogram2dcontour\":[{\"type\":\"histogram2dcontour\",\"colorbar\":{\"outlinewidth\":0,\"ticks\":\"\"},\"colorscale\":[[0.0,\"#0d0887\"],[0.1111111111111111,\"#46039f\"],[0.2222222222222222,\"#7201a8\"],[0.3333333333333333,\"#9c179e\"],[0.4444444444444444,\"#bd3786\"],[0.5555555555555556,\"#d8576b\"],[0.6666666666666666,\"#ed7953\"],[0.7777777777777778,\"#fb9f3a\"],[0.8888888888888888,\"#fdca26\"],[1.0,\"#f0f921\"]]}],\"choropleth\":[{\"type\":\"choropleth\",\"colorbar\":{\"outlinewidth\":0,\"ticks\":\"\"}}],\"histogram2d\":[{\"type\":\"histogram2d\",\"colorbar\":{\"outlinewidth\":0,\"ticks\":\"\"},\"colorscale\":[[0.0,\"#0d0887\"],[0.1111111111111111,\"#46039f\"],[0.2222222222222222,\"#7201a8\"],[0.3333333333333333,\"#9c179e\"],[0.4444444444444444,\"#bd3786\"],[0.5555555555555556,\"#d8576b\"],[0.6666666666666666,\"#ed7953\"],[0.7777777777777778,\"#fb9f3a\"],[0.8888888888888888,\"#fdca26\"],[1.0,\"#f0f921\"]]}],\"heatmap\":[{\"type\":\"heatmap\",\"colorbar\":{\"outlinewidth\":0,\"ticks\":\"\"},\"colorscale\":[[0.0,\"#0d0887\"],[0.1111111111111111,\"#46039f\"],[0.2222222222222222,\"#7201a8\"],[0.3333333333333333,\"#9c179e\"],[0.4444444444444444,\"#bd3786\"],[0.5555555555555556,\"#d8576b\"],[0.6666666666666666,\"#ed7953\"],[0.7777777777777778,\"#fb9f3a\"],[0.8888888888888888,\"#fdca26\"],[1.0,\"#f0f921\"]]}],\"heatmapgl\":[{\"type\":\"heatmapgl\",\"colorbar\":{\"outlinewidth\":0,\"ticks\":\"\"},\"colorscale\":[[0.0,\"#0d0887\"],[0.1111111111111111,\"#46039f\"],[0.2222222222222222,\"#7201a8\"],[0.3333333333333333,\"#9c179e\"],[0.4444444444444444,\"#bd3786\"],[0.5555555555555556,\"#d8576b\"],[0.6666666666666666,\"#ed7953\"],[0.7777777777777778,\"#fb9f3a\"],[0.8888888888888888,\"#fdca26\"],[1.0,\"#f0f921\"]]}],\"contourcarpet\":[{\"type\":\"contourcarpet\",\"colorbar\":{\"outlinewidth\":0,\"ticks\":\"\"}}],\"contour\":[{\"type\":\"contour\",\"colorbar\":{\"outlinewidth\":0,\"ticks\":\"\"},\"colorscale\":[[0.0,\"#0d0887\"],[0.1111111111111111,\"#46039f\"],[0.2222222222222222,\"#7201a8\"],[0.3333333333333333,\"#9c179e\"],[0.4444444444444444,\"#bd3786\"],[0.5555555555555556,\"#d8576b\"],[0.6666666666666666,\"#ed7953\"],[0.7777777777777778,\"#fb9f3a\"],[0.8888888888888888,\"#fdca26\"],[1.0,\"#f0f921\"]]}],\"surface\":[{\"type\":\"surface\",\"colorbar\":{\"outlinewidth\":0,\"ticks\":\"\"},\"colorscale\":[[0.0,\"#0d0887\"],[0.1111111111111111,\"#46039f\"],[0.2222222222222222,\"#7201a8\"],[0.3333333333333333,\"#9c179e\"],[0.4444444444444444,\"#bd3786\"],[0.5555555555555556,\"#d8576b\"],[0.6666666666666666,\"#ed7953\"],[0.7777777777777778,\"#fb9f3a\"],[0.8888888888888888,\"#fdca26\"],[1.0,\"#f0f921\"]]}],\"mesh3d\":[{\"type\":\"mesh3d\",\"colorbar\":{\"outlinewidth\":0,\"ticks\":\"\"}}],\"scatter\":[{\"fillpattern\":{\"fillmode\":\"overlay\",\"size\":10,\"solidity\":0.2},\"type\":\"scatter\"}],\"parcoords\":[{\"type\":\"parcoords\",\"line\":{\"colorbar\":{\"outlinewidth\":0,\"ticks\":\"\"}}}],\"scatterpolargl\":[{\"type\":\"scatterpolargl\",\"marker\":{\"colorbar\":{\"outlinewidth\":0,\"ticks\":\"\"}}}],\"bar\":[{\"error_x\":{\"color\":\"#2a3f5f\"},\"error_y\":{\"color\":\"#2a3f5f\"},\"marker\":{\"line\":{\"color\":\"#E5ECF6\",\"width\":0.5},\"pattern\":{\"fillmode\":\"overlay\",\"size\":10,\"solidity\":0.2}},\"type\":\"bar\"}],\"scattergeo\":[{\"type\":\"scattergeo\",\"marker\":{\"colorbar\":{\"outlinewidth\":0,\"ticks\":\"\"}}}],\"scatterpolar\":[{\"type\":\"scatterpolar\",\"marker\":{\"colorbar\":{\"outlinewidth\":0,\"ticks\":\"\"}}}],\"histogram\":[{\"marker\":{\"pattern\":{\"fillmode\":\"overlay\",\"size\":10,\"solidity\":0.2}},\"type\":\"histogram\"}],\"scattergl\":[{\"type\":\"scattergl\",\"marker\":{\"colorbar\":{\"outlinewidth\":0,\"ticks\":\"\"}}}],\"scatter3d\":[{\"type\":\"scatter3d\",\"line\":{\"colorbar\":{\"outlinewidth\":0,\"ticks\":\"\"}},\"marker\":{\"colorbar\":{\"outlinewidth\":0,\"ticks\":\"\"}}}],\"scattermapbox\":[{\"type\":\"scattermapbox\",\"marker\":{\"colorbar\":{\"outlinewidth\":0,\"ticks\":\"\"}}}],\"scatterternary\":[{\"type\":\"scatterternary\",\"marker\":{\"colorbar\":{\"outlinewidth\":0,\"ticks\":\"\"}}}],\"scattercarpet\":[{\"type\":\"scattercarpet\",\"marker\":{\"colorbar\":{\"outlinewidth\":0,\"ticks\":\"\"}}}],\"carpet\":[{\"aaxis\":{\"endlinecolor\":\"#2a3f5f\",\"gridcolor\":\"white\",\"linecolor\":\"white\",\"minorgridcolor\":\"white\",\"startlinecolor\":\"#2a3f5f\"},\"baxis\":{\"endlinecolor\":\"#2a3f5f\",\"gridcolor\":\"white\",\"linecolor\":\"white\",\"minorgridcolor\":\"white\",\"startlinecolor\":\"#2a3f5f\"},\"type\":\"carpet\"}],\"table\":[{\"cells\":{\"fill\":{\"color\":\"#EBF0F8\"},\"line\":{\"color\":\"white\"}},\"header\":{\"fill\":{\"color\":\"#C8D4E3\"},\"line\":{\"color\":\"white\"}},\"type\":\"table\"}],\"barpolar\":[{\"marker\":{\"line\":{\"color\":\"#E5ECF6\",\"width\":0.5},\"pattern\":{\"fillmode\":\"overlay\",\"size\":10,\"solidity\":0.2}},\"type\":\"barpolar\"}],\"pie\":[{\"automargin\":true,\"type\":\"pie\"}]},\"layout\":{\"autotypenumbers\":\"strict\",\"colorway\":[\"#636efa\",\"#EF553B\",\"#00cc96\",\"#ab63fa\",\"#FFA15A\",\"#19d3f3\",\"#FF6692\",\"#B6E880\",\"#FF97FF\",\"#FECB52\"],\"font\":{\"color\":\"#2a3f5f\"},\"hovermode\":\"closest\",\"hoverlabel\":{\"align\":\"left\"},\"paper_bgcolor\":\"white\",\"plot_bgcolor\":\"#E5ECF6\",\"polar\":{\"bgcolor\":\"#E5ECF6\",\"angularaxis\":{\"gridcolor\":\"white\",\"linecolor\":\"white\",\"ticks\":\"\"},\"radialaxis\":{\"gridcolor\":\"white\",\"linecolor\":\"white\",\"ticks\":\"\"}},\"ternary\":{\"bgcolor\":\"#E5ECF6\",\"aaxis\":{\"gridcolor\":\"white\",\"linecolor\":\"white\",\"ticks\":\"\"},\"baxis\":{\"gridcolor\":\"white\",\"linecolor\":\"white\",\"ticks\":\"\"},\"caxis\":{\"gridcolor\":\"white\",\"linecolor\":\"white\",\"ticks\":\"\"}},\"coloraxis\":{\"colorbar\":{\"outlinewidth\":0,\"ticks\":\"\"}},\"colorscale\":{\"sequential\":[[0.0,\"#0d0887\"],[0.1111111111111111,\"#46039f\"],[0.2222222222222222,\"#7201a8\"],[0.3333333333333333,\"#9c179e\"],[0.4444444444444444,\"#bd3786\"],[0.5555555555555556,\"#d8576b\"],[0.6666666666666666,\"#ed7953\"],[0.7777777777777778,\"#fb9f3a\"],[0.8888888888888888,\"#fdca26\"],[1.0,\"#f0f921\"]],\"sequentialminus\":[[0.0,\"#0d0887\"],[0.1111111111111111,\"#46039f\"],[0.2222222222222222,\"#7201a8\"],[0.3333333333333333,\"#9c179e\"],[0.4444444444444444,\"#bd3786\"],[0.5555555555555556,\"#d8576b\"],[0.6666666666666666,\"#ed7953\"],[0.7777777777777778,\"#fb9f3a\"],[0.8888888888888888,\"#fdca26\"],[1.0,\"#f0f921\"]],\"diverging\":[[0,\"#8e0152\"],[0.1,\"#c51b7d\"],[0.2,\"#de77ae\"],[0.3,\"#f1b6da\"],[0.4,\"#fde0ef\"],[0.5,\"#f7f7f7\"],[0.6,\"#e6f5d0\"],[0.7,\"#b8e186\"],[0.8,\"#7fbc41\"],[0.9,\"#4d9221\"],[1,\"#276419\"]]},\"xaxis\":{\"gridcolor\":\"white\",\"linecolor\":\"white\",\"ticks\":\"\",\"title\":{\"standoff\":15},\"zerolinecolor\":\"white\",\"automargin\":true,\"zerolinewidth\":2},\"yaxis\":{\"gridcolor\":\"white\",\"linecolor\":\"white\",\"ticks\":\"\",\"title\":{\"standoff\":15},\"zerolinecolor\":\"white\",\"automargin\":true,\"zerolinewidth\":2},\"scene\":{\"xaxis\":{\"backgroundcolor\":\"#E5ECF6\",\"gridcolor\":\"white\",\"linecolor\":\"white\",\"showbackground\":true,\"ticks\":\"\",\"zerolinecolor\":\"white\",\"gridwidth\":2},\"yaxis\":{\"backgroundcolor\":\"#E5ECF6\",\"gridcolor\":\"white\",\"linecolor\":\"white\",\"showbackground\":true,\"ticks\":\"\",\"zerolinecolor\":\"white\",\"gridwidth\":2},\"zaxis\":{\"backgroundcolor\":\"#E5ECF6\",\"gridcolor\":\"white\",\"linecolor\":\"white\",\"showbackground\":true,\"ticks\":\"\",\"zerolinecolor\":\"white\",\"gridwidth\":2}},\"shapedefaults\":{\"line\":{\"color\":\"#2a3f5f\"}},\"annotationdefaults\":{\"arrowcolor\":\"#2a3f5f\",\"arrowhead\":0,\"arrowwidth\":1},\"geo\":{\"bgcolor\":\"white\",\"landcolor\":\"#E5ECF6\",\"subunitcolor\":\"white\",\"showland\":true,\"showlakes\":true,\"lakecolor\":\"white\"},\"title\":{\"x\":0.05},\"mapbox\":{\"style\":\"light\"}}},\"xaxis\":{\"anchor\":\"y\",\"domain\":[0.0,1.0],\"title\":{\"text\":\"Happiness Score\"}},\"yaxis\":{\"anchor\":\"x\",\"domain\":[0.0,1.0],\"title\":{\"text\":\"GDP per capita\"}},\"legend\":{\"title\":{\"text\":\"Region\"},\"tracegroupgap\":0,\"itemsizing\":\"constant\"},\"title\":{\"text\":\"Global Happiness Score v GDP Per Capita by Region\"}},                        {\"responsive\": true}                    ).then(function(){\n",
       "                            \n",
       "var gd = document.getElementById('12532c2e-66ab-4a33-a910-81e493ae2155');\n",
       "var x = new MutationObserver(function (mutations, observer) {{\n",
       "        var display = window.getComputedStyle(gd).display;\n",
       "        if (!display || display === 'none') {{\n",
       "            console.log([gd, 'removed!']);\n",
       "            Plotly.purge(gd);\n",
       "            observer.disconnect();\n",
       "        }}\n",
       "}});\n",
       "\n",
       "// Listen for the removal of the full notebook cells\n",
       "var notebookContainer = gd.closest('#notebook-container');\n",
       "if (notebookContainer) {{\n",
       "    x.observe(notebookContainer, {childList: true});\n",
       "}}\n",
       "\n",
       "// Listen for the clearing of the current output cell\n",
       "var outputEl = gd.closest('.output');\n",
       "if (outputEl) {{\n",
       "    x.observe(outputEl, {childList: true});\n",
       "}}\n",
       "\n",
       "                        })                };                });            </script>        </div>"
      ]
     },
     "metadata": {},
     "output_type": "display_data"
    }
   ],
   "source": [
    "# Interactive scatter plot, doesn't work in PDF format :(\n",
    "fig = px.scatter(\n",
    "    cleaned_df, \n",
    "    x='Happiness Score', \n",
    "    y='GDP per capita', \n",
    "    color='Region',\n",
    "    hover_name='Country',\n",
    "    size='Happiness Score',\n",
    "    title='Global Happiness Score v GDP Per Capita by Region'\n",
    ")\n",
    "fig.show()"
   ]
  },
  {
   "cell_type": "markdown",
   "id": "ea5bb814-45ec-449d-9c5f-0823df647f2e",
   "metadata": {},
   "source": [
    "Alas, a similar relationship can be seen, but this time due to a higher variance of values we can see a few outliers from the Middle East and Northern Africa making an appearance in both lower and upper quartiles of the Happiness Score range.\n",
    "\n",
    "To further understand the relationships between Happiness Score and the other key metrics, we can build a matrix to reveal the strength and direction of relationships between the variables, providing insights into which predictors align most closely with happiness.\n",
    "\n",
    "Let's have a look at correlations via a heatmap relating the 6 key metrics that contribute to the Happiness Score:"
   ]
  },
  {
   "cell_type": "code",
   "execution_count": 109,
   "id": "b4496bf4-3465-4898-88f9-a57e250a5de1",
   "metadata": {},
   "outputs": [
    {
     "data": {
      "image/png": "[encoded data removed]",
      "text/plain": [
       "<Figure size 1000x800 with 2 Axes>"
      ]
     },
     "metadata": {},
     "output_type": "display_data"
    }
   ],
   "source": [
    "# Correlation heatmap between 6 key metrics\n",
    "correlation_matrix = cleaned_df[['Happiness Score', 'GDP per capita', \n",
    "                         'Family', 'Generosity',\n",
    "                         'Life Expectancy', \n",
    "                         'Freedom', 'Trust in Government']].corr()\n",
    "\n",
    "plt.figure(figsize=(10, 8))\n",
    "sns.heatmap(correlation_matrix, annot=True, cmap='coolwarm')\n",
    "plt.title('Happiness Score Correlation Factors')\n",
    "plt.tight_layout()\n",
    "plt.show()"
   ]
  },
  {
   "cell_type": "markdown",
   "id": "917bcb9c-a7a7-4d72-810d-3049e23f93ed",
   "metadata": {},
   "source": [
    "The matrix shows that GDP per Capita has the highest correlation with Happiness Score (\\(r = 0.79\\)), playing a central role in predicting national well-being in this model of happiness. Life Expectancy is the second-highest correlate (\\(r = 0.74\\)), underscoring the importance of health in every day life. \n",
    "\n",
    "Both metrics demonstrate strong, positive relationships with Happiness Score, and with each other.\n",
    "\n",
    "Family (Social Support) also has a meaningful correlation with Happiness Score at (\\(r = 0.64\\)), highlighting the critical role of social bonds. Freedom to make life choices correlates moderately with Happiness Score (\\(r = 0.54\\)), indicating that while economic and health factors dominate, personal freedoms are also significant contributors.\n",
    "\n",
    "Other metrics, such as Trust in Government (\\(r = 0.40\\)) and Generosity (\\(r = 0.14\\)), show weaker but still positive correlations. These results suggest that, while perceptions of corruption and altruistic behaviours contribute to happiness, their impact is less pronounced compared to GDP per capita, health, and social support.\n",
    "\n",
    "Interestingly, GDP per Capita also exhibits a strong correlation with Life Expectancy (\\(r = 0.78\\)) and a moderate correlation with Family (\\(r = 0.57\\)). Generosity, however, shows almost no correlation with GDP (\\(r = -0.002\\)), indicating that it operates independently of economic factors.\n",
    "\n",
    "The correlation matrix confirms that economic and health-related metrics dominate as predictors of Happiness Score. \n",
    "\n",
    "To further the meaning of these findings, we can couple them with a regression test to see if we can confirm that economic prosperity (GDP per Capita), health (Life Expectancy), and personal freedom are the strongest predictors of national happiness."
   ]
  },
  {
   "cell_type": "code",
   "execution_count": 110,
   "id": "2385f29e-8973-417d-a73a-13c5cfe15041",
   "metadata": {},
   "outputs": [
    {
     "name": "stdout",
     "output_type": "stream",
     "text": [
      "                            OLS Regression Results                            \n",
      "==============================================================================\n",
      "Dep. Variable:        Happiness Score   R-squared:                       0.762\n",
      "Model:                            OLS   Adj. R-squared:                  0.761\n",
      "Method:                 Least Squares   F-statistic:                     398.0\n",
      "Date:                Thu, 02 Jan 2025   Prob (F-statistic):          2.39e-228\n",
      "Time:                        23:53:30   Log-Likelihood:                -612.28\n",
      "No. Observations:                 751   AIC:                             1239.\n",
      "Df Residuals:                     744   BIC:                             1271.\n",
      "Df Model:                           6                                         \n",
      "Covariance Type:            nonrobust                                         \n",
      "=======================================================================================\n",
      "                          coef    std err          t      P>|t|      [0.025      0.975]\n",
      "---------------------------------------------------------------------------------------\n",
      "const                   2.1252      0.084     25.246      0.000       1.960       2.291\n",
      "GDP per capita          1.1798      0.086     13.762      0.000       1.012       1.348\n",
      "Life Expectancy         1.0425      0.138      7.542      0.000       0.771       1.314\n",
      "Freedom                 1.4062      0.173      8.122      0.000       1.066       1.746\n",
      "Trust in Government     0.8045      0.227      3.547      0.000       0.359       1.250\n",
      "Generosity              0.5964      0.178      3.343      0.001       0.246       0.947\n",
      "Family                  0.6630      0.084      7.861      0.000       0.497       0.829\n",
      "==============================================================================\n",
      "Omnibus:                       15.052   Durbin-Watson:                   1.502\n",
      "Prob(Omnibus):                  0.001   Jarque-Bera (JB):               16.150\n",
      "Skew:                          -0.298   Prob(JB):                     0.000311\n",
      "Kurtosis:                       3.401   Cond. No.                         24.0\n",
      "==============================================================================\n",
      "\n",
      "Notes:\n",
      "[1] Standard Errors assume that the covariance matrix of the errors is correctly specified.\n"
     ]
    }
   ],
   "source": [
    "#First we convert all columns except 'Country' and 'Region' to numerical values\n",
    "columns_convert = ['Happiness Rank', 'Happiness Score', 'GDP per capita', 'Family', 'Generosity', 'Life Expectancy', 'Freedom', 'Trust in Government']\n",
    "cleaned_df[columns_convert] = cleaned_df[columns_convert].apply(pd.to_numeric, errors='coerce')\n",
    "\n",
    "# Then we drop rows with NaN values so there is no missing data and create a new DataFrame num_df\n",
    "num_df = cleaned_df.dropna(subset=key_metrics)\n",
    "\n",
    "import statsmodels.api as sm\n",
    "\n",
    "# We can now define dependent and independent variables\n",
    "X = num_df[[\"GDP per capita\", \"Life Expectancy\", \"Freedom\", \"Trust in Government\", \"Generosity\", \"Family\"]]\n",
    "y = num_df[\"Happiness Score\"]\n",
    "\n",
    "# Then add a constant for the intercept\n",
    "X = sm.add_constant(X)\n",
    "\n",
    "# Fit the regression model\n",
    "model = sm.OLS(y, X).fit()\n",
    "\n",
    "# And finally display summary of the model\n",
    "print(model.summary())"
   ]
  },
  {
   "cell_type": "markdown",
   "id": "8e7385b0-991b-49b1-8746-750ecd81cabc",
   "metadata": {},
   "source": [
    "The regression analysis reveals that GDP per Capita, Life Expectancy, Freedom, Trust in Government, Generosity, and Family (Social Support) all significantly contribute to the Happiness Score.\n",
    "\n",
    "This is expected since these are the variables that were pre-selected to explain the self-reporting in happiness in the first place. \n",
    "\n",
    "The R-squared value of 0.762 means that the model explains approximately 76.2% of the variability in Happiness Score, indicating a strong fit.\n",
    "\n",
    "More importantly among these, GDP per Capita emerges as the strongest predictor, explaining a substantial portion of the variability in happiness across countries. \n",
    "Although Freedom has the largest per-unit effect with a coefficient of 1.41, GDP per Capita has a slightly smaller coefficient of 1.18 but exerts a greater overall influence due to **total impact**.\n",
    "\n",
    "The strength of a predictor is determined not just by its coefficient but also by the variability of the predictor across the dataset. GDP per Capita spans a much wider range compared to Freedom, allowing it to have a larger impact. The total impact of a predictor can be calculated using the formula:\n",
    "\n",
    "\\[\n",
    "\\text{Impact} = \\text{Coefficient} \\times \\text{Range of Predictor Values}\n",
    "\\]\n",
    "\n",
    "For GDP per Capita, the wider range amplifies its overall contribution to the variability in Happiness Score, despite its slightly smaller coefficient. In contrast, Freedom, while impactful on a per-unit basis, has a smaller range in the dataset, which reduces its total explanatory power.\n",
    "\n",
    "This finding highlights the importance of economic prosperity as a foundational factor for national happiness. \n",
    "Health, as measured by Life Expectancy, and Freedom to make life choices also play significant roles. \n",
    "\n",
    "To further explore the role of GDP per Capita in predicting happiness, an ANOVA test should be conducted to compare the full regression model with a reduced model that excludes GDP per Capita. \n",
    "\n",
    "This test will evaluate whether removing GDP per Capita significantly reduces the explanatory power of the model, or if on the other hand reinforces its influence!\n"
   ]
  },
  {
   "cell_type": "code",
   "execution_count": 111,
   "id": "ceb511af-b635-4305-9629-e9034c7ef1ad",
   "metadata": {},
   "outputs": [
    {
     "name": "stdout",
     "output_type": "stream",
     "text": [
      "   df_resid         ssr  df_diff    ss_diff           F        Pr(>F)\n",
      "0     745.0  281.713556      0.0        NaN         NaN           NaN\n",
      "1     744.0  224.553275      1.0  57.160281  189.386012  1.487440e-38\n"
     ]
    }
   ],
   "source": [
    "from statsmodels.stats.anova import anova_lm\n",
    "\n",
    "# Fit models for comparison\n",
    "model = sm.OLS(y, X).fit()\n",
    "reduced_model = sm.OLS(y, X.drop(columns=[\"GDP per capita\"])).fit()\n",
    "\n",
    "# Compare models using ANOVA\n",
    "anova_results = anova_lm(reduced_model, model)\n",
    "print(anova_results)"
   ]
  },
  {
   "cell_type": "markdown",
   "id": "e66cc62a-c41a-435a-8e0a-088aaa213cf3",
   "metadata": {},
   "source": [
    "### Why This Matters\n",
    "\n",
    "The results from the ANOVA test strongly support the hypothesis that GDP per Capita is a key predictor of citizen happiness. By comparing the reduced model without GDP per Capita to the full model, we can see a significant reduction in the residual sum of squares (SSR). This shows that GDP per Capita accounts for a meaningful portion of the variability in the Happiness Score that cannot be explained by the remaining predictors.\n",
    "\n",
    "The F-statistic of 189.39 and corresponding p-value show that the improvement in the model when GDP per Capita is included is highly statistically significant. This confirms that GDP per Capita adds meaningful explanatory power and strengthens the model’s ability to predict happiness.\n",
    "\n",
    "Excluding GDP per Capita would lead to a weaker model, thus reinforcing the importance of considering economic factors when analysing global happiness.\n",
    "\n",
    "---\n",
    "\n",
    "### Bias Consideration\n",
    "While the results validate GDP per Capita’s role as a significant predictor, I need to ensure that its importance isn’t overstated. Economic metrics often correlate with other factors like Life Expectancy or Freedom, which could inflate its perceived contribution due to multicollinearity.\n",
    "\n",
    "It’s also worth considering how GDP per Capita interacts with other variables. For instance, wealthier countries may naturally have better healthcare systems (affecting Life Expectancy) or higher perceptions of personal freedom. These interactions might make GDP per Capita appear more influential than it is in isolation. By accounting for these potential biases, we can draw more nuanced conclusions about the role of economic prosperity in shaping happiness.\n",
    "\n",
    "\n",
    "---\n",
    "\n",
    "### Conclusion - What is Happiness?\n",
    "\n",
    "This hypothesis testing exercise provides strong evidence for including GDP per Capita in models of happiness. However, to fully understand its role, we must consider the interplay with other predictors beyond the scope of The Happiness Report model and remain mindful of potential biases. \n",
    "\n",
    "While GDP per Capita is a significant predictor in this Happiness model, and we can generally say that \"average citizen hapiness is positively correlated with GDP per capita\", these results alone do not prove that it is the **“best” predictor**. It is the best predictor only within the context of this Happiness Score model, a model that accounts for a very limited number of variables using a very specific self-reporting methodology.\n",
    "\n",
    "The word ‘happiness’ itself can have diferent meanings for each and every one of us.\n",
    "Traditionally, happiness has been described as an individual’s satisfaction with their own life, with a balance between positive and negative emotions. We can generally define happiness as the degree to which a person evaluates the overall quality of their own life as a whole. Another possibility is to describe happiness as the degree of the fulfilment of one’s basic needs ([Synek, Petr & Tužil, 2020](https://www.researchgate.net/publication/343255643_How_to_be_happy_analysis_based_on_3438_primary_studies/citation/download)).\n",
    "\n",
    "Other camps of academic literature tend to prefer the term 'well-being' over 'happiness', and different uses of language hold its own hidden premises and biases.\n",
    "\n",
    "As a final word, there are inumerable other variables that are not being accounted for in The World Happiness Report, some of which are truly hard to quantify such as the subjective meaningfulness of one's life, the quality and longevity of close relationships - the kinds of subjective factors that should be considered, as our own experience of happiness can attest to.\n",
    "\n",
    "May all beings be happy!\n",
    "\n",
    "## FIN"
   ]
  },
  {
   "cell_type": "code",
   "execution_count": null,
   "id": "01159d19-be45-4bca-96ef-8b1cc9004646",
   "metadata": {},
   "outputs": [],
   "source": []
  }
 ],
 "metadata": {
  "kernelspec": {
   "display_name": "Python 3 (ipykernel)",
   "language": "python",
   "name": "python3"
  },
  "language_info": {
   "codemirror_mode": {
    "name": "ipython",
    "version": 3
   },
   "file_extension": ".py",
   "mimetype": "text/x-python",
   "name": "python",
   "nbconvert_exporter": "python",
   "pygments_lexer": "ipython3",
   "version": "3.11.6"
  }
 },
 "nbformat": 4,
 "nbformat_minor": 5
}
